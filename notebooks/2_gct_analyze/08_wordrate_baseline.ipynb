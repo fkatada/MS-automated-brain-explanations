{
 "cells": [
  {
   "cell_type": "code",
   "execution_count": null,
   "metadata": {},
   "outputs": [],
   "source": [
    "%load_ext autoreload\n",
    "%autoreload 2\n",
    "import sys\n",
    "import pandas as pd\n",
    "import os\n",
    "import matplotlib.pyplot as plt\n",
    "import cortex\n",
    "import seaborn as sns\n",
    "from os.path import join\n",
    "from collections import defaultdict\n",
    "import numpy as np\n",
    "from sklearn.preprocessing import StandardScaler\n",
    "import joblib\n",
    "import dvu\n",
    "from copy import deepcopy\n",
    "import sys\n",
    "from numpy import ceil\n",
    "sys.path.append('../notebooks')\n",
    "from tqdm import tqdm\n",
    "from neuro import config\n",
    "from neuro.features.qa_questions import get_questions, get_merged_questions_v3_boostexamples\n",
    "import neuro.viz\n",
    "from PIL import Image\n",
    "from neuro.flatmaps_helper import load_flatmaps, load_custom_rois\n",
    "from neuro import analyze_helper"
   ]
  },
  {
   "cell_type": "code",
   "execution_count": 44,
   "metadata": {},
   "outputs": [],
   "source": [
    "res = defaultdict(list)\n",
    "for model in ['llama_model', 'opt_model']:\n",
    "    for subject in ['S01', 'S02', 'S03']:\n",
    "        if not os.path.exists(join(config.SAVE_DIR_FMRI, model, 'voxel_performances', f'UT{subject}_voxel_performance.jbl')):\n",
    "            print(f\"Voxel performance file for {subj} does not exist. Please run the analysis first.\")\n",
    "            sys.exit(1)\n",
    "        voxel_perfs = joblib.load(join(config.SAVE_DIR_FMRI, model, 'voxel_performances', f'UT{subject}_voxel_performance.jbl'))\n",
    "        if model == 'llama_model':\n",
    "            voxel_perfs = voxel_perfs[0]\n",
    "        res['subject'].append(subject)\n",
    "        res['corrs_test_mean'].append(voxel_perfs.mean())\n",
    "\n",
    "        # neuro.viz.quickshow(voxel_perfs, vmin=-0.4, vmax=0.4, fname_save=f'wordrate_baseline/{subject}_{model}.png')\n",
    "        res['model'].append(model)"
   ]
  },
  {
   "cell_type": "code",
   "execution_count": null,
   "metadata": {},
   "outputs": [],
   "source": [
    "results_dir = '/home/chansingh/mntv1/deep-fMRI/encoding/jul15_2025_wordrate_baseline'\n",
    "rr, cols_varied, mets = analyze_helper.load_clean_results(results_dir)"
   ]
  },
  {
   "cell_type": "code",
   "execution_count": null,
   "metadata": {},
   "outputs": [],
   "source": [
    "for subject in rr['subject'].unique():\n",
    "    neuro.viz.quickshow(\n",
    "        rr[rr['subject'] == subject]['corrs_test'].values[0],\n",
    "        subject=subject,\n",
    "        fname_save=f'wordrate_baseline/{subject}_wordrate.png',\n",
    "        vmin=-0.4, vmax=0.4,\n",
    "    )"
   ]
  },
  {
   "cell_type": "code",
   "execution_count": 50,
   "metadata": {},
   "outputs": [
    {
     "name": "stderr",
     "output_type": "stream",
     "text": [
      "/tmp/ipykernel_2679456/801879030.py:3: SettingWithCopyWarning: \n",
      "A value is trying to be set on a copy of a slice from a DataFrame.\n",
      "Try using .loc[row_indexer,col_indexer] = value instead\n",
      "\n",
      "See the caveats in the documentation: https://pandas.pydata.org/pandas-docs/stable/user_guide/indexing.html#returning-a-view-versus-a-copy\n",
      "  res_wr['model'] = 'word-rate'\n"
     ]
    }
   ],
   "source": [
    "res = pd.DataFrame(res)\n",
    "res_wr = rr[['subject', 'corrs_test_mean']]\n",
    "res_wr['model'] = 'word-rate'\n",
    "res = pd.concat([res, res_wr], ignore_index=True)"
   ]
  },
  {
   "cell_type": "code",
   "execution_count": 63,
   "metadata": {},
   "outputs": [
    {
     "name": "stdout",
     "output_type": "stream",
     "text": [
      "\\begin{tabular}{lrrr}\n",
      "\\toprule\n",
      "subject & S01 & S02 & S03 \\\\\n",
      "model &  &  &  \\\\\n",
      "\\midrule\n",
      "llama_model & 0.08 & 0.15 & 0.17 \\\\\n",
      "opt_model & 0.08 & 0.14 & 0.16 \\\\\n",
      "word-rate & 0.04 & 0.03 & 0.03 \\\\\n",
      "\\bottomrule\n",
      "\\end{tabular}\n",
      "\n"
     ]
    }
   ],
   "source": [
    "print(\n",
    "    res.pivot(index='model', columns='subject', values='corrs_test_mean')\n",
    "    .to_latex(float_format='%.2f')\n",
    ")"
   ]
  }
 ],
 "metadata": {
  "kernelspec": {
   "display_name": ".venv",
   "language": "python",
   "name": "python3"
  },
  "language_info": {
   "codemirror_mode": {
    "name": "ipython",
    "version": 3
   },
   "file_extension": ".py",
   "mimetype": "text/x-python",
   "name": "python",
   "nbconvert_exporter": "python",
   "pygments_lexer": "ipython3",
   "version": "3.12.3"
  },
  "orig_nbformat": 4
 },
 "nbformat": 4,
 "nbformat_minor": 2
}
