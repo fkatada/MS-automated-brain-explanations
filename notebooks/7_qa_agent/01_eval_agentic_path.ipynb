{
 "cells": [
  {
   "cell_type": "code",
   "execution_count": 1,
   "metadata": {},
   "outputs": [
    {
     "ename": "FileNotFoundError",
     "evalue": "[Errno 2] No such file or directory: '/home/chansingh/mntv1/deep-fMRI/encoding/jul24_2025_agentic_test'",
     "output_type": "error",
     "traceback": [
      "\u001b[31m---------------------------------------------------------------------------\u001b[39m",
      "\u001b[31mFileNotFoundError\u001b[39m                         Traceback (most recent call last)",
      "\u001b[36mCell\u001b[39m\u001b[36m \u001b[39m\u001b[32mIn[1]\u001b[39m\u001b[32m, line 27\u001b[39m\n\u001b[32m     24\u001b[39m dvu.set_style()\n\u001b[32m     26\u001b[39m results_dir = \u001b[33m'\u001b[39m\u001b[33m/home/chansingh/mntv1/deep-fMRI/encoding/jul24_2025_agentic_test\u001b[39m\u001b[33m'\u001b[39m\n\u001b[32m---> \u001b[39m\u001b[32m27\u001b[39m rr, cols_varied, mets = \u001b[43manalyze_helper\u001b[49m\u001b[43m.\u001b[49m\u001b[43mload_clean_results\u001b[49m\u001b[43m(\u001b[49m\u001b[43mresults_dir\u001b[49m\u001b[43m)\u001b[49m\n\u001b[32m     28\u001b[39m \u001b[38;5;66;03m# joblib.dump({'r': rr, 'cols_varied': cols_varied, 'mets': mets}, 'results_best_ensemble.pkl')\u001b[39;00m\n\u001b[32m     29\u001b[39m \u001b[38;5;66;03m# data = joblib.load(join(config.RESULTS_DIR_LOCAL, 'results_best_ensemble.pkl'))\u001b[39;00m\n\u001b[32m     30\u001b[39m \u001b[38;5;66;03m# rr, cols_varied, mets = data['r'], data['cols_varied'], data['mets']\u001b[39;00m\n\u001b[32m     31\u001b[39m metric_sort = \u001b[33m'\u001b[39m\u001b[33mcorrs_tune_pc_weighted_mean\u001b[39m\u001b[33m'\u001b[39m\n",
      "\u001b[36mFile \u001b[39m\u001b[32m~/automated-brain-explanations/neuro/analyze_helper.py:71\u001b[39m, in \u001b[36mload_clean_results\u001b[39m\u001b[34m(results_dir, experiment_filename)\u001b[39m\n\u001b[32m     69\u001b[39m \u001b[38;5;28;01mdef\u001b[39;00m\u001b[38;5;250m \u001b[39m\u001b[34mload_clean_results\u001b[39m(results_dir, experiment_filename=\u001b[33m'\u001b[39m\u001b[33m../experiments/02_fit_encoding.py\u001b[39m\u001b[33m'\u001b[39m):\n\u001b[32m     70\u001b[39m     \u001b[38;5;66;03m# load the results in to a pandas dataframe\u001b[39;00m\n\u001b[32m---> \u001b[39m\u001b[32m71\u001b[39m     r = \u001b[43mimodelsx\u001b[49m\u001b[43m.\u001b[49m\u001b[43mprocess_results\u001b[49m\u001b[43m.\u001b[49m\u001b[43mget_results_df\u001b[49m\u001b[43m(\u001b[49m\u001b[43mresults_dir\u001b[49m\u001b[43m)\u001b[49m\n\u001b[32m     72\u001b[39m     r = imodelsx.process_results.fill_missing_args_with_default(\n\u001b[32m     73\u001b[39m         r, experiment_filename)\n\u001b[32m     74\u001b[39m     \u001b[38;5;28;01mfor\u001b[39;00m k \u001b[38;5;129;01min\u001b[39;00m [\u001b[33m'\u001b[39m\u001b[33msave_dir\u001b[39m\u001b[33m'\u001b[39m, \u001b[33m'\u001b[39m\u001b[33msave_dir_unique\u001b[39m\u001b[33m'\u001b[39m]:\n",
      "\u001b[36mFile \u001b[39m\u001b[32m~/imodelsX/imodelsx/process_results.py:28\u001b[39m, in \u001b[36mget_results_df\u001b[39m\u001b[34m(results_dir, use_cached, results_fname, save_pickle)\u001b[39m\n\u001b[32m     23\u001b[39m \u001b[38;5;28;01mif\u001b[39;00m use_cached \u001b[38;5;129;01mand\u001b[39;00m os.path.exists(fname):\n\u001b[32m     24\u001b[39m     \u001b[38;5;28;01mreturn\u001b[39;00m pd.read_pickle(fname)\n\u001b[32m     25\u001b[39m dir_names = \u001b[38;5;28msorted\u001b[39m(\n\u001b[32m     26\u001b[39m     [\n\u001b[32m     27\u001b[39m         fname\n\u001b[32m---> \u001b[39m\u001b[32m28\u001b[39m         \u001b[38;5;28;01mfor\u001b[39;00m fname \u001b[38;5;129;01min\u001b[39;00m \u001b[43mos\u001b[49m\u001b[43m.\u001b[49m\u001b[43mlistdir\u001b[49m\u001b[43m(\u001b[49m\u001b[43mresults_dir\u001b[49m\u001b[43m)\u001b[49m\n\u001b[32m     29\u001b[39m         \u001b[38;5;28;01mif\u001b[39;00m os.path.isdir(join(results_dir, fname))\n\u001b[32m     30\u001b[39m         \u001b[38;5;129;01mand\u001b[39;00m os.path.exists(join(results_dir, fname, results_fname))\n\u001b[32m     31\u001b[39m     ]\n\u001b[32m     32\u001b[39m )\n\u001b[32m     33\u001b[39m results_list = []\n\u001b[32m     34\u001b[39m \u001b[38;5;28;01mfor\u001b[39;00m dir_name \u001b[38;5;129;01min\u001b[39;00m tqdm(dir_names):\n",
      "\u001b[31mFileNotFoundError\u001b[39m: [Errno 2] No such file or directory: '/home/chansingh/mntv1/deep-fMRI/encoding/jul24_2025_agentic_test'"
     ]
    }
   ],
   "source": [
    "%load_ext autoreload\n",
    "%autoreload 2\n",
    "import sys\n",
    "sys.path.append('..')\n",
    "from neuro import config\n",
    "from os.path import join\n",
    "sys.path.append(join(config.REPO_DIR, 'experiments'))\n",
    "\n",
    "import dvu\n",
    "import seaborn as sns\n",
    "import os\n",
    "import pandas as pd\n",
    "from copy import deepcopy\n",
    "from matplotlib import pyplot as plt\n",
    "import numpy as np\n",
    "from neuro import config\n",
    "import imodelsx.process_results\n",
    "import neuro.features.qa_questions as qa_questions\n",
    "import joblib\n",
    "from tqdm import tqdm\n",
    "import neuro.viz\n",
    "from neuro import analyze_helper, viz\n",
    "fit_encoding = __import__('02_fit_encoding')\n",
    "dvu.set_style()\n",
    "\n",
    "results_dir = '/home/chansingh/mntv1/deep-fMRI/encoding/jul24_2025_agentic_test'\n",
    "rr, cols_varied, mets = analyze_helper.load_clean_results(results_dir)\n",
    "# joblib.dump({'r': rr, 'cols_varied': cols_varied, 'mets': mets}, 'results_best_ensemble.pkl')\n",
    "# data = joblib.load(join(config.RESULTS_DIR_LOCAL, 'results_best_ensemble.pkl'))\n",
    "# rr, cols_varied, mets = data['r'], data['cols_varied'], data['mets']\n",
    "metric_sort = 'corrs_tune_pc_weighted_mean'"
   ]
  },
  {
   "cell_type": "code",
   "execution_count": null,
   "metadata": {},
   "outputs": [],
   "source": []
  }
 ],
 "metadata": {
  "kernelspec": {
   "display_name": ".venv",
   "language": "python",
   "name": "python3"
  },
  "language_info": {
   "codemirror_mode": {
    "name": "ipython",
    "version": 3
   },
   "file_extension": ".py",
   "mimetype": "text/x-python",
   "name": "python",
   "nbconvert_exporter": "python",
   "pygments_lexer": "ipython3",
   "version": "3.12.3"
  },
  "orig_nbformat": 4
 },
 "nbformat": 4,
 "nbformat_minor": 2
}
