{
 "cells": [
  {
   "cell_type": "code",
   "execution_count": 4,
   "metadata": {},
   "outputs": [
    {
     "name": "stdout",
     "output_type": "stream",
     "text": [
      "The autoreload extension is already loaded. To reload it, use:\n",
      "  %reload_ext autoreload\n"
     ]
    }
   ],
   "source": [
    "%load_ext autoreload\n",
    "%autoreload 2\n",
    "import flatmaps_helper\n",
    "\n",
    "\n",
    "# main load\n",
    "normalize_flatmaps = False\n",
    "gemv_flatmaps_dict_S02, gemv_flatmaps_dict_S03 = flatmaps_helper.load_flatmaps(\n",
    "    normalize_flatmaps, )"
   ]
  },
  {
   "cell_type": "code",
   "execution_count": 5,
   "metadata": {},
   "outputs": [
    {
     "data": {
      "text/plain": [
       "{('Clothing and Physical Appearance',\n",
       "  None): array([ 0.48730649,  0.25820587,  0.17121147, ...,  0.04853005,\n",
       "         0.16464426, -0.21799686], shape=(95556,)),\n",
       " ('Colors',\n",
       "  None): array([ 0.29473613,  0.57274425,  0.44102544, ..., -0.20388493,\n",
       "        -0.50040396,  0.08893004], shape=(95556,)),\n",
       " ('Dialogue',\n",
       "  None): array([-0.05244293, -0.18124881, -0.10368413, ..., -0.16336577,\n",
       "        -0.09731573,  0.0630757 ], shape=(95556,)),\n",
       " ('Direction and location descriptions',\n",
       "  None): array([ 0.01324467,  0.16744414, -0.01642837, ..., -0.1222307 ,\n",
       "         0.14487727, -0.08588524], shape=(95556,)),\n",
       " ('END',\n",
       "  None): array([-0.08773777,  0.0959212 , -0.41601579, ..., -0.85344417,\n",
       "        -0.21340677, -1.1084666 ], shape=(95556,)),\n",
       " ('Gruesome body imagery',\n",
       "  None): array([-0.22520581, -0.15757528,  0.0382416 , ...,  0.30085328,\n",
       "         0.22013007, -0.10363238], shape=(95556,)),\n",
       " ('Introspection',\n",
       "  None): array([ 0.0751073 ,  0.15884109,  0.39385256, ..., -0.35555618,\n",
       "         0.35909884, -0.44849353], shape=(95556,)),\n",
       " ('Measurements',\n",
       "  None): array([ 0.19650455, -0.07585266, -0.31004258, ...,  0.03740387,\n",
       "         0.13508873,  0.27258346], shape=(95556,)),\n",
       " ('Numbers',\n",
       "  None): array([ 0.10778228, -0.26762707, -0.02734072, ..., -0.15559816,\n",
       "        -0.20581508, -0.0989218 ], shape=(95556,)),\n",
       " ('Relationships',\n",
       "  None): array([-0.07119404, -0.3928731 , -0.23920017, ...,  0.09443766,\n",
       "         0.15190641, -0.0790009 ], shape=(95556,)),\n",
       " ('START',\n",
       "  None): array([ 0.08012516,  0.0022575 , -0.4212175 , ...,  0.16188689,\n",
       "         0.46401616,  0.6007819 ], shape=(95556,)),\n",
       " ('Scenes and settings',\n",
       "  None): array([ 0.23858239, -0.20267844, -0.08116014, ...,  0.26132803,\n",
       "         0.0006523 ,  0.16614455], shape=(95556,)),\n",
       " ('Times',\n",
       "  None): array([-0.07562972,  0.15286087,  0.198593  , ...,  0.1126258 ,\n",
       "        -0.38185608,  0.10052469], shape=(95556,)),\n",
       " ('Travel and location names',\n",
       "  None): array([ 0.3041603 , -0.03512883, -0.03929915, ...,  0.0918539 ,\n",
       "         0.37084448,  0.27972084], shape=(95556,)),\n",
       " ('Years',\n",
       "  None): array([-0.34493588,  0.08392557,  0.1390238 , ...,  0.01140751,\n",
       "        -0.10723728, -0.00201115], shape=(95556,)),\n",
       " ('Body parts',\n",
       "  None): array([-0.25923408,  0.21632309, -0.22810345, ...,  0.18482704,\n",
       "        -0.32857841, -0.10170477], shape=(95556,)),\n",
       " ('Conversational transitions',\n",
       "  None): array([ 0.06997948,  0.20025488, -0.05821539, ..., -0.16832841,\n",
       "        -0.082344  ,  0.33657597], shape=(95556,)),\n",
       " ('Descriptive elements of scenes or objects',\n",
       "  None): array([ 0.333168  , -0.01041151,  0.09989979, ...,  0.43632899,\n",
       "         0.04615292,  0.4251253 ], shape=(95556,)),\n",
       " ('Dialogue and responses',\n",
       "  None): array([-0.17202176,  0.09769811, -0.04244052, ...,  0.47733471,\n",
       "         0.44550593,  0.02124911], shape=(95556,)),\n",
       " ('Fear and Avoidance',\n",
       "  None): array([ 0.0327965 , -0.27723337,  0.02370594, ..., -0.0721531 ,\n",
       "        -0.4001558 , -0.02752454], shape=(95556,)),\n",
       " ('Garbage, food, and household items',\n",
       "  None): array([ 0.1428897 ,  0.32405201,  0.17687644, ..., -0.33870599,\n",
       "         0.27891749, -0.09969208], shape=(95556,)),\n",
       " ('Location names',\n",
       "  None): array([-0.31332482,  0.16950715,  0.19078768, ...,  0.12647449,\n",
       "        -0.37335407,  0.03988489], shape=(95556,)),\n",
       " ('Negative Emotional Reactions',\n",
       "  None): array([ 0.36564524, -0.09968463,  0.15197142, ..., -0.07097232,\n",
       "        -0.03277052,  0.1141233 ], shape=(95556,)),\n",
       " ('Positive Emotional Reactions',\n",
       "  None): array([ 0.35095067, -0.52500109, -0.05957454, ...,  0.2864832 ,\n",
       "        -0.01774706, -0.0406029 ], shape=(95556,)),\n",
       " ('Professions and Personal Backgrounds',\n",
       "  None): array([ 0.14821294,  0.0602819 , -0.03661356, ...,  0.0915107 ,\n",
       "        -0.21951471, -0.16739805], shape=(95556,)),\n",
       " ('Recognition',\n",
       "  None): array([ 3.33351921e-02,  1.61576482e-01, -1.08649363e-04, ...,\n",
       "         8.28971294e-03,  1.23066866e-01,  1.87438043e-01], shape=(95556,)),\n",
       " ('Secretive Or Covert Actions',\n",
       "  None): array([-0.32685048,  0.18522825, -0.09143514, ..., -0.02953526,\n",
       "        -0.1896822 ,  0.072833  ], shape=(95556,)),\n",
       " ('Self-reflection and growth',\n",
       "  None): array([ 0.01373575,  0.09435543,  0.18291028, ..., -0.22339125,\n",
       "         0.16158522, -0.038922  ], shape=(95556,)),\n",
       " ('Sexual and Romantic Interactions',\n",
       "  None): array([ 0.04526092, -0.26897017, -0.08092988, ..., -0.14127988,\n",
       "         0.13824496,  0.10121668], shape=(95556,))}"
      ]
     },
     "execution_count": 5,
     "metadata": {},
     "output_type": "execute_result"
    }
   ],
   "source": [
    "gemv_flatmaps_dict_S03"
   ]
  }
 ],
 "metadata": {
  "kernelspec": {
   "display_name": ".env",
   "language": "python",
   "name": "python3"
  },
  "language_info": {
   "codemirror_mode": {
    "name": "ipython",
    "version": 3
   },
   "file_extension": ".py",
   "mimetype": "text/x-python",
   "name": "python",
   "nbconvert_exporter": "python",
   "pygments_lexer": "ipython3",
   "version": "3.11.11"
  },
  "orig_nbformat": 4
 },
 "nbformat": 4,
 "nbformat_minor": 2
}
