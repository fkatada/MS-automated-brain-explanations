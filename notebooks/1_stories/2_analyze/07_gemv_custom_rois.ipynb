{
 "cells": [
  {
   "cell_type": "code",
   "execution_count": null,
   "metadata": {},
   "outputs": [],
   "source": [
    "%load_ext autoreload\n",
    "%autoreload 2\n",
    "import sys\n",
    "import pandas as pd\n",
    "import os\n",
    "import matplotlib.pyplot as plt\n",
    "import cortex\n",
    "import seaborn as sns\n",
    "from os.path import join\n",
    "from collections import defaultdict\n",
    "import numpy as np\n",
    "from sklearn.preprocessing import StandardScaler\n",
    "import joblib\n",
    "import dvu\n",
    "from copy import deepcopy\n",
    "import sys\n",
    "from numpy import ceil\n",
    "sys.path.append('../notebooks')\n",
    "from tqdm import tqdm\n",
    "from sasc.config import FMRI_DIR, STORIES_DIR, RESULTS_DIR, CACHE_DIR, RESULTS_DIR, cache_ngrams_dir, regions_idxs_dir\n",
    "from neuro.config import repo_dir, PROCESSED_DIR\n",
    "from neuro.features.qa_questions import get_questions, get_merged_questions_v3_boostexamples\n",
    "import sasc.viz\n",
    "from PIL import Image\n",
    "from sasc import config\n",
    "from flatmaps_helper import VOX_COUNTS, load_known_rois, ROI_EXPLANATIONS_S03, FED_DRIVING_EXPLANATIONS_S03, FED_DRIVING_EXPLANATIONS_S02\n",
    "from neuro.flatmaps_helper import load_flatmaps, load_custom_rois\n",
    "\n",
    "\n",
    "# main load\n",
    "normalize_flatmaps = False\n",
    "# gemv_flatmaps_dict_S02, gemv_flatmaps_dict_S03 = load_flatmaps(\n",
    "    # normalize_flatmaps)\n",
    "gemv_flatmaps_dict_S02, gemv_flatmaps_dict_S03, gemv_flatmaps_dict_S02_timecourse, gemv_flatmaps_dict_S03_timecourse = load_flatmaps(\n",
    "    normalize_flatmaps, load_timecourse=True)"
   ]
  },
  {
   "cell_type": "markdown",
   "metadata": {},
   "source": [
    "### Select avg-response flatmaps"
   ]
  },
  {
   "cell_type": "code",
   "execution_count": null,
   "metadata": {},
   "outputs": [],
   "source": [
    "# select\n",
    "avg_defaultdict = defaultdict(list)\n",
    "\n",
    "for subject in ['S02', 'S03']:\n",
    "    if subject == 'S03':\n",
    "        gemv_flatmaps_dict = gemv_flatmaps_dict_S03\n",
    "    elif subject == 'S02':\n",
    "        gemv_flatmaps_dict = gemv_flatmaps_dict_S02\n",
    "    common_keys = list(set(gemv_flatmaps_dict_S02.keys()).intersection(\n",
    "        set(gemv_flatmaps_dict_S03.keys())))\n",
    "    gemv_flatmaps_dict = {k: v for k,\n",
    "                          v in gemv_flatmaps_dict.items() if k in common_keys}\n",
    "    # gemv_flatmaps_dict = {k: v for k, v in gemv_flatmaps_dict.items(\n",
    "    # ) if not k[0] in ROI_EXPLANATIONS_S03.values() and not k[0] in ['START', 'END']}\n",
    "\n",
    "    ##################################################\n",
    "    # rois_dict is a dictionary with keys as region names and np arrays of voxel masks as values\n",
    "\n",
    "    # rois_dict_known = load_known_rois(subject)\n",
    "    # rois_dict_comm = load_custom_rois(subject, suffix_setting='')\n",
    "    rois_dict_fedorenko = load_custom_rois(\n",
    "        subject, suffix_setting='_fedorenko')\n",
    "    # rois_dict_spotlights = load_custom_rois(subject, suffix_setting='_spotlights')\n",
    "    # | rois_dict_spotlights\n",
    "    # rois_dict = rois_dict_comm | rois_dict_fedorenko  # | rois_dict_known\n",
    "    # rois_dict = rois_dict_comm\n",
    "    rois_dict = rois_dict_fedorenko\n",
    "\n",
    "    ##################################################\n",
    "    # compute means\n",
    "    # avg_defaultdict = defaultdict(list)\n",
    "    for roi_idx, roi in rois_dict.items():\n",
    "        for explanation in gemv_flatmaps_dict.keys():\n",
    "            avg_defaultdict[roi_idx + ' ' + subject].append(\n",
    "                np.mean(gemv_flatmaps_dict[explanation][roi > 0]))\n",
    "            # corrs_defaultdict[roi_idx].append(\n",
    "            # np.corrcoef(roi, gemv_flatmaps_dict[explanation])[0, 1])"
   ]
  },
  {
   "cell_type": "code",
   "execution_count": null,
   "metadata": {},
   "outputs": [],
   "source": [
    "expl_set = ['Numbers', 'Years', 'Measurements']"
   ]
  },
  {
   "cell_type": "code",
   "execution_count": null,
   "metadata": {},
   "outputs": [],
   "source": [
    "common_keys"
   ]
  },
  {
   "cell_type": "code",
   "execution_count": null,
   "metadata": {},
   "outputs": [],
   "source": [
    "maps = [\n",
    "    gemv_flatmaps_dict_S02[(k, None)] for k in expl_set\n",
    "]"
   ]
  },
  {
   "cell_type": "code",
   "execution_count": null,
   "metadata": {},
   "outputs": [],
   "source": [
    "# Load a sample subject\n",
    "subject = \"UTS02\"  # Change this to your actual subject ID\n",
    "xfmname = \"UTS02_auto\"  # Change based on your transformation\n",
    "\n",
    "# Generate three example maps (replace with real data)\n",
    "volume_shape = maps[0].shape\n",
    "for map in maps:\n",
    "    map = (map - map.min()) / (map.max() - map.min())\n",
    "\n",
    "# Create a 3-channel RGB volume\n",
    "rgb_volume = cortex.VolumeRGB(\n",
    "    *maps, subject=subject, xfmname=xfmname)\n",
    "\n",
    "# Show the visualization\n",
    "# cortex.quickshow(rgb_volume, with_colorbar=False, fname_save='example_rgb.pdf')\n",
    "sasc.viz.quickshow(rgb_volume, with_colorbar=False,\n",
    "                   fname_save='example_rgb.pdf')\n",
    "plt.show()"
   ]
  },
  {
   "cell_type": "markdown",
   "metadata": {},
   "source": [
    "# Show flatmaps across subjects\n",
    "\n",
    "Note: we sometimes normalize them here, so need to reload flatmaps before re-running analyses above!"
   ]
  },
  {
   "cell_type": "code",
   "execution_count": null,
   "metadata": {},
   "outputs": [],
   "source": [
    "normalize_flatmaps = True\n",
    "normalize_suffix = '_norm' if normalize_flatmaps else ''\n",
    "gemv_flatmaps_dict_S02_norm, gemv_flatmaps_dict_S03_norm = load_flatmaps(\n",
    "    normalize_flatmaps=normalize_flatmaps, load_timecourse=False)\n",
    "gemv_flatmaps_dict_norm = {\n",
    "    'S02': gemv_flatmaps_dict_S02_norm,\n",
    "    'S03': gemv_flatmaps_dict_S03_norm\n",
    "}"
   ]
  },
  {
   "cell_type": "code",
   "execution_count": null,
   "metadata": {},
   "outputs": [],
   "source": [
    "# read a list of pngs and save them as a grid\n",
    "for expl_list in [\n",
    "    ['Years', 'Times', 'Numbers', 'Measurements'],\n",
    "    ['Relationships', 'Dialogue', 'Introspection'],\n",
    "    ['Gruesome body imagery', 'Fear and Avoidance',\n",
    "        'Positive Emotional Reactions', 'Negative Emotional Reactions'],\n",
    "    ['Clothing and Physical Appearance', 'Colors'],\n",
    "    ['Sexual and Romantic Interactions',\n",
    "        'Secretive Or Covert Actions', 'Recognition', 'Professions and Personal Backgrounds']\n",
    "]:\n",
    "\n",
    "    pngs = defaultdict(list)\n",
    "    for subject in ['S02', 'S03']:\n",
    "        for expl in tqdm(expl_list):\n",
    "            fname = join('custom_rois_flatmaps' +\n",
    "                         normalize_suffix, subject, expl + '.png')\n",
    "            if not os.path.exists(fname):\n",
    "\n",
    "                sasc.viz.quickshow(\n",
    "                    gemv_flatmaps_dict_norm[subject][(expl, None)],\n",
    "                    subject=subject,\n",
    "                    fname_save=fname,)\n",
    "\n",
    "            pngs[subject].append(fname)\n",
    "\n",
    "    # plot as grid\n",
    "    fig, axes = plt.subplots(\n",
    "        2, len(expl_list), figsize=(len(expl_list) * 5, 6))\n",
    "    for i, ax in enumerate(axes.flatten()):\n",
    "        # ax.axis('off')\n",
    "        # Remove all x-axis ticks and labels\n",
    "        ax.xaxis.set_ticks([])\n",
    "        ax.xaxis.set_ticklabels([])\n",
    "        ax.xaxis.label.set_visible(False)\n",
    "\n",
    "        # Remove all y-axis ticks and labels (but keep the y-axis label)\n",
    "        ax.yaxis.set_ticks([])\n",
    "        ax.yaxis.set_ticklabels([])\n",
    "\n",
    "        for spine in ax.spines.values():\n",
    "            spine.set_visible(False)\n",
    "\n",
    "    for i in range(len(expl_list)):\n",
    "        axes[0, i].imshow(plt.imread(pngs['S02'][i]))\n",
    "        axes[0, i].set_title(expl_list[i])\n",
    "        axes[1, i].imshow(plt.imread(pngs['S03'][i]))\n",
    "        axes[0, 0].set_ylabel('S02')\n",
    "        axes[1, 0].set_ylabel('S03')\n",
    "\n",
    "    # add\n",
    "    plt.savefig(join('custom_rois_flatmaps' + normalize_suffix, 'full', '__'.join(\n",
    "        expl_list) + '.png'), bbox_inches='tight', dpi=300)\n",
    "    plt.show()"
   ]
  },
  {
   "cell_type": "code",
   "execution_count": null,
   "metadata": {},
   "outputs": [],
   "source": []
  }
 ],
 "metadata": {
  "kernelspec": {
   "display_name": ".env",
   "language": "python",
   "name": "python3"
  },
  "language_info": {
   "codemirror_mode": {
    "name": "ipython",
    "version": 3
   },
   "file_extension": ".py",
   "mimetype": "text/x-python",
   "name": "python",
   "nbconvert_exporter": "python",
   "pygments_lexer": "ipython3",
   "version": "3.11.11"
  },
  "orig_nbformat": 4
 },
 "nbformat": 4,
 "nbformat_minor": 2
}
