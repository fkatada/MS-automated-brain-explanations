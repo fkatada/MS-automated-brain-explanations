{
 "cells": [
  {
   "cell_type": "code",
   "execution_count": null,
   "metadata": {},
   "outputs": [],
   "source": [
    "%load_ext autoreload\n",
    "%autoreload 2\n",
    "import sys\n",
    "sys.path.append('..')\n",
    "import dvu\n",
    "import seaborn as sns\n",
    "import os\n",
    "import pandas as pd\n",
    "from copy import deepcopy\n",
    "from matplotlib import pyplot as plt\n",
    "from os.path import join\n",
    "import numpy as np\n",
    "import neuro.features.feature_utils\n",
    "import joblib\n",
    "import neuro.data.story_names\n",
    "import neuro.data.response_utils\n",
    "from tqdm import tqdm\n",
    "import neuro.features.feature_spaces\n",
    "from himalaya.ridge import RidgeCV\n",
    "from sklearn.model_selection import check_cv\n",
    "from himalaya.backend import set_backend\n",
    "import neuro.config\n",
    "from tabpfn import TabPFNRegressor\n",
    "from sklearn.metrics.pairwise import cosine_similarity\n",
    "from collections import defaultdict\n",
    "from neuro.features.questions.gpt4 import QS_35_STABLE\n",
    "from neuro.features import qa_questions\n",
    "import dvu\n",
    "dvu.set_style()"
   ]
  },
  {
   "cell_type": "code",
   "execution_count": null,
   "metadata": {},
   "outputs": [],
   "source": [
    "subject = 'UTS03'"
   ]
  },
  {
   "cell_type": "code",
   "execution_count": null,
   "metadata": {},
   "outputs": [],
   "source": [
    "story_names_train = neuro.data.story_names.get_story_names(\n",
    "    subject=subject, train_or_test='train')\n",
    "story_names_test = neuro.data.story_names.get_story_names(\n",
    "    # could set use_huge=True here and below....\n",
    "    subject=subject, train_or_test='test')"
   ]
  },
  {
   "cell_type": "code",
   "execution_count": null,
   "metadata": {},
   "outputs": [],
   "source": [
    "class A:\n",
    "    feature_space = 'qa_embedder'\n",
    "    ndelays = 4\n",
    "    pc_components = 100\n",
    "    qa_questions_version = 'v3_boostexamples_merged'\n",
    "    qa_embedding_model = 'ensemble2'\n",
    "    single_question_idx = -1\n",
    "    feature_selection_alpha = -1\n",
    "\n",
    "\n",
    "# load feats, already trimmed and normalized\n",
    "args = A()\n",
    "feats_test = neuro.features.feature_utils.get_features_full(\n",
    "    args=args,\n",
    "    feature_space=args.feature_space,\n",
    "    qa_embedding_model=args.qa_embedding_model,\n",
    "    story_names=story_names_train + story_names_test,\n",
    "    use_added_delays=False,\n",
    ")\n",
    "# compute pairwise correlations between cols of feats_test\n",
    "sims = cosine_similarity(feats_test.T)\n",
    "print('sims shape', sims.shape)\n",
    "joblib.dump(sims, 'sims.pkl')"
   ]
  },
  {
   "cell_type": "code",
   "execution_count": null,
   "metadata": {},
   "outputs": [],
   "source": [
    "sims = joblib.load('sims.pkl')\n",
    "# set diag to 0\n",
    "np.fill_diagonal(sims, 0)"
   ]
  },
  {
   "cell_type": "code",
   "execution_count": null,
   "metadata": {},
   "outputs": [],
   "source": [
    "qs = qa_questions.get_merged_questions_v3_boostexamples()\n",
    "top_qs = pd.read_pickle(\n",
    "    'corrs_df/single_question_corrs.pkl').sort_values(by='corrs_test_mean', ascending=False).question.values[:70]\n",
    "\n",
    "idxs_35 = np.array([qs.index(q) for q in QS_35_STABLE])\n",
    "# idxs_not_35 = np.array([i for i in range(len(qs)) if i not in idxs_35])\n",
    "idxs_not_35 = np.array([qs.index(q)\n",
    "                        for q in top_qs if not q in QS_35_STABLE])[:35]\n",
    "\n",
    "best_sim_35 = sims[:, idxs_35].max(axis=1)\n",
    "plt.figure(figsize=(6, 3))\n",
    "sns.histplot(best_sim_35[idxs_not_35], bins=20,\n",
    "             label='Unselected, highly predictive', color='C1')\n",
    "sns.histplot(best_sim_35[idxs_35], bins=20, label='Selected 35', color='C0')\n",
    "print('means', best_sim_35.mean(), best_sim_35[idxs_35].mean())\n",
    "plt.xlabel('Max feature correlation to stable 35 questions')\n",
    "plt.ylabel('Question count')\n",
    "plt.legend()\n",
    "plt.savefig('question_similarity_in_top_35_hist.pdf', bbox_inches='tight')"
   ]
  },
  {
   "cell_type": "code",
   "execution_count": null,
   "metadata": {},
   "outputs": [],
   "source": []
  }
 ],
 "metadata": {
  "kernelspec": {
   "display_name": ".env",
   "language": "python",
   "name": "python3"
  },
  "language_info": {
   "codemirror_mode": {
    "name": "ipython",
    "version": 3
   },
   "file_extension": ".py",
   "mimetype": "text/x-python",
   "name": "python",
   "nbconvert_exporter": "python",
   "pygments_lexer": "ipython3",
   "version": "3.11.10"
  },
  "orig_nbformat": 4
 },
 "nbformat": 4,
 "nbformat_minor": 2
}
