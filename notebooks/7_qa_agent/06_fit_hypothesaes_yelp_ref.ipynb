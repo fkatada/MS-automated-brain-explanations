{
 "cells": [
  {
   "cell_type": "code",
   "execution_count": 1,
   "metadata": {},
   "outputs": [],
   "source": [
    "%load_ext autoreload\n",
    "%autoreload 2\n",
    "\n",
    "import os\n",
    "import joblib\n",
    "import numpy as np\n",
    "import pandas as pd\n",
    "from neuro import config\n",
    "\n",
    "from neuro.baselines.hypothesaes.quickstart import train_sae, interpret_sae, generate_hypotheses, evaluate_hypotheses\n",
    "from neuro.baselines.hypothesaes.embedding import get_local_embeddings\n",
    "\n",
    "INTERPRETER_MODEL = \"gpt-4.1\"\n",
    "# ANNOTATOR_MODEL = 'meta-llama/Meta-Llama-3-8B-Instruct' # not actually used\n",
    "EMBEDDER = \"nomic-ai/modernbert-embed-base\" # Huggingface model, will run locally\n",
    "TASK_SPECIFIC_INSTRUCTIONS = \"\"\"All of the texts are reviews of restaurants on Yelp.\n",
    "Features should describe a specific aspect of the review. For example:\n",
    "- \"mentions long wait times to receive service\"\n",
    "- \"praises how a dish was cooked, with phrases like 'perfect medium-rare'\\\"\"\"\"\n",
    "\n",
    "# paths\n",
    "OUT_DIR = os.path.expanduser('~/mntv1/deep-fMRI/qa/hypothesaes')\n",
    "os.makedirs(OUT_DIR, exist_ok=True)\n",
    "os.environ['EMB_CACHE_DIR'] = os.path.join(OUT_DIR, os.path.expanduser('~/emb_cache'))\n",
    "CACHE_NAME = f\"yelp_quickstart_{EMBEDDER.replace('/', '___')}\"\n",
    "checkpoint_dir = os.path.join(OUT_DIR, \"checkpoints\", CACHE_NAME)"
   ]
  },
  {
   "cell_type": "markdown",
   "metadata": {},
   "source": [
    "**Load data**\n",
    "\n",
    "The dataset we're using here is a subset of 20K Yelp reviews, with 2K reviews used for validation (during SAE training). \n",
    "\n",
    "The target variable is the `stars` column, which is a rating between 1 and 5. We treat this as a regression task.\n",
    "\n",
    "There are also 2K reviews used for holdout evaluation, which we'll use at the end of the notebook."
   ]
  },
  {
   "cell_type": "code",
   "execution_count": 2,
   "metadata": {},
   "outputs": [],
   "source": [
    "base_dir = os.path.join(os.path.join(config.REPO_DIR, 'data', \"demo_data\"))\n",
    "train_df = pd.read_json(os.path.join(base_dir, \"yelp-demo-train-20K.json\"), lines=True)\n",
    "val_df = pd.read_json(os.path.join(base_dir, \"yelp-demo-val-2K.json\"), lines=True)\n",
    "\n",
    "texts = train_df['text'].tolist()\n",
    "labels = train_df['stars'].values\n",
    "val_texts = val_df['text'].tolist() # These are only used for early stopping of SAE training, so we don't need labels."
   ]
  },
  {
   "cell_type": "markdown",
   "metadata": {},
   "source": [
    "**Compute text embeddings for your dataset**\n",
    "\n",
    "We'll compute text embeddings for a training set, and optionally a validation set. The validation embeddings are used for SAE eval and early-stopping during training.\n",
    "\n",
    "Embeddings will be stored in the `emb_cache` directory (or `os.environ[\"EMB_CACHE_DIR\"]` if you set it) using the `cache_name` parameter, so you only need to compute embeddings once.\n",
    "\n",
    "You can use OpenAI or a local model.\n",
    "\n",
    "Local models will run much faster on GPU. The default local model is `nomic-ai/modernbert-embed-base`. You can use any sentence-transformers model, but please read the model's docs; you may need to edit `get_local_embeddings`."
   ]
  },
  {
   "cell_type": "code",
   "execution_count": null,
   "metadata": {},
   "outputs": [],
   "source": [
    "# text2embedding = get_local_embeddings(texts + val_texts, model=EMBEDDER, batch_size=128, cache_name=CACHE_NAME)\n",
    "# embeddings = np.stack([text2embedding[text] for text in texts])\n",
    "\n",
    "# train_embeddings = np.stack([text2embedding[text] for text in texts])\n",
    "# val_embeddings = np.stack([text2embedding[text] for text in val_texts])\n",
    "# joblib.dump((train_embeddings, val_embeddings), os.path.join(OUT_DIR, f\"{CACHE_NAME}_embeddings.pkl\"))"
   ]
  },
  {
   "cell_type": "code",
   "execution_count": 3,
   "metadata": {},
   "outputs": [],
   "source": [
    "train_embeddings, val_embeddings = joblib.load(os.path.join(OUT_DIR, f\"{CACHE_NAME}_embeddings.pkl\"))"
   ]
  },
  {
   "cell_type": "markdown",
   "metadata": {},
   "source": [
    "**Train SAE** \n",
    "\n",
    "We will train a Matryoshka SAE with $M=256$, $k=8$, and $\\text{prefix\\_lengths} = [32, 256]$.  \n",
    "\n",
    "With the Matryoshka loss, the SAE will learn to reconstruct the input from (1) just the first 32 neurons, and (2) all 256 neurons.  \n",
    "This will produce 32 coarse-grained features, and 224 finer-grained features.  \n",
    "\n",
    "See the README for more details about selecting SAE hyperparameters. "
   ]
  },
  {
   "cell_type": "code",
   "execution_count": null,
   "metadata": {},
   "outputs": [],
   "source": [
    "# sae = train_sae(embeddings=train_embeddings, val_embeddings=val_embeddings,\n",
    "#                 M=512, K=16, matryoshka_prefix_lengths=[64, 512], \n",
    "#                 checkpoint_dir=checkpoint_dir)\n",
    "# joblib.dump(sae, os.path.join(checkpoint_dir, \"sae.pkl\"))"
   ]
  },
  {
   "cell_type": "code",
   "execution_count": 4,
   "metadata": {},
   "outputs": [],
   "source": [
    "sae = joblib.load(os.path.join(checkpoint_dir, \"sae.pkl\"))"
   ]
  },
  {
   "cell_type": "markdown",
   "metadata": {},
   "source": [
    "**Interpret neurons**  \n",
    "\n",
    "Interpret a random subset of neurons in the SAE to sanity-check that the learned features, and their interpretations, seem reasonable. We generate and print labels for `n_random_neurons` neurons, and we also print out the top-activating texts for each neuron."
   ]
  },
  {
   "cell_type": "code",
   "execution_count": 5,
   "metadata": {},
   "outputs": [
    {
     "data": {
      "application/vnd.jupyter.widget-view+json": {
       "model_id": "3b7932907274453ba30625628a19ffbd",
       "version_major": 2,
       "version_minor": 0
      },
      "text/plain": [
       "Computing activations (batchsize=16384):   0%|          | 0/2 [00:00<?, ?it/s]"
      ]
     },
     "metadata": {},
     "output_type": "display_data"
    },
    {
     "name": "stdout",
     "output_type": "stream",
     "text": [
      "Activations shape: (20000, 512)\n"
     ]
    },
    {
     "data": {
      "application/vnd.jupyter.widget-view+json": {
       "model_id": "4da0d4eb43bb4c009aef05d6c7a323eb",
       "version_major": 2,
       "version_minor": 0
      },
      "text/plain": [
       "Generating interpretations:   0%|          | 0/5 [00:00<?, ?it/s]"
      ]
     },
     "metadata": {},
     "output_type": "display_data"
    },
    {
     "name": "stdout",
     "output_type": "stream",
     "text": [
      "\n",
      "Neuron 153 (0.0% active, from SAE M=512, K=16): The input describes the seating arrangement, table setup, or physical layout of the restaurant, such as mentioning table spacing, table assignment, seating comfort, lounge areas, or crowdedness.\n",
      "\n",
      "Top activating examples:\n",
      "1. Firstly, keep in mind that it takes forever to get a reservation here, so plan early (like weeks ahead of time) to get a reservation at a decent time. I really liked the atmosphere - lights are dimmed, lots of straight lines with a casual upscale type of feel. The food was really good - my favorites were the UOVO pizza...mmmm the truffled farm egg was soo good...and the wild mushroom arancini. Their drink selection is also very good with seasonal craft beers rotated through out the year. The only reason I'm giving Barbuzzo 4 stars is based on the service. Firstly, we were told we had to order everything at once since the restaurant was full which made us feel very rushed. Secondly, even though we ordered our drinks at the same time as our food, we didn't get our first round of drinks until half way through our entire meal. Finally, our waiter was just not friendly. He seemed annoyed by the fact that we didn't order everything on the menu and made us feel rushed. I would still go back because of the atmosphere[... rest of text is truncated]\n",
      "2. We only had four days in Philly but I am so glad we found Barbuzzo. Small plates, nice wine and beer selection, amazing mixed drinks. Yes, I loved the Old Fashioned. Also the sazerac. Surprisingly the highlight was the pizza, made in a wood fired oven with figs and I forget what. The crust was perfect. We came back the next night for happy hour that starts at 10:30. Made for a rather late night. Sitting at the bar was perfect- all the action is right in front of you. Yes it is small, near the oven it is warm, but what fun.\n",
      "3. Barbuzzo late night is great.   Love ability to add arugula to any pizza.   Also attended a wedding here. The flowers were beautiful and service staff was very attentive.\n",
      "----------------------------------------------------------------------------------------------------\n",
      "\n",
      "Neuron 316 (0.0% active, from SAE M=512, K=16): The input mentions that the restaurant or location is the reviewer’s favorite or among their favorites\n",
      "\n",
      "Top activating examples:\n",
      " Hella's could improve itself if it wasn't located in the middle of a small parking lot.  An outdoor patio with a hookah bar would be nice but won't happen unless it changes locations.k up on mints because you will reek of garlic.is fast, and there's rarely a wait to be seated.\n",
      "2. I was trying to find a decent Italian hoagie. This wasn't it. What I got was several pounds of cheap cooked ham along worth questionable cheese and salami (looked like they might have been left out all day), questionable looking Banana peppers, onions, so little lettuce I wasn't even sure they put any on it.  The sheer amount of ham was just overwhelming and disgusting.  I don't usually leave reviews. Ur I picked this place because of the other reviews and they don't really reflect the quality of this place at all. (Maybe the fries chicken is really good and fresh, I can't speak to that)\n",
      "3. Good family owned, authentic shop. Great Horchata.\n",
      "----------------------------------------------------------------------------------------------------\n",
      "\n",
      "Neuron 382 (0.0% active, from SAE M=512, K=16): The input describes food as being fresh, hot, or made to order, often emphasizing freshness of ingredients or preparation\n",
      "\n",
      "Top activating examples:\n",
      "1. Michael from the Front Desk is the quintessence of professional cordiality and efficiency.  Seriously.  He even looks the part.  If there were a magazine entitled Dapper and Considerate Hospitality Professional, he would be the cover model. And Anja the manager is super responsive, and she has her operation smoothly under control.  Thanks, Anja, for the courtesy you showed. And one last shout out*... to Patricia, the housekeeper (that I never met) but who left me (A) a card with her name on it and (B) a crazy spotless room that redefined \"tidy\".  You know how the first blast of a cold shower can refresh the senses?  Amazingly, the room Patricia prepared for me had the same effect... a visual splash of order and crisp linens etc. that actually refreshed.  Thanks.         * I'm gonna pioneer the Unsung Awards, where the folks who are normally unsung and unseen get the props they deserve.  It's funny/sad that a housekeeper who puts TLC into her work is someone you often never even see.  Keep ya posted...\n",
      "2. I will say the service was not very friendly (it was like slow time late on a Friday afternoon, too! What the heck?), but I loved the selection of the market, and the Muffaletta was delicious. I am tempted to question when it was made, since it was good-to-go by the time I got there, but since it tasted fresh and wasn't at all soggy, I guess I shouldn't complain. GO! Get yourself a sandwich, stroll off Decatur to get away from the (in my case, other) tourists and have lunch by Jackson Square, take in some culture!\n",
      "3. Phenomenal place to get authentic Jamaican dishes. If you haven't had the chance to check this gem out, your loss. Thank you Marvin and Cliff for an amazing Saturday afternoon. #onelove\n",
      "----------------------------------------------------------------------------------------------------\n",
      "\n",
      "Neuron 68 (0.0% active, from SAE M=512, K=16): The input is written in Spanish or another non-English language.\n",
      "\n",
      "Top activating examples:\n",
      "1. El servicio es pésimo.La comida sin sabor,Los precios muy altos y la espera es eterna.No lo recomiendo.\n",
      "2. Servicio excelente comida riquísima las micheladas mas o menos podrían estar mejor pero la comida y el Servicio excelente recomiendo este lugar 100%\n",
      "3. Excelente comida, todo muy limpio, le doy 4 estrellas y no 5 por que les falta una buena salsa mucho mas picosa para los para los de paladar exigente. Los mejores tacos en toda la área de SB.\n",
      "----------------------------------------------------------------------------------------------------\n",
      "\n",
      "Neuron 145 (0.0% active, from SAE M=512, K=16): The input discusses fish dishes (such as fish tacos, fish and chips, red fish, grilled fish), including details about the preparation, cooking, taste, or experience related specifically to eating fish at a restaurant.\n",
      "\n",
      "Top activating examples:\n",
      "1. Nice casual atmosphere and good red fish. I figured that I should order the red fish at red fish grill. I had it with the lemon vinaigrette dressing which was flavorful but not too heavy. It was served with eggplant and several other vegetables such as squash. Presentation of the food was what I would expect from this type of place. Fresh veggies nicely laid on top of the red fish with sauce in the side. I enjoyed that the sauce was on the side so I could customize it to my liking. They also brought out complimentary bread on before the meal which was fresh and addicting. My coworker stated that the cornbread he got with his meal was excellent.  The restaurant had a very modern decor with fish art hanging from the ceiling and an artsy palm tree. Ceiling was high, so restraint felt very open and even though it was crowded, it never felt like the place got too loud.  Service was terrific. Our waiter was very friendly, answered our questions, and consistently refilled my water without me having to ask. The resta[... rest of text is truncated]\n",
      "2. No.8 Grilled Fish in Dried Pot！  The taste is sooooo good！The fish is not Tilapia（all Chinese restaurants here just make Grilled Fish by Tilapia），and the fish tastes tender &smooth. The skin   is my favorite that isss sooo flavored！They put sichuan pepper in it and it's hard to taste it in the Chinese restaurant here， i like the sense of sichuan pepper！ And the we only ordered this meal， and combined with the free appetizer， its definitely enough for two persons. And  we even packed the left fish to home\n",
      "3. Stopped in for lunch.   What a beautiful space!!!  I got the Fish & Chips (to go) ...  The fish was delicious as it is hard to screw up cod but the batter was soggy and there could have been more fish especially for the price you pay.  NOTE:  The french fries were really good and abundant.  I am defiantly going to have to go back at some point to try some thing else as most places who do a beer batter for fish ends up soggy since beer is not really meant for deep frying which is why it does not get crunchy and flaky like how I make my fish ... don!!!\n",
      "----------------------------------------------------------------------------------------------------\n"
     ]
    }
   ],
   "source": [
    "# This instruction will be included in the neuron interpretation prompt.\n",
    "# The below instructions are specific to Yelp, but you can customize this for your task.\n",
    "# If you don't pass in task-specific instructions, there is a generic instruction (see src/interpret_neurons.py);\n",
    "# task-specific instructions are optional, but they help produce hypotheses at the desired level of specificity.\n",
    "\n",
    "# Interpret random neurons\n",
    "results_examples = interpret_sae(\n",
    "    texts=texts,\n",
    "    embeddings=train_embeddings,\n",
    "    sae=sae,\n",
    "    n_random_neurons=5,\n",
    "    print_examples_n=3,\n",
    "    task_specific_instructions=TASK_SPECIFIC_INSTRUCTIONS,\n",
    "    interpreter_model=INTERPRETER_MODEL,\n",
    ")"
   ]
  },
  {
   "cell_type": "markdown",
   "metadata": {},
   "source": [
    "**Generate hypotheses**\n",
    "\n",
    "Generate hypotheses which are predictive of the target variable.\n",
    "\n",
    "The `selection_method` parameter defines how we compute neuron predictiveness (see `src/select_neurons.py` for more details):\n",
    "- \"separation_score\": E[target | top-activating examples] - E[target | zero-activating examples]\n",
    "- \"correlation\": pearson(neuron activations, target variable)\n",
    "- \"lasso\": select N nonzero features with an L1 regularized model\n",
    "\n",
    "This cell outputs a dataframe with the following columns:\n",
    "- `neuron_idx`: The index of the neuron in the SAE (if you're using multiple SAEs, this will be a global index across all of them).\n",
    "- `source_sae`: The SAE that the neuron was selected from.\n",
    "- `target_{selection_method}`: The predictiveness of the neuron for the target variable, using the selected `selection_method`.\n",
    "- `interpretation`: The natural language interpretation of the neuron.\n",
    "- `interp_fidelity_score`: The F1 fidelity score for how well the neuron's interpretation actually corresponds to its activation pattern."
   ]
  },
  {
   "cell_type": "code",
   "execution_count": 6,
   "metadata": {},
   "outputs": [
    {
     "name": "stdout",
     "output_type": "stream",
     "text": [
      "Embeddings shape: (20000, 768)\n"
     ]
    },
    {
     "data": {
      "application/vnd.jupyter.widget-view+json": {
       "model_id": "f0ec15c413784f2cafdb3e795740e795",
       "version_major": 2,
       "version_minor": 0
      },
      "text/plain": [
       "Computing activations (batchsize=16384):   0%|          | 0/2 [00:00<?, ?it/s]"
      ]
     },
     "metadata": {},
     "output_type": "display_data"
    },
    {
     "name": "stdout",
     "output_type": "stream",
     "text": [
      "Activations shape: (20000, 512)\n",
      "\n",
      "Step 1: Selecting top 20 predictive neurons\n",
      "\n",
      "Step 2: Interpreting selected neurons\n"
     ]
    },
    {
     "data": {
      "application/vnd.jupyter.widget-view+json": {
       "model_id": "9d98c7b0c001473580d65cf98b4e1b62",
       "version_major": 2,
       "version_minor": 0
      },
      "text/plain": [
       "Generating interpretations:   0%|          | 0/20 [00:00<?, ?it/s]"
      ]
     },
     "metadata": {},
     "output_type": "display_data"
    }
   ],
   "source": [
    "labels_multitarget = np.vstack([labels, labels, labels]).T  # Duplicate labels for multi-target selection\n",
    "\n",
    "results = generate_hypotheses(\n",
    "    texts=texts,\n",
    "    labels=labels_multitarget,\n",
    "    embeddings=train_embeddings,\n",
    "    sae=sae,\n",
    "    cache_name=CACHE_NAME,\n",
    "    classification=False,\n",
    "\n",
    "    # hyperparams\n",
    "    selection_method = \"correlation_multi_target\",\n",
    "    n_selected_neurons=20,\n",
    "    n_candidate_interpretations=1,\n",
    "    task_specific_instructions=TASK_SPECIFIC_INSTRUCTIONS,\n",
    "    interpreter_model=INTERPRETER_MODEL,\n",
    "\n",
    "    # provide some scoring of the hypotheses using this many examples\n",
    "    n_scoring_examples=0,\n",
    "    # n_scoring_examples=100,\n",
    "    # annotator_model=ANNOTATOR_MODEL,\n",
    "    # n_workers_annotation=N_WORKERS_ANNOTATION, # Please lower this parameter if you are running into OpenAI API rate limits\n",
    ")"
   ]
  },
  {
   "cell_type": "code",
   "execution_count": 7,
   "metadata": {},
   "outputs": [
    {
     "name": "stdout",
     "output_type": "stream",
     "text": [
      "\n",
      "Most predictive features of Yelp reviews:\n"
     ]
    },
    {
     "data": {
      "text/html": [
       "<div>\n",
       "<style scoped>\n",
       "    .dataframe tbody tr th:only-of-type {\n",
       "        vertical-align: middle;\n",
       "    }\n",
       "\n",
       "    .dataframe tbody tr th {\n",
       "        vertical-align: top;\n",
       "    }\n",
       "\n",
       "    .dataframe thead th {\n",
       "        text-align: right;\n",
       "    }\n",
       "</style>\n",
       "<table border=\"1\" class=\"dataframe\">\n",
       "  <thead>\n",
       "    <tr style=\"text-align: right;\">\n",
       "      <th></th>\n",
       "      <th>neuron_idx</th>\n",
       "      <th>source_sae</th>\n",
       "      <th>target_correlation_multi_target</th>\n",
       "      <th>interpretation</th>\n",
       "    </tr>\n",
       "  </thead>\n",
       "  <tbody>\n",
       "    <tr>\n",
       "      <th>4</th>\n",
       "      <td>54</td>\n",
       "      <td>(SAE_0, 512, 16)</td>\n",
       "      <td>0.351364</td>\n",
       "      <td>The input describes the restaurant as the reviewer's personal favorite or go-to place, often using phrases like 'my favorite', 'my go to', 'absolutely love', or expressing frequent repeat visits.</td>\n",
       "    </tr>\n",
       "    <tr>\n",
       "      <th>5</th>\n",
       "      <td>0</td>\n",
       "      <td>(SAE_0, 512, 16)</td>\n",
       "      <td>0.241403</td>\n",
       "      <td>The input describes the restaurant experience as exceptionally memorable or impressive, often using superlative language (e.g., 'amazing', 'incredible', 'out of this world', 'top ten', 'mind blowingly good'), and emphasizes</td>\n",
       "    </tr>\n",
       "    <tr>\n",
       "      <th>8</th>\n",
       "      <td>43</td>\n",
       "      <td>(SAE_0, 512, 16)</td>\n",
       "      <td>0.215558</td>\n",
       "      <td>The input describes the experience of being able to sample or try multiple items (such as flavors, foods, or drinks) before purchasing or making a choice.</td>\n",
       "    </tr>\n",
       "    <tr>\n",
       "      <th>9</th>\n",
       "      <td>63</td>\n",
       "      <td>(SAE_0, 512, 16)</td>\n",
       "      <td>0.188179</td>\n",
       "      <td>The input describes an intention or plan to return to the restaurant in the future (e.g., 'will definitely be back', 'I can't wait to come back here', 'will be returning', 'definitely will return again soon', '</td>\n",
       "    </tr>\n",
       "    <tr>\n",
       "      <th>11</th>\n",
       "      <td>8</td>\n",
       "      <td>(SAE_0, 512, 16)</td>\n",
       "      <td>0.172736</td>\n",
       "      <td>The input expresses an intention to return to the restaurant, using phrases like 'will be back', 'will return', or 'coming back again'</td>\n",
       "    </tr>\n",
       "    <tr>\n",
       "      <th>14</th>\n",
       "      <td>59</td>\n",
       "      <td>(SAE_0, 512, 16)</td>\n",
       "      <td>0.159896</td>\n",
       "      <td>The input describes details about a restaurant's wine selection, such as a large or rotating wine list, wines on tap, or wine flights.</td>\n",
       "    </tr>\n",
       "    <tr>\n",
       "      <th>15</th>\n",
       "      <td>40</td>\n",
       "      <td>(SAE_0, 512, 16)</td>\n",
       "      <td>0.155774</td>\n",
       "      <td>The input describes or recommends specific menu items, often mentioning unique ingredients, flavors, or combinations, and sometimes provides tips on what to order or how to customize the dish.</td>\n",
       "    </tr>\n",
       "    <tr>\n",
       "      <th>16</th>\n",
       "      <td>10</td>\n",
       "      <td>(SAE_0, 512, 16)</td>\n",
       "      <td>0.151753</td>\n",
       "      <td>The input describes a standout, positive customer service experience, where staff or owners go above and beyond to accommodate needs, such as resolving reservation issues, providing personalized recommendations, adapting to challenges, or giving special attention (e.g., accommodating dietary restrictions</td>\n",
       "    </tr>\n",
       "    <tr>\n",
       "      <th>19</th>\n",
       "      <td>15</td>\n",
       "      <td>(SAE_0, 512, 16)</td>\n",
       "      <td>-0.141028</td>\n",
       "      <td>The input describes the restaurant being closed (either temporarily or permanently), or not open during the advertised or expected hours.</td>\n",
       "    </tr>\n",
       "    <tr>\n",
       "      <th>18</th>\n",
       "      <td>61</td>\n",
       "      <td>(SAE_0, 512, 16)</td>\n",
       "      <td>-0.141743</td>\n",
       "      <td>The input describes a decline in quality or experience at a restaurant compared to previous visits, often attributing the change to new ownership, management, chef, menu changes, or remodels</td>\n",
       "    </tr>\n",
       "    <tr>\n",
       "      <th>17</th>\n",
       "      <td>443</td>\n",
       "      <td>(SAE_0, 512, 16)</td>\n",
       "      <td>-0.149529</td>\n",
       "      <td>The input describes the restaurant being out of or missing specific food items, ingredients, or condiments that are expected to be available</td>\n",
       "    </tr>\n",
       "    <tr>\n",
       "      <th>13</th>\n",
       "      <td>49</td>\n",
       "      <td>(SAE_0, 512, 16)</td>\n",
       "      <td>-0.161975</td>\n",
       "      <td>The input contains sarcasm or irony, often using exaggerated comparisons or humorous negative statements to critique or comment on the restaurant or experience.</td>\n",
       "    </tr>\n",
       "    <tr>\n",
       "      <th>12</th>\n",
       "      <td>111</td>\n",
       "      <td>(SAE_0, 512, 16)</td>\n",
       "      <td>-0.164243</td>\n",
       "      <td>The input describes restaurant staff behaving in a rude or disrespectful manner toward the reviewer or the reviewer's family/friends, often with dismissive, hostile, or unprofessional actions or attitude.</td>\n",
       "    </tr>\n",
       "    <tr>\n",
       "      <th>10</th>\n",
       "      <td>197</td>\n",
       "      <td>(SAE_0, 512, 16)</td>\n",
       "      <td>-0.173535</td>\n",
       "      <td>The input describes extremely negative experiences with restaurant service or staff, including rudeness, incompetence, being kicked out, long wait times, or refusal to resolve complaints</td>\n",
       "    </tr>\n",
       "    <tr>\n",
       "      <th>7</th>\n",
       "      <td>44</td>\n",
       "      <td>(SAE_0, 512, 16)</td>\n",
       "      <td>-0.233514</td>\n",
       "      <td>The input describes experiencing or anticipating a long wait time to receive food or service at a restaurant, often specifying the duration (e.g., '30 minutes', '45-60 minutes', '51 mins'), and expressing frustration or inconvenience caused by</td>\n",
       "    </tr>\n",
       "    <tr>\n",
       "      <th>6</th>\n",
       "      <td>35</td>\n",
       "      <td>(SAE_0, 512, 16)</td>\n",
       "      <td>-0.237368</td>\n",
       "      <td>The input describes negative experiences with ordering (by phone, online, or at counter/kiosk/drive-thru), specifically mentioning problems such as orders not being taken, incorrect or refused orders, delivery issues, or staff being rude or inattent</td>\n",
       "    </tr>\n",
       "    <tr>\n",
       "      <th>3</th>\n",
       "      <td>6</td>\n",
       "      <td>(SAE_0, 512, 16)</td>\n",
       "      <td>-0.367163</td>\n",
       "      <td>The input describes receiving an incorrect restaurant order, such as missing, wrong, or unmodified items, and often details the restaurant's inadequate response to the mistake.</td>\n",
       "    </tr>\n",
       "    <tr>\n",
       "      <th>2</th>\n",
       "      <td>57</td>\n",
       "      <td>(SAE_0, 512, 16)</td>\n",
       "      <td>-0.433361</td>\n",
       "      <td>The input describes food as bland, lacking flavor, underseasoned, or dull.</td>\n",
       "    </tr>\n",
       "    <tr>\n",
       "      <th>1</th>\n",
       "      <td>3</td>\n",
       "      <td>(SAE_0, 512, 16)</td>\n",
       "      <td>-0.584424</td>\n",
       "      <td>The input describes negative experiences with restaurant staff, specifically mentioning being ignored, receiving rude or unprofessional service, or staff failing to respond to requests or correct mistakes.</td>\n",
       "    </tr>\n",
       "    <tr>\n",
       "      <th>0</th>\n",
       "      <td>23</td>\n",
       "      <td>(SAE_0, 512, 16)</td>\n",
       "      <td>-0.706480</td>\n",
       "      <td>The input describes food as inedible, rotten, spoiled, or causing illness (e.g., mentions of food poisoning, nausea, vomiting, or food tasting/smelling rotten or rancid)</td>\n",
       "    </tr>\n",
       "  </tbody>\n",
       "</table>\n",
       "</div>"
      ],
      "text/plain": [
       "    neuron_idx        source_sae  target_correlation_multi_target  \\\n",
       "4           54  (SAE_0, 512, 16)                         0.351364   \n",
       "5            0  (SAE_0, 512, 16)                         0.241403   \n",
       "8           43  (SAE_0, 512, 16)                         0.215558   \n",
       "9           63  (SAE_0, 512, 16)                         0.188179   \n",
       "11           8  (SAE_0, 512, 16)                         0.172736   \n",
       "14          59  (SAE_0, 512, 16)                         0.159896   \n",
       "15          40  (SAE_0, 512, 16)                         0.155774   \n",
       "16          10  (SAE_0, 512, 16)                         0.151753   \n",
       "19          15  (SAE_0, 512, 16)                        -0.141028   \n",
       "18          61  (SAE_0, 512, 16)                        -0.141743   \n",
       "17         443  (SAE_0, 512, 16)                        -0.149529   \n",
       "13          49  (SAE_0, 512, 16)                        -0.161975   \n",
       "12         111  (SAE_0, 512, 16)                        -0.164243   \n",
       "10         197  (SAE_0, 512, 16)                        -0.173535   \n",
       "7           44  (SAE_0, 512, 16)                        -0.233514   \n",
       "6           35  (SAE_0, 512, 16)                        -0.237368   \n",
       "3            6  (SAE_0, 512, 16)                        -0.367163   \n",
       "2           57  (SAE_0, 512, 16)                        -0.433361   \n",
       "1            3  (SAE_0, 512, 16)                        -0.584424   \n",
       "0           23  (SAE_0, 512, 16)                        -0.706480   \n",
       "\n",
       "                                                                                                                                                                                                                                                                                                       interpretation  \n",
       "4                                                                                                                 The input describes the restaurant as the reviewer's personal favorite or go-to place, often using phrases like 'my favorite', 'my go to', 'absolutely love', or expressing frequent repeat visits.  \n",
       "5                                                                                     The input describes the restaurant experience as exceptionally memorable or impressive, often using superlative language (e.g., 'amazing', 'incredible', 'out of this world', 'top ten', 'mind blowingly good'), and emphasizes  \n",
       "8                                                                                                                                                          The input describes the experience of being able to sample or try multiple items (such as flavors, foods, or drinks) before purchasing or making a choice.  \n",
       "9                                                                                                  The input describes an intention or plan to return to the restaurant in the future (e.g., 'will definitely be back', 'I can't wait to come back here', 'will be returning', 'definitely will return again soon', '  \n",
       "11                                                                                                                                                                             The input expresses an intention to return to the restaurant, using phrases like 'will be back', 'will return', or 'coming back again'  \n",
       "14                                                                                                                                                                             The input describes details about a restaurant's wine selection, such as a large or rotating wine list, wines on tap, or wine flights.  \n",
       "15                                                                                                                   The input describes or recommends specific menu items, often mentioning unique ingredients, flavors, or combinations, and sometimes provides tips on what to order or how to customize the dish.  \n",
       "16  The input describes a standout, positive customer service experience, where staff or owners go above and beyond to accommodate needs, such as resolving reservation issues, providing personalized recommendations, adapting to challenges, or giving special attention (e.g., accommodating dietary restrictions  \n",
       "19                                                                                                                                                                          The input describes the restaurant being closed (either temporarily or permanently), or not open during the advertised or expected hours.  \n",
       "18                                                                                                                     The input describes a decline in quality or experience at a restaurant compared to previous visits, often attributing the change to new ownership, management, chef, menu changes, or remodels  \n",
       "17                                                                                                                                                                       The input describes the restaurant being out of or missing specific food items, ingredients, or condiments that are expected to be available  \n",
       "13                                                                                                                                                   The input contains sarcasm or irony, often using exaggerated comparisons or humorous negative statements to critique or comment on the restaurant or experience.  \n",
       "12                                                                                                       The input describes restaurant staff behaving in a rude or disrespectful manner toward the reviewer or the reviewer's family/friends, often with dismissive, hostile, or unprofessional actions or attitude.  \n",
       "10                                                                                                                         The input describes extremely negative experiences with restaurant service or staff, including rudeness, incompetence, being kicked out, long wait times, or refusal to resolve complaints  \n",
       "7                                                                 The input describes experiencing or anticipating a long wait time to receive food or service at a restaurant, often specifying the duration (e.g., '30 minutes', '45-60 minutes', '51 mins'), and expressing frustration or inconvenience caused by  \n",
       "6                                                           The input describes negative experiences with ordering (by phone, online, or at counter/kiosk/drive-thru), specifically mentioning problems such as orders not being taken, incorrect or refused orders, delivery issues, or staff being rude or inattent  \n",
       "3                                                                                                                                    The input describes receiving an incorrect restaurant order, such as missing, wrong, or unmodified items, and often details the restaurant's inadequate response to the mistake.  \n",
       "2                                                                                                                                                                                                                                          The input describes food as bland, lacking flavor, underseasoned, or dull.  \n",
       "1                                                                                                       The input describes negative experiences with restaurant staff, specifically mentioning being ignored, receiving rude or unprofessional service, or staff failing to respond to requests or correct mistakes.  \n",
       "0                                                                                                                                           The input describes food as inedible, rotten, spoiled, or causing illness (e.g., mentions of food poisoning, nausea, vomiting, or food tasting/smelling rotten or rancid)  "
      ]
     },
     "metadata": {},
     "output_type": "display_data"
    }
   ],
   "source": [
    "print(\"\\nMost predictive features of Yelp reviews:\")\n",
    "pd.set_option('display.max_colwidth', None)\n",
    "display(results.sort_values(by=f\"target_correlation_multi_target\", ascending=False))\n",
    "pd.reset_option('display.max_colwidth')"
   ]
  },
  {
   "cell_type": "code",
   "execution_count": 9,
   "metadata": {},
   "outputs": [
    {
     "data": {
      "text/plain": [
       "0     The input describes food as inedible, rotten, ...\n",
       "1     The input describes negative experiences with ...\n",
       "2     The input describes food as bland, lacking fla...\n",
       "3     The input describes receiving an incorrect res...\n",
       "4     The input describes the restaurant as the revi...\n",
       "5     The input describes the restaurant experience ...\n",
       "6     The input describes negative experiences with ...\n",
       "7     The input describes experiencing or anticipati...\n",
       "8     The input describes the experience of being ab...\n",
       "9     The input describes an intention or plan to re...\n",
       "10    The input describes extremely negative experie...\n",
       "11    The input expresses an intention to return to ...\n",
       "12    The input describes restaurant staff behaving ...\n",
       "13    The input contains sarcasm or irony, often usi...\n",
       "14    The input describes details about a restaurant...\n",
       "15    The input describes or recommends specific men...\n",
       "16    The input describes a standout, positive custo...\n",
       "17    The input describes the restaurant being out o...\n",
       "18    The input describes a decline in quality or ex...\n",
       "19    The input describes the restaurant being close...\n",
       "Name: interpretation, dtype: object"
      ]
     },
     "execution_count": 9,
     "metadata": {},
     "output_type": "execute_result"
    }
   ],
   "source": [
    "results['interpretation']"
   ]
  },
  {
   "cell_type": "code",
   "execution_count": 21,
   "metadata": {},
   "outputs": [],
   "source": [
    "input_list = results['interpretation'].values.tolist()"
   ]
  },
  {
   "cell_type": "code",
   "execution_count": 42,
   "metadata": {},
   "outputs": [
    {
     "data": {
      "text/plain": [
       "['The input describes food as inedible, rotten, spoiled, or causing illness (e.g., mentions of food poisoning, nausea, vomiting, or food tasting/smelling rotten or rancid)', 'The input describes negative experiences with restaurant staff, specifically mentioning being ignored, receiving rude or unprofessional service, or staff failing to respond to requests or correct mistakes.', 'The input describes food as bland, lacking flavor, underseasoned, or dull.', \"The input describes receiving an incorrect restaurant order, such as missing, wrong, or unmodified items, and often details the restaurant's inadequate response to the mistake.\", \"The input describes the restaurant as the reviewer's personal favorite or go-to place, often using phrases like 'my favorite', 'my go to', 'absolutely love', or expressing frequent repeat visits.\", \"The input describes the restaurant experience as exceptionally memorable or impressive, often using superlative language (e.g., 'amazing', 'incredible', 'out of this world', 'top ten', 'mind blowingly good'), and emphasizes\", 'The input describes negative experiences with ordering (by phone, online, or at counter/kiosk/drive-thru), specifically mentioning problems such as orders not being taken, incorrect or refused orders, delivery issues, or staff being rude or inattent', \"The input describes experiencing or anticipating a long wait time to receive food or service at a restaurant, often specifying the duration (e.g., '30 minutes', '45-60 minutes', '51 mins'), and expressing frustration or inconvenience caused by\", 'The input describes the experience of being able to sample or try multiple items (such as flavors, foods, or drinks) before purchasing or making a choice.', \"The input describes an intention or plan to return to the restaurant in the future (e.g., 'will definitely be back', 'I can't wait to come back here', 'will be returning', 'definitely will return again soon', '\", 'The input describes extremely negative experiences with restaurant service or staff, including rudeness, incompetence, being kicked out, long wait times, or refusal to resolve complaints', \"The input expresses an intention to return to the restaurant, using phrases like 'will be back', 'will return', or 'coming back again'\", \"The input describes restaurant staff behaving in a rude or disrespectful manner toward the reviewer or the reviewer's family/friends, often with dismissive, hostile, or unprofessional actions or attitude.\", 'The input contains sarcasm or irony, often using exaggerated comparisons or humorous negative statements to critique or comment on the restaurant or experience.', \"The input describes details about a restaurant's wine selection, such as a large or rotating wine list, wines on tap, or wine flights.\", 'The input describes or recommends specific menu items, often mentioning unique ingredients, flavors, or combinations, and sometimes provides tips on what to order or how to customize the dish.', 'The input describes a standout, positive customer service experience, where staff or owners go above and beyond to accommodate needs, such as resolving reservation issues, providing personalized recommendations, adapting to challenges, or giving special attention (e.g., accommodating dietary restrictions', 'The input describes the restaurant being out of or missing specific food items, ingredients, or condiments that are expected to be available', 'The input describes a decline in quality or experience at a restaurant compared to previous visits, often attributing the change to new ownership, management, chef, menu changes, or remodels', 'The input describes the restaurant being closed (either temporarily or permanently), or not open during the advertised or expected hours.']"
      ]
     },
     "execution_count": 42,
     "metadata": {},
     "output_type": "execute_result"
    }
   ],
   "source": [
    "input_list"
   ]
  },
  {
   "cell_type": "code",
   "execution_count": 53,
   "metadata": {},
   "outputs": [],
   "source": [
    "input_list = ['The input mentions long wait times to receive service?', 'Does the input mention rude staff behavior?'] + input_list"
   ]
  },
  {
   "cell_type": "code",
   "execution_count": 46,
   "metadata": {},
   "outputs": [],
   "source": [
    "lm = imodelsx.llm.get_llm('gpt-4.1')"
   ]
  },
  {
   "cell_type": "code",
   "execution_count": 57,
   "metadata": {},
   "outputs": [
    {
     "name": "stdout",
     "output_type": "stream",
     "text": [
      "cached!\n"
     ]
    }
   ],
   "source": [
    "qs = neuro.agent.revise_invalid_questions_by_rewording(input_list, lm)"
   ]
  },
  {
   "cell_type": "code",
   "execution_count": 58,
   "metadata": {},
   "outputs": [
    {
     "name": "stdout",
     "output_type": "stream",
     "text": [
      "Does the input describe an intention or plan to return to the restaurant in the future (e.g., 'will definitely be back', 'I can't wait to come back here', 'will be returning', 'definitely will return again soon')?\n",
      "Does the input describe food as inedible, rotten, spoiled, or causing illness (e.g., mentions of food poisoning, nausea, vomiting, or food tasting/smelling rotten or rancid)?\n",
      "Does the input describe experiencing or anticipating a long wait time to receive food or service at a restaurant, often specifying the duration (e.g., '30 minutes', '45-60 minutes', '51 mins'), and expressing frustration or inconvenience caused by?\n",
      "Does the input mention rude staff behavior?\n",
      "Does the input describe the experience of being able to sample or try multiple items (such as flavors, foods, or drinks) before purchasing or making a choice?\n",
      "Does the input express an intention to return to the restaurant, using phrases like 'will be back', 'will return', or 'coming back again'?\n",
      "Does the input describe or recommend specific menu items, often mentioning unique ingredients, flavors, or combinations, and sometimes provide tips on what to order or how to customize the dish?\n",
      "Does the input describe a decline in quality or experience at a restaurant compared to previous visits, often attributing the change to new ownership, management, chef, menu changes, or remodels?\n",
      "Does the input describe negative experiences with ordering (by phone, online, or at counter/kiosk/drive-thru), specifically mentioning problems such as orders not being taken, incorrect or refused orders, delivery issues, or staff being rude or inattent?\n",
      "Does the input mention long wait times to receive service?\n",
      "Does the input describe the restaurant being out of or missing specific food items, ingredients, or condiments that are expected to be available?\n",
      "Does the input describe the restaurant being closed (either temporarily or permanently), or not open during the advertised or expected hours?\n",
      "Does the input describe restaurant staff behaving in a rude or disrespectful manner toward the reviewer or the reviewer's family/friends, often with dismissive, hostile, or unprofessional actions or attitude?\n",
      "Does the input describe the restaurant as the reviewer's personal favorite or go-to place, often using phrases like 'my favorite', 'my go to', 'absolutely love', or expressing frequent repeat visits?\n",
      "Does the input describe food as bland, lacking flavor, underseasoned, or dull?\n",
      "Does the input describe a standout, positive customer service experience, where staff or owners go above and beyond to accommodate needs, such as resolving reservation issues, providing personalized recommendations, adapting to challenges, or giving special attention (e.g., accommodating dietary restrictions)?\n",
      "Does the input contain sarcasm or irony, often using exaggerated comparisons or humorous negative statements to critique or comment on the restaurant or experience?\n",
      "Does the input describe negative experiences with restaurant staff, specifically mentioning being ignored, receiving rude or unprofessional service, or staff failing to respond to requests or correct mistakes?\n",
      "Does the input describe receiving an incorrect restaurant order, such as missing, wrong, or unmodified items, and often detail the restaurant's inadequate response to the mistake?\n",
      "Does the input describe extremely negative experiences with restaurant service or staff, including rudeness, incompetence, being kicked out, long wait times, or refusal to resolve complaints?\n",
      "Does the input describe the restaurant experience as exceptionally memorable or impressive, often using superlative language (e.g., 'amazing', 'incredible', 'out of this world', 'top ten', 'mind blowingly good'), and emphasize?\n",
      "Does the input describe details about a restaurant's wine selection, such as a large or rotating wine list, wines on tap, or wine flights?\n"
     ]
    }
   ],
   "source": [
    "print('\\n'.join(qs))"
   ]
  },
  {
   "cell_type": "code",
   "execution_count": 18,
   "metadata": {},
   "outputs": [],
   "source": [
    "import imodelsx.llm"
   ]
  },
  {
   "cell_type": "code",
   "execution_count": null,
   "metadata": {},
   "outputs": [],
   "source": [
    "PROMPT_REWORD = f\"\"\"\n",
    "Rewrite every element in this list to be a question starting with \"Does the input\" and ending with a question mark.\n",
    "\n",
    "- {'\\n- '.join(input_list)}\n",
    "\n",
    "Make as few changes as possible to the original text.\n",
    "Return only a python list and nothing else.\"\"\".strip()\n"
   ]
  },
  {
   "cell_type": "code",
   "execution_count": 39,
   "metadata": {},
   "outputs": [
    {
     "name": "stdout",
     "output_type": "stream",
     "text": [
      "not cached\n"
     ]
    }
   ],
   "source": [
    "ans_list = agent(PROMPT_REWORD, max_completion_tokens=None)"
   ]
  },
  {
   "cell_type": "code",
   "execution_count": 41,
   "metadata": {},
   "outputs": [
    {
     "name": "stdout",
     "output_type": "stream",
     "text": [
      "Rewrite every element in this list to be a question starting with \"Does the input\" and ending with a question mark.\n",
      "\n",
      "- The input describes food as inedible, rotten, spoiled, or causing illness (e.g., mentions of food poisoning, nausea, vomiting, or food tasting/smelling rotten or rancid)\n",
      "- The input describes negative experiences with restaurant staff, specifically mentioning being ignored, receiving rude or unprofessional service, or staff failing to respond to requests or correct mistakes.\n",
      "- The input describes food as bland, lacking flavor, underseasoned, or dull.\n",
      "- The input describes receiving an incorrect restaurant order, such as missing, wrong, or unmodified items, and often details the restaurant's inadequate response to the mistake.\n",
      "- The input describes the restaurant as the reviewer's personal favorite or go-to place, often using phrases like 'my favorite', 'my go to', 'absolutely love', or expressing frequent repeat visits.\n",
      "- The input describes the restaurant experience as exceptionally memorable or impressive, often using superlative language (e.g., 'amazing', 'incredible', 'out of this world', 'top ten', 'mind blowingly good'), and emphasizes\n",
      "- The input describes negative experiences with ordering (by phone, online, or at counter/kiosk/drive-thru), specifically mentioning problems such as orders not being taken, incorrect or refused orders, delivery issues, or staff being rude or inattent\n",
      "- The input describes experiencing or anticipating a long wait time to receive food or service at a restaurant, often specifying the duration (e.g., '30 minutes', '45-60 minutes', '51 mins'), and expressing frustration or inconvenience caused by\n",
      "- The input describes the experience of being able to sample or try multiple items (such as flavors, foods, or drinks) before purchasing or making a choice.\n",
      "- The input describes an intention or plan to return to the restaurant in the future (e.g., 'will definitely be back', 'I can't wait to come back here', 'will be returning', 'definitely will return again soon', '\n",
      "- The input describes extremely negative experiences with restaurant service or staff, including rudeness, incompetence, being kicked out, long wait times, or refusal to resolve complaints\n",
      "- The input expresses an intention to return to the restaurant, using phrases like 'will be back', 'will return', or 'coming back again'\n",
      "- The input describes restaurant staff behaving in a rude or disrespectful manner toward the reviewer or the reviewer's family/friends, often with dismissive, hostile, or unprofessional actions or attitude.\n",
      "- The input contains sarcasm or irony, often using exaggerated comparisons or humorous negative statements to critique or comment on the restaurant or experience.\n",
      "- The input describes details about a restaurant's wine selection, such as a large or rotating wine list, wines on tap, or wine flights.\n",
      "- The input describes or recommends specific menu items, often mentioning unique ingredients, flavors, or combinations, and sometimes provides tips on what to order or how to customize the dish.\n",
      "- The input describes a standout, positive customer service experience, where staff or owners go above and beyond to accommodate needs, such as resolving reservation issues, providing personalized recommendations, adapting to challenges, or giving special attention (e.g., accommodating dietary restrictions\n",
      "- The input describes the restaurant being out of or missing specific food items, ingredients, or condiments that are expected to be available\n",
      "- The input describes a decline in quality or experience at a restaurant compared to previous visits, often attributing the change to new ownership, management, chef, menu changes, or remodels\n",
      "- The input describes the restaurant being closed (either temporarily or permanently), or not open during the advertised or expected hours.\n",
      "\n",
      "Make as few changes as possible to the original text.\n",
      "Return only a python list and nothing else.\n"
     ]
    }
   ],
   "source": [
    "print(PROMPT_REWORD)"
   ]
  },
  {
   "cell_type": "code",
   "execution_count": 40,
   "metadata": {},
   "outputs": [
    {
     "name": "stdout",
     "output_type": "stream",
     "text": [
      "[\n",
      "    \"Does the input describe food as inedible, rotten, spoiled, or causing illness (e.g., mentions of food poisoning, nausea, vomiting, or food tasting/smelling rotten or rancid)?\",\n",
      "    \"Does the input describe negative experiences with restaurant staff, specifically mentioning being ignored, receiving rude or unprofessional service, or staff failing to respond to requests or correct mistakes?\",\n",
      "    \"Does the input describe food as bland, lacking flavor, underseasoned, or dull?\",\n",
      "    \"Does the input describe receiving an incorrect restaurant order, such as missing, wrong, or unmodified items, and often detail the restaurant's inadequate response to the mistake?\",\n",
      "    \"Does the input describe the restaurant as the reviewer's personal favorite or go-to place, often using phrases like 'my favorite', 'my go to', 'absolutely love', or expressing frequent repeat visits?\",\n",
      "    \"Does the input describe the restaurant experience as exceptionally memorable or impressive, often using superlative language (e.g., 'amazing', 'incredible', 'out of this world', 'top ten', 'mind blowingly good'), and emphasize?\",\n",
      "    \"Does the input describe negative experiences with ordering (by phone, online, or at counter/kiosk/drive-thru), specifically mentioning problems such as orders not being taken, incorrect or refused orders, delivery issues, or staff being rude or inattent?\",\n",
      "    \"Does the input describe experiencing or anticipating a long wait time to receive food or service at a restaurant, often specifying the duration (e.g., '30 minutes', '45-60 minutes', '51 mins'), and expressing frustration or inconvenience caused by?\",\n",
      "    \"Does the input describe the experience of being able to sample or try multiple items (such as flavors, foods, or drinks) before purchasing or making a choice?\",\n",
      "    \"Does the input describe an intention or plan to return to the restaurant in the future (e.g., 'will definitely be back', 'I can't wait to come back here', 'will be returning', 'definitely will return again soon')?\",\n",
      "    \"Does the input describe extremely negative experiences with restaurant service or staff, including rudeness, incompetence, being kicked out, long wait times, or refusal to resolve complaints?\",\n",
      "    \"Does the input express an intention to return to the restaurant, using phrases like 'will be back', 'will return', or 'coming back again'?\",\n",
      "    \"Does the input describe restaurant staff behaving in a rude or disrespectful manner toward the reviewer or the reviewer's family/friends, often with dismissive, hostile, or unprofessional actions or attitude?\",\n",
      "    \"Does the input contain sarcasm or irony, often using exaggerated comparisons or humorous negative statements to critique or comment on the restaurant or experience?\",\n",
      "    \"Does the input describe details about a restaurant's wine selection, such as a large or rotating wine list, wines on tap, or wine flights?\",\n",
      "    \"Does the input describe or recommend specific menu items, often mentioning unique ingredients, flavors, or combinations, and sometimes provide tips on what to order or how to customize the dish?\",\n",
      "    \"Does the input describe a standout, positive customer service experience, where staff or owners go above and beyond to accommodate needs, such as resolving reservation issues, providing personalized recommendations, adapting to challenges, or giving special attention (e.g., accommodating dietary restrictions)?\",\n",
      "    \"Does the input describe the restaurant being out of or missing specific food items, ingredients, or condiments that are expected to be available?\",\n",
      "    \"Does the input describe a decline in quality or experience at a restaurant compared to previous visits, often attributing the change to new ownership, management, chef, menu changes, or remodels?\",\n",
      "    \"Does the input describe the restaurant being closed (either temporarily or permanently), or not open during the advertised or expected hours?\"\n",
      "]\n"
     ]
    }
   ],
   "source": [
    "print(ans_list)"
   ]
  },
  {
   "cell_type": "code",
   "execution_count": 34,
   "metadata": {},
   "outputs": [
    {
     "name": "stdout",
     "output_type": "stream",
     "text": [
      "Rewrite every element in this list to be a question starting with \"Does the input\" and ending with a question mark.\n",
      "\n",
      "- The input describes food as inedible, rotten, spoiled, or causing illness (e.g., mentions of food poisoning, nausea, vomiting, or food tasting/smelling rotten or rancid)\n",
      "- The input describes negative experiences with restaurant staff, specifically mentioning being ignored, receiving rude or unprofessional service, or staff failing to respond to requests or correct mistakes.\n",
      "- The input describes food as bland, lacking flavor, underseasoned, or dull.\n",
      "- The input describes receiving an incorrect restaurant order, such as missing, wrong, or unmodified items, and often details the restaurant's inadequate response to the mistake.\n",
      "- The input describes the restaurant as the reviewer's personal favorite or go-to place, often using phrases like 'my favorite', 'my go to', 'absolutely love', or expressing frequent repeat visits.\n",
      "- The input describes the restaurant experience as exceptionally memorable or impressive, often using superlative language (e.g., 'amazing', 'incredible', 'out of this world', 'top ten', 'mind blowingly good'), and emphasizes\n",
      "- The input describes negative experiences with ordering (by phone, online, or at counter/kiosk/drive-thru), specifically mentioning problems such as orders not being taken, incorrect or refused orders, delivery issues, or staff being rude or inattent\n",
      "- The input describes experiencing or anticipating a long wait time to receive food or service at a restaurant, often specifying the duration (e.g., '30 minutes', '45-60 minutes', '51 mins'), and expressing frustration or inconvenience caused by\n",
      "- The input describes the experience of being able to sample or try multiple items (such as flavors, foods, or drinks) before purchasing or making a choice.\n",
      "- The input describes an intention or plan to return to the restaurant in the future (e.g., 'will definitely be back', 'I can't wait to come back here', 'will be returning', 'definitely will return again soon', '\n",
      "- The input describes extremely negative experiences with restaurant service or staff, including rudeness, incompetence, being kicked out, long wait times, or refusal to resolve complaints\n",
      "- The input expresses an intention to return to the restaurant, using phrases like 'will be back', 'will return', or 'coming back again'\n",
      "- The input describes restaurant staff behaving in a rude or disrespectful manner toward the reviewer or the reviewer's family/friends, often with dismissive, hostile, or unprofessional actions or attitude.\n",
      "- The input contains sarcasm or irony, often using exaggerated comparisons or humorous negative statements to critique or comment on the restaurant or experience.\n",
      "- The input describes details about a restaurant's wine selection, such as a large or rotating wine list, wines on tap, or wine flights.\n",
      "- The input describes or recommends specific menu items, often mentioning unique ingredients, flavors, or combinations, and sometimes provides tips on what to order or how to customize the dish.\n",
      "- The input describes a standout, positive customer service experience, where staff or owners go above and beyond to accommodate needs, such as resolving reservation issues, providing personalized recommendations, adapting to challenges, or giving special attention (e.g., accommodating dietary restrictions\n",
      "- The input describes the restaurant being out of or missing specific food items, ingredients, or condiments that are expected to be available\n",
      "- The input describes a decline in quality or experience at a restaurant compared to previous visits, often attributing the change to new ownership, management, chef, menu changes, or remodels\n",
      "- The input describes the restaurant being closed (either temporarily or permanently), or not open during the advertised or expected hours.\n",
      "\n",
      "Make as few changes as possible to the original text.\n",
      "Return only a python list and nothing else.\n"
     ]
    }
   ],
   "source": [
    "print(PROMPT_REWORD)"
   ]
  },
  {
   "cell_type": "code",
   "execution_count": null,
   "metadata": {},
   "outputs": [],
   "source": []
  }
 ],
 "metadata": {
  "kernelspec": {
   "display_name": ".venv",
   "language": "python",
   "name": "python3"
  },
  "language_info": {
   "codemirror_mode": {
    "name": "ipython",
    "version": 3
   },
   "file_extension": ".py",
   "mimetype": "text/x-python",
   "name": "python",
   "nbconvert_exporter": "python",
   "pygments_lexer": "ipython3",
   "version": "3.12.3"
  }
 },
 "nbformat": 4,
 "nbformat_minor": 2
}
