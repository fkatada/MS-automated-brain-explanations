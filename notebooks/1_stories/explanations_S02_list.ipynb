{
 "cells": [
  {
   "cell_type": "code",
   "execution_count": 5,
   "metadata": {},
   "outputs": [],
   "source": [
    "import pandas as pd\n",
    "EXPLANATIONS_ALREADY_RAN_S02_QA = [\n",
    "    'abstract descriptions',\n",
    "    'numbers',\n",
    "    'specific objects or items',\n",
    "    'industry or profession',\n",
    "    'sensory experiences',\n",
    "    'negations',\n",
    "    'time',\n",
    "    'personal reflections or thoughts',\n",
    "    'opinions or judgments',\n",
    "    'technical or specialized terminology',\n",
    "    'personal values or beliefs',\n",
    "    'planning or organizing',\n",
    "    'proper nouns',\n",
    "    'physical actions',\n",
    "    'personal or interactions interactions',\n",
    "    'relationships between people',\n",
    "    'cultural references',\n",
    "    'communication',\n",
    "    'dialogue',\n",
    "    'locations',\n",
    "    'measurements',\n",
    "]\n",
    "\n",
    "EXPLANATIONS_ALREADY_RAN_S02_VOXEL = [\n",
    "    'surprise',\n",
    "    'laughter',\n",
    "    'moments',\n",
    "    'rejection',\n",
    "    'emotion',\n",
    "    'negativity',\n",
    "    'emotional expression',\n",
    "    'communication',\n",
    "    'death',\n",
    "    'birthdays',\n",
    "    'physical injury or trauma',\n",
    "    'hair and clothing',\n",
    "    'food preparation',\n",
    "    'time',\n",
    "    'measurements',\n",
    "    'directions',\n",
    "    'locations',\n",
    "]\n",
    "\n",
    "EXPLANATIONS_ALREADY_RAN_S02_ROIS = [\n",
    "    'Body parts',\n",
    "    'Descriptive elements of scenes/objects',\n",
    "    'Personal growth and reflection',\n",
    "    'Verbal interactions',\n",
    "    'Time and numbers',\n",
    "    'Travel and location names',\n",
    "    'Scenes and settings',\n",
    "    'Direction and location descriptions',\n",
    "    'Location names',\n",
    "    'Unappetizing foods',\n",
    "    'Spatial position & directions',\n",
    "]\n",
    "\n",
    "# create dataframe with columns ['explanations', 'explanation_type']\n",
    "explanations_df = pd.DataFrame(\n",
    "    EXPLANATIONS_ALREADY_RAN_S02_QA + EXPLANATIONS_ALREADY_RAN_S02_VOXEL + EXPLANATIONS_ALREADY_RAN_S02_ROIS, columns=['explanations'])\n",
    "explanations_df['experiment_condition'] = ['QA'] * len(EXPLANATIONS_ALREADY_RAN_S02_QA) + ['Voxel'] * \\\n",
    "    len(EXPLANATIONS_ALREADY_RAN_S02_VOXEL) + ['ROIs'] * \\\n",
    "    len(EXPLANATIONS_ALREADY_RAN_S02_ROIS)"
   ]
  },
  {
   "cell_type": "code",
   "execution_count": 6,
   "metadata": {},
   "outputs": [],
   "source": [
    "explanations_df.to_csv('explanations_already_ran_S02.csv', index=False)"
   ]
  },
  {
   "cell_type": "code",
   "execution_count": null,
   "metadata": {},
   "outputs": [],
   "source": []
  }
 ],
 "metadata": {
  "kernelspec": {
   "display_name": ".env",
   "language": "python",
   "name": "python3"
  },
  "language_info": {
   "codemirror_mode": {
    "name": "ipython",
    "version": 3
   },
   "file_extension": ".py",
   "mimetype": "text/x-python",
   "name": "python",
   "nbconvert_exporter": "python",
   "pygments_lexer": "ipython3",
   "version": "3.11.10"
  }
 },
 "nbformat": 4,
 "nbformat_minor": 2
}
