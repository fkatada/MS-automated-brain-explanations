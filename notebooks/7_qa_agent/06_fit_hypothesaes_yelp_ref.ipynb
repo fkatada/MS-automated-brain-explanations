{
 "cells": [
  {
   "cell_type": "code",
   "execution_count": 28,
   "metadata": {},
   "outputs": [
    {
     "name": "stdout",
     "output_type": "stream",
     "text": [
      "The autoreload extension is already loaded. To reload it, use:\n",
      "  %reload_ext autoreload\n"
     ]
    }
   ],
   "source": [
    "%load_ext autoreload\n",
    "%autoreload 2\n",
    "\n",
    "import os\n",
    "import joblib\n",
    "import numpy as np\n",
    "import pandas as pd\n",
    "from neuro import config\n",
    "\n",
    "from neuro.baselines.hypothesaes.quickstart import train_sae, interpret_sae, generate_hypotheses, evaluate_hypotheses\n",
    "from neuro.baselines.hypothesaes.embedding import get_local_embeddings\n",
    "\n",
    "INTERPRETER_MODEL = \"gpt-4.1\"\n",
    "# ANNOTATOR_MODEL = 'meta-llama/Meta-Llama-3-8B-Instruct' # not actually used\n",
    "EMBEDDER = \"nomic-ai/modernbert-embed-base\" # Huggingface model, will run locally\n",
    "TASK_SPECIFIC_INSTRUCTIONS = \"\"\"All of the texts are reviews of restaurants on Yelp.\n",
    "Features should describe a specific aspect of the review. For example:\n",
    "- \"mentions long wait times to receive service\"\n",
    "- \"praises how a dish was cooked, with phrases like 'perfect medium-rare'\\\"\"\"\"\n",
    "\n",
    "# paths\n",
    "OUT_DIR = os.path.expanduser('~/mntv1/deep-fMRI/qa/hypothesaes')\n",
    "os.makedirs(OUT_DIR, exist_ok=True)\n",
    "os.environ['EMB_CACHE_DIR'] = os.path.join(OUT_DIR, os.path.expanduser('~/emb_cache'))\n",
    "CACHE_NAME = f\"yelp_quickstart_{EMBEDDER.replace('/', '___')}\"\n",
    "checkpoint_dir = os.path.join(OUT_DIR, \"checkpoints\", CACHE_NAME)"
   ]
  },
  {
   "cell_type": "markdown",
   "metadata": {},
   "source": [
    "**Load data**\n",
    "\n",
    "The dataset we're using here is a subset of 20K Yelp reviews, with 2K reviews used for validation (during SAE training). \n",
    "\n",
    "The target variable is the `stars` column, which is a rating between 1 and 5. We treat this as a regression task.\n",
    "\n",
    "There are also 2K reviews used for holdout evaluation, which we'll use at the end of the notebook."
   ]
  },
  {
   "cell_type": "code",
   "execution_count": 13,
   "metadata": {},
   "outputs": [],
   "source": [
    "base_dir = os.path.join(os.path.join(config.REPO_DIR, 'data', \"demo_data\"))\n",
    "train_df = pd.read_json(os.path.join(base_dir, \"yelp-demo-train-20K.json\"), lines=True)\n",
    "val_df = pd.read_json(os.path.join(base_dir, \"yelp-demo-val-2K.json\"), lines=True)\n",
    "\n",
    "texts = train_df['text'].tolist()\n",
    "labels = train_df['stars'].values\n",
    "val_texts = val_df['text'].tolist() # These are only used for early stopping of SAE training, so we don't need labels."
   ]
  },
  {
   "cell_type": "markdown",
   "metadata": {},
   "source": [
    "**Compute text embeddings for your dataset**\n",
    "\n",
    "We'll compute text embeddings for a training set, and optionally a validation set. The validation embeddings are used for SAE eval and early-stopping during training.\n",
    "\n",
    "Embeddings will be stored in the `emb_cache` directory (or `os.environ[\"EMB_CACHE_DIR\"]` if you set it) using the `cache_name` parameter, so you only need to compute embeddings once.\n",
    "\n",
    "You can use OpenAI or a local model.\n",
    "\n",
    "Local models will run much faster on GPU. The default local model is `nomic-ai/modernbert-embed-base`. You can use any sentence-transformers model, but please read the model's docs; you may need to edit `get_local_embeddings`."
   ]
  },
  {
   "cell_type": "code",
   "execution_count": null,
   "metadata": {},
   "outputs": [],
   "source": [
    "# text2embedding = get_openai_embeddings(texts + val_texts, model=EMBEDDER, cache_name=CACHE_NAME)\n",
    "text2embedding = get_local_embeddings(texts + val_texts, model=EMBEDDER, batch_size=128, cache_name=CACHE_NAME)\n",
    "embeddings = np.stack([text2embedding[text] for text in texts])\n",
    "\n",
    "train_embeddings = np.stack([text2embedding[text] for text in texts])\n",
    "val_embeddings = np.stack([text2embedding[text] for text in val_texts])"
   ]
  },
  {
   "cell_type": "code",
   "execution_count": null,
   "metadata": {},
   "outputs": [],
   "source": [
    "joblib.dump((train_embeddings, val_embeddings), os.path.join(OUT_DIR, f\"{CACHE_NAME}_embeddings.pkl\"))"
   ]
  },
  {
   "cell_type": "code",
   "execution_count": 24,
   "metadata": {},
   "outputs": [],
   "source": [
    "train_embeddings, val_embeddings = joblib.load(os.path.join(OUT_DIR, f\"{CACHE_NAME}_embeddings.pkl\"))"
   ]
  },
  {
   "cell_type": "markdown",
   "metadata": {},
   "source": [
    "**Train SAE** \n",
    "\n",
    "We will train a Matryoshka SAE with $M=256$, $k=8$, and $\\text{prefix\\_lengths} = [32, 256]$.  \n",
    "\n",
    "With the Matryoshka loss, the SAE will learn to reconstruct the input from (1) just the first 32 neurons, and (2) all 256 neurons.  \n",
    "This will produce 32 coarse-grained features, and 224 finer-grained features.  \n",
    "\n",
    "See the README for more details about selecting SAE hyperparameters. "
   ]
  },
  {
   "cell_type": "code",
   "execution_count": null,
   "metadata": {},
   "outputs": [],
   "source": [
    "\n",
    "sae = train_sae(embeddings=train_embeddings, val_embeddings=val_embeddings,\n",
    "                M=512, K=16, matryoshka_prefix_lengths=[64, 512], \n",
    "                checkpoint_dir=checkpoint_dir)"
   ]
  },
  {
   "cell_type": "code",
   "execution_count": null,
   "metadata": {},
   "outputs": [],
   "source": [
    "joblib.dump(sae, os.path.join(checkpoint_dir, \"sae.pkl\"))"
   ]
  },
  {
   "cell_type": "code",
   "execution_count": 25,
   "metadata": {},
   "outputs": [],
   "source": [
    "sae = joblib.load(os.path.join(checkpoint_dir, \"sae.pkl\"))"
   ]
  },
  {
   "cell_type": "markdown",
   "metadata": {},
   "source": [
    "**Interpret neurons**  \n",
    "\n",
    "Interpret a random subset of neurons in the SAE to sanity-check that the learned features, and their interpretations, seem reasonable. We generate and print labels for `n_random_neurons` neurons, and we also print out the top-activating texts for each neuron."
   ]
  },
  {
   "cell_type": "code",
   "execution_count": null,
   "metadata": {},
   "outputs": [],
   "source": [
    "# This instruction will be included in the neuron interpretation prompt.\n",
    "# The below instructions are specific to Yelp, but you can customize this for your task.\n",
    "# If you don't pass in task-specific instructions, there is a generic instruction (see src/interpret_neurons.py);\n",
    "# task-specific instructions are optional, but they help produce hypotheses at the desired level of specificity.\n",
    "\n",
    "# Interpret random neurons\n",
    "results_examples = interpret_sae(\n",
    "    texts=texts,\n",
    "    embeddings=train_embeddings,\n",
    "    sae=sae,\n",
    "    n_random_neurons=5,\n",
    "    print_examples_n=3,\n",
    "    task_specific_instructions=TASK_SPECIFIC_INSTRUCTIONS,\n",
    "    interpreter_model=INTERPRETER_MODEL,\n",
    ")"
   ]
  },
  {
   "cell_type": "markdown",
   "metadata": {},
   "source": [
    "**Generate hypotheses**\n",
    "\n",
    "Generate hypotheses which are predictive of the target variable.\n",
    "\n",
    "The `selection_method` parameter defines how we compute neuron predictiveness (see `src/select_neurons.py` for more details):\n",
    "- \"separation_score\": E[target | top-activating examples] - E[target | zero-activating examples]\n",
    "- \"correlation\": pearson(neuron activations, target variable)\n",
    "- \"lasso\": select N nonzero features with an L1 regularized model\n",
    "\n",
    "This cell outputs a dataframe with the following columns:\n",
    "- `neuron_idx`: The index of the neuron in the SAE (if you're using multiple SAEs, this will be a global index across all of them).\n",
    "- `source_sae`: The SAE that the neuron was selected from.\n",
    "- `target_{selection_method}`: The predictiveness of the neuron for the target variable, using the selected `selection_method`.\n",
    "- `interpretation`: The natural language interpretation of the neuron.\n",
    "- `interp_fidelity_score`: The F1 fidelity score for how well the neuron's interpretation actually corresponds to its activation pattern."
   ]
  },
  {
   "cell_type": "code",
   "execution_count": null,
   "metadata": {},
   "outputs": [
    {
     "name": "stdout",
     "output_type": "stream",
     "text": [
      "Embeddings shape: (20000, 768)\n"
     ]
    },
    {
     "data": {
      "application/vnd.jupyter.widget-view+json": {
       "model_id": "bb382592a1824985ad5555b49016c501",
       "version_major": 2,
       "version_minor": 0
      },
      "text/plain": [
       "Computing activations (batchsize=16384):   0%|          | 0/2 [00:00<?, ?it/s]"
      ]
     },
     "metadata": {},
     "output_type": "display_data"
    },
    {
     "name": "stdout",
     "output_type": "stream",
     "text": [
      "Activations shape: (20000, 512)\n",
      "\n",
      "Step 1: Selecting top 20 predictive neurons\n",
      "\n",
      "Step 2: Interpreting selected neurons\n"
     ]
    },
    {
     "data": {
      "application/vnd.jupyter.widget-view+json": {
       "model_id": "61e4b4c765e44d8bb86be11642777d38",
       "version_major": 2,
       "version_minor": 0
      },
      "text/plain": [
       "Generating interpretations:   0%|          | 0/20 [00:00<?, ?it/s]"
      ]
     },
     "metadata": {},
     "output_type": "display_data"
    },
    {
     "name": "stdout",
     "output_type": "stream",
     "text": [
      "\n",
      "Most predictive features of Yelp reviews:\n"
     ]
    },
    {
     "ename": "NameError",
     "evalue": "name 'selection_method' is not defined",
     "output_type": "error",
     "traceback": [
      "\u001b[31m---------------------------------------------------------------------------\u001b[39m",
      "\u001b[31mNameError\u001b[39m                                 Traceback (most recent call last)",
      "\u001b[36mCell\u001b[39m\u001b[36m \u001b[39m\u001b[32mIn[29]\u001b[39m\u001b[32m, line 27\u001b[39m\n\u001b[32m     25\u001b[39m \u001b[38;5;28mprint\u001b[39m(\u001b[33m\"\u001b[39m\u001b[38;5;130;01m\\n\u001b[39;00m\u001b[33mMost predictive features of Yelp reviews:\u001b[39m\u001b[33m\"\u001b[39m)\n\u001b[32m     26\u001b[39m pd.set_option(\u001b[33m'\u001b[39m\u001b[33mdisplay.max_colwidth\u001b[39m\u001b[33m'\u001b[39m, \u001b[38;5;28;01mNone\u001b[39;00m)\n\u001b[32m---> \u001b[39m\u001b[32m27\u001b[39m display(results.sort_values(by=\u001b[33mf\u001b[39m\u001b[33m\"\u001b[39m\u001b[33mtarget_\u001b[39m\u001b[38;5;132;01m{\u001b[39;00m\u001b[43mselection_method\u001b[49m\u001b[38;5;132;01m}\u001b[39;00m\u001b[33m\"\u001b[39m, ascending=\u001b[38;5;28;01mFalse\u001b[39;00m))\n\u001b[32m     28\u001b[39m pd.reset_option(\u001b[33m'\u001b[39m\u001b[33mdisplay.max_colwidth\u001b[39m\u001b[33m'\u001b[39m)\n",
      "\u001b[31mNameError\u001b[39m: name 'selection_method' is not defined"
     ]
    }
   ],
   "source": [
    "labels_multitarget = np.vstack([labels, labels, labels]).T  # Duplicate labels for multi-target selection\n",
    "\n",
    "results = generate_hypotheses(\n",
    "    texts=texts,\n",
    "    labels=labels_multitarget,\n",
    "    embeddings=train_embeddings,\n",
    "    sae=sae,\n",
    "    cache_name=CACHE_NAME,\n",
    "    classification=False,\n",
    "\n",
    "    # hyperparams\n",
    "    selection_method = \"correlation_multi_target\",\n",
    "    n_selected_neurons=20,\n",
    "    n_candidate_interpretations=1,\n",
    "    task_specific_instructions=TASK_SPECIFIC_INSTRUCTIONS,\n",
    "    interpreter_model=INTERPRETER_MODEL,\n",
    "\n",
    "    # provide some scoring of the hypotheses using this many examples\n",
    "    n_scoring_examples=0,\n",
    "    # n_scoring_examples=100,\n",
    "    # annotator_model=ANNOTATOR_MODEL,\n",
    "    # n_workers_annotation=N_WORKERS_ANNOTATION, # Please lower this parameter if you are running into OpenAI API rate limits\n",
    ")"
   ]
  },
  {
   "cell_type": "code",
   "execution_count": 32,
   "metadata": {},
   "outputs": [
    {
     "name": "stdout",
     "output_type": "stream",
     "text": [
      "\n",
      "Most predictive features of Yelp reviews:\n"
     ]
    },
    {
     "data": {
      "text/html": [
       "<div>\n",
       "<style scoped>\n",
       "    .dataframe tbody tr th:only-of-type {\n",
       "        vertical-align: middle;\n",
       "    }\n",
       "\n",
       "    .dataframe tbody tr th {\n",
       "        vertical-align: top;\n",
       "    }\n",
       "\n",
       "    .dataframe thead th {\n",
       "        text-align: right;\n",
       "    }\n",
       "</style>\n",
       "<table border=\"1\" class=\"dataframe\">\n",
       "  <thead>\n",
       "    <tr style=\"text-align: right;\">\n",
       "      <th></th>\n",
       "      <th>neuron_idx</th>\n",
       "      <th>source_sae</th>\n",
       "      <th>target_correlation_multi_target</th>\n",
       "      <th>interpretation</th>\n",
       "    </tr>\n",
       "  </thead>\n",
       "  <tbody>\n",
       "    <tr>\n",
       "      <th>4</th>\n",
       "      <td>54</td>\n",
       "      <td>(SAE_0, 512, 16)</td>\n",
       "      <td>0.351364</td>\n",
       "      <td>describes the restaurant as a personal or family favorite, using phrases like 'my favorite', 'go to', 'all time favorite', or mentioning frequent repeat visits</td>\n",
       "    </tr>\n",
       "    <tr>\n",
       "      <th>5</th>\n",
       "      <td>0</td>\n",
       "      <td>(SAE_0, 512, 16)</td>\n",
       "      <td>0.241403</td>\n",
       "      <td>describes the overall restaurant experience as exceptionally memorable or impressive, using superlative language and emphasizing a strong emotional reaction (e.g., 'mind blowingly good', 'in love', 'memorable experience', 'can't wait to turn more</td>\n",
       "    </tr>\n",
       "    <tr>\n",
       "      <th>8</th>\n",
       "      <td>43</td>\n",
       "      <td>(SAE_0, 512, 16)</td>\n",
       "      <td>0.215558</td>\n",
       "      <td>mentions the ability to sample or try different items (such as flavors, drinks, or foods) before purchasing</td>\n",
       "    </tr>\n",
       "    <tr>\n",
       "      <th>9</th>\n",
       "      <td>63</td>\n",
       "      <td>(SAE_0, 512, 16)</td>\n",
       "      <td>0.188179</td>\n",
       "      <td>mentions intention to return or try more items at the restaurant</td>\n",
       "    </tr>\n",
       "    <tr>\n",
       "      <th>11</th>\n",
       "      <td>8</td>\n",
       "      <td>(SAE_0, 512, 16)</td>\n",
       "      <td>0.172736</td>\n",
       "      <td>mentions intention or desire to return to the restaurant, with phrases like 'will definitely be back', 'will return', or 'coming back again'</td>\n",
       "    </tr>\n",
       "    <tr>\n",
       "      <th>14</th>\n",
       "      <td>59</td>\n",
       "      <td>(SAE_0, 512, 16)</td>\n",
       "      <td>0.159896</td>\n",
       "      <td>mentions a wine list, wine selection, or wines by the glass</td>\n",
       "    </tr>\n",
       "    <tr>\n",
       "      <th>15</th>\n",
       "      <td>40</td>\n",
       "      <td>(SAE_0, 512, 16)</td>\n",
       "      <td>0.155774</td>\n",
       "      <td>describes specific dishes or items in detail, often naming ingredients, preparation methods, or flavors (e.g., 'cardamom gelato', 'vegan scramble', 'crispy tofu over soba noodles', 'chorizo breakfast</td>\n",
       "    </tr>\n",
       "    <tr>\n",
       "      <th>16</th>\n",
       "      <td>10</td>\n",
       "      <td>(SAE_0, 512, 16)</td>\n",
       "      <td>0.151753</td>\n",
       "      <td>describes a positive experience with staff or owners going above and beyond in terms of helpfulness, hospitality, or accommodating special requests</td>\n",
       "    </tr>\n",
       "    <tr>\n",
       "      <th>19</th>\n",
       "      <td>15</td>\n",
       "      <td>(SAE_0, 512, 16)</td>\n",
       "      <td>-0.141028</td>\n",
       "      <td>mentions that the restaurant was closed or not open during expected business hours</td>\n",
       "    </tr>\n",
       "    <tr>\n",
       "      <th>18</th>\n",
       "      <td>61</td>\n",
       "      <td>(SAE_0, 512, 16)</td>\n",
       "      <td>-0.141743</td>\n",
       "      <td>describes a decline in quality or experience at a restaurant that was previously a favorite, often referencing changes such as new ownership, new chef, remodeled space, reduced menu, or increased prices</td>\n",
       "    </tr>\n",
       "    <tr>\n",
       "      <th>17</th>\n",
       "      <td>443</td>\n",
       "      <td>(SAE_0, 512, 16)</td>\n",
       "      <td>-0.149529</td>\n",
       "      <td>complains that the restaurant was out of or missing menu items, ingredients, or condiments</td>\n",
       "    </tr>\n",
       "    <tr>\n",
       "      <th>13</th>\n",
       "      <td>49</td>\n",
       "      <td>(SAE_0, 512, 16)</td>\n",
       "      <td>-0.161975</td>\n",
       "      <td>uses sarcasm, irony, or playful exaggeration to describe restaurant experiences</td>\n",
       "    </tr>\n",
       "    <tr>\n",
       "      <th>12</th>\n",
       "      <td>111</td>\n",
       "      <td>(SAE_0, 512, 16)</td>\n",
       "      <td>-0.164243</td>\n",
       "      <td>describes staff or employees as being rude, disrespectful, or exhibiting attitude towards customers</td>\n",
       "    </tr>\n",
       "    <tr>\n",
       "      <th>10</th>\n",
       "      <td>197</td>\n",
       "      <td>(SAE_0, 512, 16)</td>\n",
       "      <td>-0.173535</td>\n",
       "      <td>mentions extremely negative experiences with customer service or staff, including rudeness, being kicked out, refusal to issue refunds, or long wait times attributed to staff incompetence</td>\n",
       "    </tr>\n",
       "    <tr>\n",
       "      <th>7</th>\n",
       "      <td>44</td>\n",
       "      <td>(SAE_0, 512, 16)</td>\n",
       "      <td>-0.233514</td>\n",
       "      <td>complains about long wait times to receive food or service, often specifying the duration waited</td>\n",
       "    </tr>\n",
       "    <tr>\n",
       "      <th>6</th>\n",
       "      <td>35</td>\n",
       "      <td>(SAE_0, 512, 16)</td>\n",
       "      <td>-0.237368</td>\n",
       "      <td>describes problems with ordering or delivery processes, such as orders being refused, delivered incorrectly, or requiring use of self-service kiosks instead of staff</td>\n",
       "    </tr>\n",
       "    <tr>\n",
       "      <th>3</th>\n",
       "      <td>6</td>\n",
       "      <td>(SAE_0, 512, 16)</td>\n",
       "      <td>-0.367163</td>\n",
       "      <td>describes receiving an incorrect or incomplete food order, such as missing items, wrong ingredients, or order modifications not being honored</td>\n",
       "    </tr>\n",
       "    <tr>\n",
       "      <th>2</th>\n",
       "      <td>57</td>\n",
       "      <td>(SAE_0, 512, 16)</td>\n",
       "      <td>-0.433361</td>\n",
       "      <td>describes food as bland, lacking flavor, or underseasoned</td>\n",
       "    </tr>\n",
       "    <tr>\n",
       "      <th>1</th>\n",
       "      <td>3</td>\n",
       "      <td>(SAE_0, 512, 16)</td>\n",
       "      <td>-0.584424</td>\n",
       "      <td>describes experiences where restaurant staff were inattentive or ignored customers, such as not providing menus, not taking orders, or failing to return to the table</td>\n",
       "    </tr>\n",
       "    <tr>\n",
       "      <th>0</th>\n",
       "      <td>23</td>\n",
       "      <td>(SAE_0, 512, 16)</td>\n",
       "      <td>-0.706480</td>\n",
       "      <td>describes food as rotten, spoiled, old, or causing food poisoning or illness</td>\n",
       "    </tr>\n",
       "  </tbody>\n",
       "</table>\n",
       "</div>"
      ],
      "text/plain": [
       "    neuron_idx        source_sae  target_correlation_multi_target  \\\n",
       "4           54  (SAE_0, 512, 16)                         0.351364   \n",
       "5            0  (SAE_0, 512, 16)                         0.241403   \n",
       "8           43  (SAE_0, 512, 16)                         0.215558   \n",
       "9           63  (SAE_0, 512, 16)                         0.188179   \n",
       "11           8  (SAE_0, 512, 16)                         0.172736   \n",
       "14          59  (SAE_0, 512, 16)                         0.159896   \n",
       "15          40  (SAE_0, 512, 16)                         0.155774   \n",
       "16          10  (SAE_0, 512, 16)                         0.151753   \n",
       "19          15  (SAE_0, 512, 16)                        -0.141028   \n",
       "18          61  (SAE_0, 512, 16)                        -0.141743   \n",
       "17         443  (SAE_0, 512, 16)                        -0.149529   \n",
       "13          49  (SAE_0, 512, 16)                        -0.161975   \n",
       "12         111  (SAE_0, 512, 16)                        -0.164243   \n",
       "10         197  (SAE_0, 512, 16)                        -0.173535   \n",
       "7           44  (SAE_0, 512, 16)                        -0.233514   \n",
       "6           35  (SAE_0, 512, 16)                        -0.237368   \n",
       "3            6  (SAE_0, 512, 16)                        -0.367163   \n",
       "2           57  (SAE_0, 512, 16)                        -0.433361   \n",
       "1            3  (SAE_0, 512, 16)                        -0.584424   \n",
       "0           23  (SAE_0, 512, 16)                        -0.706480   \n",
       "\n",
       "                                                                                                                                                                                                                                            interpretation  \n",
       "4                                                                                          describes the restaurant as a personal or family favorite, using phrases like 'my favorite', 'go to', 'all time favorite', or mentioning frequent repeat visits  \n",
       "5   describes the overall restaurant experience as exceptionally memorable or impressive, using superlative language and emphasizing a strong emotional reaction (e.g., 'mind blowingly good', 'in love', 'memorable experience', 'can't wait to turn more  \n",
       "8                                                                                                                                              mentions the ability to sample or try different items (such as flavors, drinks, or foods) before purchasing  \n",
       "9                                                                                                                                                                                         mentions intention to return or try more items at the restaurant  \n",
       "11                                                                                                            mentions intention or desire to return to the restaurant, with phrases like 'will definitely be back', 'will return', or 'coming back again'  \n",
       "14                                                                                                                                                                                             mentions a wine list, wine selection, or wines by the glass  \n",
       "15                                                 describes specific dishes or items in detail, often naming ingredients, preparation methods, or flavors (e.g., 'cardamom gelato', 'vegan scramble', 'crispy tofu over soba noodles', 'chorizo breakfast  \n",
       "16                                                                                                     describes a positive experience with staff or owners going above and beyond in terms of helpfulness, hospitality, or accommodating special requests  \n",
       "19                                                                                                                                                                      mentions that the restaurant was closed or not open during expected business hours  \n",
       "18                                              describes a decline in quality or experience at a restaurant that was previously a favorite, often referencing changes such as new ownership, new chef, remodeled space, reduced menu, or increased prices  \n",
       "17                                                                                                                                                              complains that the restaurant was out of or missing menu items, ingredients, or condiments  \n",
       "13                                                                                                                                                                         uses sarcasm, irony, or playful exaggeration to describe restaurant experiences  \n",
       "12                                                                                                                                                     describes staff or employees as being rude, disrespectful, or exhibiting attitude towards customers  \n",
       "10                                                             mentions extremely negative experiences with customer service or staff, including rudeness, being kicked out, refusal to issue refunds, or long wait times attributed to staff incompetence  \n",
       "7                                                                                                                                                         complains about long wait times to receive food or service, often specifying the duration waited  \n",
       "6                                                                                    describes problems with ordering or delivery processes, such as orders being refused, delivered incorrectly, or requiring use of self-service kiosks instead of staff  \n",
       "3                                                                                                            describes receiving an incorrect or incomplete food order, such as missing items, wrong ingredients, or order modifications not being honored  \n",
       "2                                                                                                                                                                                                describes food as bland, lacking flavor, or underseasoned  \n",
       "1                                                                                    describes experiences where restaurant staff were inattentive or ignored customers, such as not providing menus, not taking orders, or failing to return to the table  \n",
       "0                                                                                                                                                                             describes food as rotten, spoiled, old, or causing food poisoning or illness  "
      ]
     },
     "metadata": {},
     "output_type": "display_data"
    }
   ],
   "source": [
    "print(\"\\nMost predictive features of Yelp reviews:\")\n",
    "pd.set_option('display.max_colwidth', None)\n",
    "display(results.sort_values(by=f\"target_correlation_multi_target\", ascending=False))\n",
    "pd.reset_option('display.max_colwidth')"
   ]
  }
 ],
 "metadata": {
  "kernelspec": {
   "display_name": ".venv",
   "language": "python",
   "name": "python3"
  },
  "language_info": {
   "codemirror_mode": {
    "name": "ipython",
    "version": 3
   },
   "file_extension": ".py",
   "mimetype": "text/x-python",
   "name": "python",
   "nbconvert_exporter": "python",
   "pygments_lexer": "ipython3",
   "version": "3.12.3"
  }
 },
 "nbformat": 4,
 "nbformat_minor": 2
}
