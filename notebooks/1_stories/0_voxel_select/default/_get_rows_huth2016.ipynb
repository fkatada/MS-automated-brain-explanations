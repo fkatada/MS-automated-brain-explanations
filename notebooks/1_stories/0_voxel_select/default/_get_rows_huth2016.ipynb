{
 "cells": [
  {
   "cell_type": "code",
   "execution_count": 3,
   "metadata": {},
   "outputs": [
    {
     "name": "stdout",
     "output_type": "stream",
     "text": [
      "The autoreload extension is already loaded. To reload it, use:\n",
      "  %reload_ext autoreload\n"
     ]
    }
   ],
   "source": [
    "%load_ext autoreload\n",
    "%autoreload 2\n",
    "import os\n",
    "import matplotlib.pyplot as plt\n",
    "import seaborn as sns\n",
    "from os.path import join\n",
    "from tqdm import tqdm\n",
    "import pandas as pd\n",
    "from typing import List\n",
    "import numpy as np\n",
    "import sys\n",
    "sys.path.append('..')\n",
    "import json\n",
    "EXPT_NAME = 'uts02_concepts_pilot_mar22'"
   ]
  },
  {
   "cell_type": "code",
   "execution_count": null,
   "metadata": {},
   "outputs": [],
   "source": [
    "def get_rows_huth():\n",
    "    \"\"\"Select rows corresponding to categories from the 2016 paper\"\"\"\n",
    "    huth2016_categories = json.load(open(\"huth2016clusters.json\", \"r\"))\n",
    "    r = pd.DataFrame.from_dict(\n",
    "        {\n",
    "            \"expl\": huth2016_categories.keys(),\n",
    "            \"top_ngrams_module_correct\": huth2016_categories.values(),\n",
    "        }\n",
    "    )\n",
    "    return r"
   ]
  }
 ],
 "metadata": {
  "kernelspec": {
   "display_name": ".llm",
   "language": "python",
   "name": "python3"
  },
  "language_info": {
   "codemirror_mode": {
    "name": "ipython",
    "version": 3
   },
   "file_extension": ".py",
   "mimetype": "text/x-python",
   "name": "python",
   "nbconvert_exporter": "python",
   "pygments_lexer": "ipython3",
   "version": "3.9.16"
  },
  "orig_nbformat": 4,
  "vscode": {
   "interpreter": {
    "hash": "a9ff692d44ea03fd8a03facee7621117bbbb82def09bacaacf0a2cbc238b7b91"
   }
  }
 },
 "nbformat": 4,
 "nbformat_minor": 2
}
