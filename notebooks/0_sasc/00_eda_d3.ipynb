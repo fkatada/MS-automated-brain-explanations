{
 "cells": [
  {
   "cell_type": "code",
   "execution_count": null,
   "metadata": {},
   "outputs": [],
   "source": [
    "%load_ext autoreload\n",
    "%autoreload 2\n",
    "import os\n",
    "import matplotlib.pyplot as plt\n",
    "import seaborn as sns\n",
    "from os.path import join\n",
    "from tqdm import tqdm\n",
    "import pandas as pd\n",
    "import pickle as pkl\n",
    "# import notebook_helper\n",
    "import sys\n",
    "from neuro.sasc.modules import fmri_module\n",
    "import seaborn as sns\n",
    "from neuro.sasc.data.data import TASKS_D3\n",
    "import neuro.sasc.data.data\n",
    "import numpy as np\n",
    "from scipy.special import softmax\n",
    "from collections import defaultdict"
   ]
  },
  {
   "cell_type": "markdown",
   "metadata": {},
   "source": [
    "### Look at datasets"
   ]
  },
  {
   "cell_type": "code",
   "execution_count": null,
   "metadata": {},
   "outputs": [],
   "source": [
    "d = defaultdict(list)\n",
    "for task_name in TASKS_D3:\n",
    "    task = TASKS_D3[task_name]\n",
    "    d['Module name'].append(\n",
    "        task_name[task_name.index('_')+1:].replace('_', '-'))\n",
    "    d['Groundtruth keyphrase'].append(\n",
    "        neuro.sasc.data.data.get_groundtruth_keyword(task_name))\n",
    "    d['Dataset explanation'].append(task['groundtruth_explanation'])\n",
    "    data = task['gen_func'](return_df=True)\n",
    "    # d['Example'].append(data['input'][data['label'] == 1].iloc[0])\n",
    "    d['Examples'].append(len(data))\n",
    "    d['Unique unigrams'].append(len(set(' '.join(data['input']).split())))\n",
    "    # d['Majority class fraction'].append(data['label'].mean().round(2))\n",
    "df = pd.DataFrame.from_dict(d)\n",
    "\n",
    "# display dataframe with clipping strings\n",
    "with pd.option_context('display.max_colwidth', 100):\n",
    "    display(df)\n",
    "    df.style.hide(axis='index').to_latex(\n",
    "        '../results/figs/synthetic_examples_full.tex', hrules=True)\n",
    "    # df[::3].to_latex('../results/figs/synthetic_examples.tex', index=False)"
   ]
  },
  {
   "attachments": {},
   "cell_type": "markdown",
   "metadata": {},
   "source": [
    "### Visualize data matrix"
   ]
  },
  {
   "cell_type": "code",
   "execution_count": null,
   "metadata": {},
   "outputs": [],
   "source": [
    "fname = '../results/mean_preds_matrix_d3___instructor.pkl'\n",
    "# fname = '../results/mean_preds_matrix_d3___facebook__opt-iml-max-30b.pkl'\n",
    "# mat = pkl.load(open('../results/mean_preds_matrix_d3.pkl', 'rb'))\n",
    "mat = pkl.load(open(fname, 'rb'))\n",
    "n = mat.shape[0]"
   ]
  },
  {
   "cell_type": "code",
   "execution_count": null,
   "metadata": {},
   "outputs": [],
   "source": [
    "mp = mat\n",
    "mp = softmax(mp, axis=0)\n",
    "# divide each row by its max value\n",
    "# mp = mp / (np.max(mp, axis=1).reshape(-1, 1))\n",
    "# mp = mp / (np.max(mp, axis=0).T)\n",
    "# mp = np.log(mp)\n",
    "\n",
    "plt.figure(figsize=(14, 12))\n",
    "# plt.title(os.path.basename(fname))\n",
    "sns.heatmap(mp, cbar_kws={'label': 'Mean response of the module'})\n",
    "labs = list(map(lambda x: x[3:].replace('_', '-'), list(TASKS_D3.keys())))\n",
    "plt.ylabel('Task used for prompt')\n",
    "plt.xlabel('Examples from this task')\n",
    "plt.yticks(np.arange(len(TASKS_D3)) + 0.5, labels=labs,\n",
    "           rotation='horizontal', fontsize='small')\n",
    "plt.xticks(np.arange(len(TASKS_D3)) + 0.5, labels=labs,\n",
    "           rotation='vertical', fontsize='small')\n",
    "plt.savefig('../results/figs/mean_preds_d3.pdf', bbox_inches='tight')\n",
    "plt.show()"
   ]
  },
  {
   "cell_type": "code",
   "execution_count": null,
   "metadata": {},
   "outputs": [],
   "source": [
    "# plt.hist(m.flatten())\n",
    "# plt.xscale('log')\n",
    "plt.ylabel('Value in m')\n",
    "plt.xlabel('Number of points (sorted in increasing order)')\n",
    "plt.plot(np.sort(mp.flatten()))\n",
    "plt.xlim((0, 2500))\n",
    "plt.show()"
   ]
  }
 ],
 "metadata": {
  "kernelspec": {
   "display_name": ".env",
   "language": "python",
   "name": "python3"
  },
  "language_info": {
   "codemirror_mode": {
    "name": "ipython",
    "version": 3
   },
   "file_extension": ".py",
   "mimetype": "text/x-python",
   "name": "python",
   "nbconvert_exporter": "python",
   "pygments_lexer": "ipython3",
   "version": "3.11.11"
  },
  "orig_nbformat": 4
 },
 "nbformat": 4,
 "nbformat_minor": 2
}
