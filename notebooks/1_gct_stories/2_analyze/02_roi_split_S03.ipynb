{
 "cells": [
  {
   "cell_type": "code",
   "execution_count": 1,
   "metadata": {},
   "outputs": [],
   "source": [
    "%load_ext autoreload\n",
    "%autoreload 2\n",
    "import sys\n",
    "import pandas as pd\n",
    "import os\n",
    "import matplotlib.pyplot as plt\n",
    "import cortex\n",
    "import seaborn as sns\n",
    "from os.path import join\n",
    "from collections import defaultdict\n",
    "import numpy as np\n",
    "from sklearn.preprocessing import StandardScaler\n",
    "import joblib\n",
    "import dvu\n",
    "from copy import deepcopy\n",
    "import sys\n",
    "sys.path.append('../notebooks')\n",
    "from tqdm import tqdm\n",
    "from sasc.config import FMRI_DIR, STORIES_DIR, RESULTS_DIR, CACHE_DIR, RESULTS_DIR, cache_ngrams_dir, regions_idxs_dir\n",
    "from neuro.config import repo_dir, PROCESSED_DIR\n",
    "from neuro.features.qa_questions import get_questions, get_merged_questions_v3_boostexamples\n",
    "import sasc.viz\n",
    "from sasc import config\n",
    "from flatmaps_helper import VOX_COUNTS, load_flatmaps, load_custom_rois, load_known_rois, ROI_EXPLANATIONS_S03"
   ]
  },
  {
   "cell_type": "markdown",
   "metadata": {},
   "source": [
    "### Load avg-response flatmaps"
   ]
  },
  {
   "cell_type": "code",
   "execution_count": 9,
   "metadata": {},
   "outputs": [],
   "source": [
    "# main load\n",
    "normalize_flatmaps = False\n",
    "gemv_flatmaps_dict_S02, gemv_flatmaps_dict_S03, gemv_flatmaps_dict_S02_timecourse, gemv_flatmaps_dict_S03_timecourse = load_flatmaps(\n",
    "    normalize_flatmaps, load_timecourse=True)\n",
    "\n",
    "# select\n",
    "subject = 'S03'\n",
    "gemv_flatmaps_dict = gemv_flatmaps_dict_S03\n",
    "gemv_flatmaps_dict = {k: v for k, v in gemv_flatmaps_dict.items(\n",
    ") if k[0] in ROI_EXPLANATIONS_S03.values() and not k[0] in ['START', 'END']}"
   ]
  },
  {
   "cell_type": "markdown",
   "metadata": {},
   "source": [
    "### Group regions to analyze into dictionary of voxel indexes\n",
    "rois_dict is a dictionary with keys as region names and np arrays of voxel masks as values"
   ]
  },
  {
   "cell_type": "code",
   "execution_count": 10,
   "metadata": {},
   "outputs": [],
   "source": [
    "def load_known_rois(subject):\n",
    "    nonzero_entries_dict = joblib.load(\n",
    "        join(regions_idxs_dir, f'rois_{subject}.jbl'))\n",
    "    rois_dict = {}\n",
    "    for k, v in nonzero_entries_dict.items():\n",
    "        mask = np.zeros(VOX_COUNTS[subject])\n",
    "        mask[v] = 1\n",
    "        rois_dict[k] = deepcopy(mask)\n",
    "    if subject == 'S03':\n",
    "        rois_dict['OPA'] = rois_dict['TOS']\n",
    "    return rois_dict\n",
    "\n",
    "\n",
    "rois_dict = load_known_rois(subject)"
   ]
  },
  {
   "cell_type": "markdown",
   "metadata": {},
   "source": [
    "### Visualize averages over different regions"
   ]
  },
  {
   "cell_type": "code",
   "execution_count": null,
   "metadata": {},
   "outputs": [],
   "source": [
    "ROI_EXPLANATIONS = {\n",
    "    'EBA': 'Body parts',\n",
    "    'IPS': 'Descriptive elements of scenes or objects',\n",
    "    'OFA': 'Conversational transitions',\n",
    "    'OPA': 'Direction and location descriptions',\n",
    "    'OPA_only': 'Self-reflection and growth',\n",
    "    'PPA': 'Scenes and settings',\n",
    "    'PPA_only': 'Garbage, food, and household items',\n",
    "    'RSC': 'Travel and location names',\n",
    "    'RSC_only': 'Location names',\n",
    "    'sPMv': 'Dialogue and responses',\n",
    "}\n",
    "gemv_flatmaps_dict_filt = {\n",
    "    k[0]: v for k, v in gemv_flatmaps_dict.items() if k[0] in ROI_EXPLANATIONS.values()}\n",
    "assert len(gemv_flatmaps_dict_filt) == len(ROI_EXPLANATIONS)\n",
    "rois_dict_filt = {k: v for k, v in rois_dict.items() if k in ROI_EXPLANATIONS}"
   ]
  },
  {
   "cell_type": "code",
   "execution_count": null,
   "metadata": {},
   "outputs": [],
   "source": [
    "gemv_flatmaps_dict_S03_timecourse[('Clothing and Physical Appearance',\n",
    "                                   None)].shape"
   ]
  },
  {
   "cell_type": "code",
   "execution_count": null,
   "metadata": {},
   "outputs": [],
   "source": [
    "gemv_flatmaps_dict_S03_timecourse[(\n",
    "    explanation, None)][roi > 0].mean(axis=0).shape"
   ]
  },
  {
   "cell_type": "code",
   "execution_count": 46,
   "metadata": {},
   "outputs": [],
   "source": [
    "avg_defaultdict = defaultdict(list)\n",
    "std_defaultdict = defaultdict(list)\n",
    "num_dict = {}\n",
    "for roi_idx, roi in rois_dict_filt.items():\n",
    "    for explanation in gemv_flatmaps_dict_filt.keys():\n",
    "        avg_defaultdict[roi_idx].append(\n",
    "            np.mean(gemv_flatmaps_dict_filt[explanation][roi > 0]))\n",
    "        # corrs_defaultdict[roi_idx].append(\n",
    "        # np.corrcoef(roi, gemv_flatmaps_dict[explanation])[0, 1])\n",
    "        roi_timecourse = gemv_flatmaps_dict_S03_timecourse[(\n",
    "            explanation, None)][roi > 0].mean(axis=0)\n",
    "        std_defaultdict[roi_idx].append(np.std(roi_timecourse))\n",
    "        num_dict[explanation] = len(roi_timecourse)"
   ]
  },
  {
   "cell_type": "code",
   "execution_count": null,
   "metadata": {},
   "outputs": [],
   "source": [
    "df = pd.DataFrame(avg_defaultdict, index=gemv_flatmaps_dict_filt.keys())\n",
    "df_std = pd.DataFrame(std_defaultdict, index=gemv_flatmaps_dict_filt.keys())\n",
    "df['AVG'] = df.mean(axis=1)\n",
    "for k in ['RSC', 'PPA', 'OPA']:\n",
    "    df[k + '_only'] = df[k]\n",
    "\n",
    "# reindex cols by ROI_EXPLANATIONS keys\n",
    "df = df[list(ROI_EXPLANATIONS.keys())]\n",
    "\n",
    "# reindex rows by ROI_EXPLANATIONS values\n",
    "df = df.reindex(list(ROI_EXPLANATIONS.values()))\n",
    "\n",
    "# df = df.round(3).sort_values('AVG', ascending=False)\n",
    "# display pandas formatting with redblue colormap centered at 0 rounded to 3 decimal places\n",
    "vabs = max(abs(df.values.min()), abs(df.values.max()))\n",
    "\n",
    "# visualize and outline diagonal elements of matrix\n",
    "(\n",
    "    df.style\n",
    "    .background_gradient(cmap='coolwarm', axis=None, vmax=vabs, vmin=-vabs)\n",
    "    .format(\"{:.3f}\").set_caption(\n",
    "        'Average GEM-V driving response averaged over ROI'\n",
    "    )\n",
    ")"
   ]
  },
  {
   "cell_type": "code",
   "execution_count": null,
   "metadata": {},
   "outputs": [],
   "source": [
    "s = 'xx-small'\n",
    "sasc.viz.outline_diagonal(df.shape, color='black', lw=1, block_size=1)\n",
    "plt.yticks(labels=df.index, ticks=np.arange(df.shape[0]), fontsize=s)\n",
    "plt.xticks(labels=df.columns, ticks=np.arange(\n",
    "    df.shape[1]), fontsize=s, rotation=90)\n",
    "\n",
    "# display as seaborn heatmap\n",
    "sasc.viz.imshow_diverging(\n",
    "    df, clab=\"Mean response ($\\sigma$)\", clab_size='xx-small')\n",
    "plt.xlabel('ROI response')\n",
    "plt.ylabel('Explanation')\n",
    "plt.show()"
   ]
  },
  {
   "cell_type": "code",
   "execution_count": null,
   "metadata": {},
   "outputs": [],
   "source": [
    "plt.figure(figsize=(7, 3.9))\n",
    "\n",
    "df_filt = df[['RSC', 'PPA', 'OPA']]\n",
    "XLABS = ['RSC', 'PPA', 'OPA',  'RSC_only', 'PPA_only', 'OPA_only']\n",
    "df_filt = df_filt.loc[[ROI_EXPLANATIONS[k] for k in XLABS]]\n",
    "df_filt = df_filt.T\n",
    "\n",
    "s = 'medium'\n",
    "dvu.outline_diagonal(df_filt.shape, color='black',\n",
    "                     lw=1, block_size=1, roffset=0)\n",
    "dvu.outline_diagonal(df_filt.shape, color='black',\n",
    "                     lw=1, block_size=1, roffset=3)\n",
    "# sasc.viz.outline_diagonal(df_filt.shape, color='black', lw=1, block_size=1)\n",
    "plt.yticks(labels=df_filt.index, ticks=np.arange(df_filt.shape[0]), fontsize=s)\n",
    "plt.xticks(labels=[x.replace('_', '-') for x in XLABS], ticks=np.arange(\n",
    "    df_filt.shape[1]), fontsize=s, rotation=45)\n",
    "\n",
    "# display as seaborn heatmap\n",
    "sasc.viz.imshow_diverging(\n",
    "    df_filt, clab=\"Mean response ($\\sigma$)\", clab_size='large')\n",
    "plt.xlabel('Driving paragraph', fontsize='large')\n",
    "plt.ylabel('ROI response', fontsize='large')\n",
    "plt.savefig(join(config.RESULTS_DIR, 'figs/main',\n",
    "            'S03' + '_roi_heatmap.pdf'), bbox_inches='tight')\n",
    "plt.show()"
   ]
  },
  {
   "cell_type": "code",
   "execution_count": 69,
   "metadata": {},
   "outputs": [
    {
     "data": {
      "image/png": "[encoded data removed]",
      "text/plain": [
       "<Figure size 800x500 with 1 Axes>"
      ]
     },
     "metadata": {},
     "output_type": "display_data"
    }
   ],
   "source": [
    "# plot diagonal as barplot\n",
    "plt.figure(figsize=(8, 5))\n",
    "XLABS = ['EBA', 'IPS', 'OFA', 'sPMv', 'RSC', 'PPA', 'OPA']\n",
    "df_bar = df[XLABS]\n",
    "df_bar = df_bar.loc[[ROI_EXPLANATIONS[k] for k in XLABS]]\n",
    "mat = df_bar.values\n",
    "\n",
    "# normalize mat rows\n",
    "# mat = (mat - np.nanmean(mat, axis=1)[:, None]) / np.nanstd(mat, axis=1)[:, None]\n",
    "n = len(mat)\n",
    "vals_diag = mat.diagonal()\n",
    "vals_off_diag = np.nanmean(mat, axis=1)\n",
    "vals = vals_diag * (1 + 1/n) - vals_off_diag\n",
    "\n",
    "stds = df_std[XLABS].loc[[ROI_EXPLANATIONS[k] for k in XLABS]]\n",
    "stderrs = [stds.values.diagonal()[i] / np.sqrt(num_dict[ROI_EXPLANATIONS[XLABS[i]]])\n",
    "           for i in range(len(XLABS))]\n",
    "\n",
    "# make errorbars gray\n",
    "plt.bar(range(len(vals)), vals, color='C0', alpha=0.4, yerr=stderrs)\n",
    "# add xlabel\n",
    "plt.xticks(range(len(vals)), df_bar.columns, rotation=45)\n",
    "plt.xlabel('ROI', fontsize='large')\n",
    "plt.ylabel('Mean driving\\nvoxel response ($\\sigma$)', fontsize='large')\n",
    "plt.tight_layout()\n",
    "plt.savefig(join(config.RESULTS_DIR, 'figs/main',\n",
    "            'S03' + '_roi_barplot.pdf'), bbox_inches='tight')\n",
    "plt.show()"
   ]
  },
  {
   "cell_type": "code",
   "execution_count": null,
   "metadata": {},
   "outputs": [],
   "source": [
    "# sasc.viz._save_flatmap(\n",
    "#     gemv_flatmaps_dict[('relationships between people', 'qa')], subject, fname_save=f'gemv_flatmaps/relationships_{subject}.png')"
   ]
  },
  {
   "cell_type": "code",
   "execution_count": 36,
   "metadata": {},
   "outputs": [],
   "source": []
  }
 ],
 "metadata": {
  "kernelspec": {
   "display_name": ".env",
   "language": "python",
   "name": "python3"
  },
  "language_info": {
   "codemirror_mode": {
    "name": "ipython",
    "version": 3
   },
   "file_extension": ".py",
   "mimetype": "text/x-python",
   "name": "python",
   "nbconvert_exporter": "python",
   "pygments_lexer": "ipython3",
   "version": "3.11.11"
  },
  "orig_nbformat": 4
 },
 "nbformat": 4,
 "nbformat_minor": 2
}
