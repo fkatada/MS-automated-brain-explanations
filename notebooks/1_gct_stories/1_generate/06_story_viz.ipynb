{
 "cells": [
  {
   "cell_type": "code",
   "execution_count": 1,
   "metadata": {},
   "outputs": [
    {
     "name": "stdout",
     "output_type": "stream",
     "text": [
      "[2023-11-25 15:14:28,873] [INFO] [real_accelerator.py:158:get_accelerator] Setting ds_accelerator to cuda (auto detect)\n"
     ]
    },
    {
     "name": "stderr",
     "output_type": "stream",
     "text": [
      "/home/chansingh/imodelsx/.venv/lib/python3.11/site-packages/thinc/compat.py:36: UserWarning: 'has_mps' is deprecated, please use 'torch.backends.mps.is_built()'\n",
      "  hasattr(torch, \"has_mps\")\n",
      "/home/chansingh/imodelsx/.venv/lib/python3.11/site-packages/thinc/compat.py:37: UserWarning: 'has_mps' is deprecated, please use 'torch.backends.mps.is_built()'\n",
      "  and torch.has_mps  # type: ignore[attr-defined]\n"
     ]
    }
   ],
   "source": [
    "%load_ext autoreload\n",
    "%autoreload 2\n",
    "import os\n",
    "import matplotlib.pyplot as plt\n",
    "import seaborn as sns\n",
    "from os.path import join\n",
    "from tqdm import tqdm\n",
    "import pandas as pd\n",
    "import sys\n",
    "from IPython.display import display, HTML\n",
    "from typing import List\n",
    "import numpy as np\n",
    "import matplotlib\n",
    "import imodelsx.util\n",
    "from copy import deepcopy\n",
    "import re\n",
    "# from sasc import notebook_helper\n",
    "import scipy.special\n",
    "from pprint import pprint\n",
    "import joblib\n",
    "import sasc.viz as viz\n",
    "from sasc.config import RESULTS_DIR\n",
    "\n",
    "\n",
    "# EXPT_NAME = 'relationships_mar9'\n",
    "# EXPT_NAME = 'huth2016clusters_mar21_i_time_traveled'\n",
    "# EXPT_NAME = 'voxels_mar21_hands_arms_emergency'\n",
    "EXPT_NAME = f'uts03___jun14___seed=5'\n",
    "EXPT_DIR = join(RESULTS_DIR, 'stories', 'default', EXPT_NAME)\n",
    "# EXPT_DIRS = [join(RESULTS_DIR, 'stories', f'uts02_concepts_pilot_mar22_seed={seed}')\n",
    "            #  for seed in range(1, 8)]\n",
    "rows = joblib.load(join(EXPT_DIR, f'rows.pkl'))\n",
    "expls = rows.expl.values\n",
    "# paragraphs = rows.paragraphs.values\n",
    "# prompts = rows.prompt.values\n",
    "# voxel_nums = rows.module_num.values\n",
    "# subjects = rows.subject.values"
   ]
  },
  {
   "attachments": {},
   "cell_type": "markdown",
   "metadata": {},
   "source": [
    "### Story visualization"
   ]
  },
  {
   "attachments": {},
   "cell_type": "markdown",
   "metadata": {},
   "source": [
    "**Explanation** <> Story match"
   ]
  },
  {
   "cell_type": "code",
   "execution_count": null,
   "metadata": {},
   "outputs": [],
   "source": [
    "scores_data_story = joblib.load(join(EXPT_DIR, f'scores_data_story.pkl'))\n",
    "s_data = notebook_helper.viz_paragraphs(\n",
    "    paragraphs, scores_data_story, expls, prompts,\n",
    "    normalize_to_range=True, moving_average=True, shift_to_range=True)\n",
    "display(HTML(s_data))"
   ]
  },
  {
   "attachments": {},
   "cell_type": "markdown",
   "metadata": {},
   "source": [
    "**Module** <> Story Match"
   ]
  },
  {
   "cell_type": "code",
   "execution_count": null,
   "metadata": {},
   "outputs": [],
   "source": [
    "s_mod = ''\n",
    "scores_mod_story = [scores_mod_dict['scores_all'][i][i]\n",
    "                    for i in range(len(scores_mod_dict['scores_all']))]\n",
    "for i in range(len(paragraphs)):\n",
    "    scores_i = scores_mod_story[i]\n",
    "\n",
    "    # normalize to 0-1 range\n",
    "    scores_i = (scores_i - scores_i.min()) / (scores_i.max() - scores_i.min())\n",
    "    # scores_mod_i = scipy.special.softmax(scores_mod_i)\n",
    "    # scores_i = mprompt.viz.moving_average(scores_i, n=3)\n",
    "    scores_i = scores_i / 2 + 0.5  # shift to 0.5-1 range\n",
    "    s_mod += ' ' + \\\n",
    "        mprompt.viz.colorize(paragraphs[i].split(\n",
    "        ), scores_i, title=expls[i], subtitle=prompts[i])\n",
    "# display(HTML(s_mod))"
   ]
  },
  {
   "cell_type": "code",
   "execution_count": null,
   "metadata": {},
   "outputs": [],
   "source": [
    "template_style = '''<style type=\"text/css\">\n",
    "#wrap {\n",
    "   width:100%;\n",
    "   margin:0 auto;\n",
    "}\n",
    "#left_col {\n",
    "   float:left;\n",
    "   width:48%;\n",
    "}\n",
    "#right_col {\n",
    "   float:right;\n",
    "   width:48%;\n",
    "}\n",
    "# body {\n",
    "#     background-color:#b0c4de;\n",
    "# }\n",
    "</style>\n",
    "'''\n",
    "\n",
    "template = '''\n",
    "<body>\n",
    "    <div id=\"wrap\">\n",
    "        <div id=\"left_col\">\n",
    "            {col_left}\n",
    "        </div>\n",
    "        <div id=\"right_col\">\n",
    "            {col_right}\n",
    "        </div>\n",
    "    </div>\n",
    "</body>\n",
    "'''"
   ]
  },
  {
   "cell_type": "code",
   "execution_count": null,
   "metadata": {},
   "outputs": [],
   "source": [
    "display(HTML(template_style + template.format(col_left=s_data,\n",
    "        col_right=s_mod)), metadata=dict(isolated=True))"
   ]
  }
 ],
 "metadata": {
  "kernelspec": {
   "display_name": ".llm",
   "language": "python",
   "name": "python3"
  },
  "language_info": {
   "codemirror_mode": {
    "name": "ipython",
    "version": 3
   },
   "file_extension": ".py",
   "mimetype": "text/x-python",
   "name": "python",
   "nbconvert_exporter": "python",
   "pygments_lexer": "ipython3",
   "version": "3.11.6"
  },
  "orig_nbformat": 4,
  "vscode": {
   "interpreter": {
    "hash": "a9ff692d44ea03fd8a03facee7621117bbbb82def09bacaacf0a2cbc238b7b91"
   }
  }
 },
 "nbformat": 4,
 "nbformat_minor": 2
}
