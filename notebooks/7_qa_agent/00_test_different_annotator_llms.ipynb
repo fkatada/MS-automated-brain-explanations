{
 "cells": [
  {
   "cell_type": "code",
   "execution_count": 1,
   "metadata": {},
   "outputs": [
    {
     "name": "stderr",
     "output_type": "stream",
     "text": [
      "100%|██████████| 18/18 [00:03<00:00,  5.40it/s]"
     ]
    },
    {
     "name": "stdout",
     "output_type": "stream",
     "text": [
      "experiment varied these params: ['subject', 'qa_embedding_model']\n"
     ]
    },
    {
     "name": "stderr",
     "output_type": "stream",
     "text": [
      "\n",
      "/home/chansingh/imodelsX/imodelsx/process_results.py:95: FutureWarning: Downcasting object dtype arrays on .fillna, .ffill, .bfill is deprecated and will change in a future version. Call result.infer_objects(copy=False) instead. To opt-in to the future behavior, set `pd.set_option('future.no_silent_downcasting', True)`\n",
      "  df[k] = df[k].fillna(np.nan)\n"
     ]
    }
   ],
   "source": [
    "%load_ext autoreload\n",
    "%autoreload 2\n",
    "import sys\n",
    "sys.path.append('..')\n",
    "from neuro import config\n",
    "from os.path import join\n",
    "sys.path.append(join(config.REPO_DIR, 'experiments'))\n",
    "\n",
    "import dvu\n",
    "import seaborn as sns\n",
    "import os\n",
    "import pandas as pd\n",
    "from copy import deepcopy\n",
    "from matplotlib import pyplot as plt\n",
    "import numpy as np\n",
    "from neuro import config\n",
    "import imodelsx.process_results\n",
    "import neuro.features.qa_questions as qa_questions\n",
    "import joblib\n",
    "from tqdm import tqdm\n",
    "import neuro.viz\n",
    "from neuro import analyze_helper, viz\n",
    "fit_encoding = __import__('02_fit_encoding')\n",
    "dvu.set_style()\n",
    "\n",
    "results_dir = '/home/chansingh/mntv1/deep-fMRI/encoding/jul21_2025_agentic_test'\n",
    "rr, cols_varied, mets = analyze_helper.load_clean_results(results_dir)\n",
    "# joblib.dump({'r': rr, 'cols_varied': cols_varied, 'mets': mets}, 'results_best_ensemble.pkl')\n",
    "# data = joblib.load(join(config.RESULTS_DIR_LOCAL, 'results_best_ensemble.pkl'))\n",
    "# rr, cols_varied, mets = data['r'], data['cols_varied'], data['mets']\n",
    "metric_sort = 'corrs_tune_pc_weighted_mean'"
   ]
  },
  {
   "cell_type": "code",
   "execution_count": 2,
   "metadata": {},
   "outputs": [],
   "source": [
    "vals = rr.pivot_table(\n",
    "    index=['qa_embedding_model'],\n",
    "    columns=['subject'],\n",
    "    values='corrs_test_mean',\n",
    ")\n",
    "# add avg col\n",
    "vals['AVG'] = vals.mean(axis=1)"
   ]
  },
  {
   "cell_type": "code",
   "execution_count": 3,
   "metadata": {},
   "outputs": [
    {
     "data": {
      "text/html": [
       "<style type=\"text/css\">\n",
       "#T_62e55_row0_col0, #T_62e55_row0_col1, #T_62e55_row0_col3, #T_62e55_row1_col2 {\n",
       "  background-color: #fde725;\n",
       "  color: #000000;\n",
       "}\n",
       "#T_62e55_row0_col2 {\n",
       "  background-color: #b5de2b;\n",
       "  color: #000000;\n",
       "}\n",
       "#T_62e55_row1_col0 {\n",
       "  background-color: #70cf57;\n",
       "  color: #000000;\n",
       "}\n",
       "#T_62e55_row1_col1 {\n",
       "  background-color: #c8e020;\n",
       "  color: #000000;\n",
       "}\n",
       "#T_62e55_row1_col3 {\n",
       "  background-color: #efe51c;\n",
       "  color: #000000;\n",
       "}\n",
       "#T_62e55_row2_col0 {\n",
       "  background-color: #2e6e8e;\n",
       "  color: #f1f1f1;\n",
       "}\n",
       "#T_62e55_row2_col1, #T_62e55_row2_col3 {\n",
       "  background-color: #29af7f;\n",
       "  color: #f1f1f1;\n",
       "}\n",
       "#T_62e55_row2_col2 {\n",
       "  background-color: #40bd72;\n",
       "  color: #f1f1f1;\n",
       "}\n",
       "#T_62e55_row3_col0 {\n",
       "  background-color: #375b8d;\n",
       "  color: #f1f1f1;\n",
       "}\n",
       "#T_62e55_row3_col1 {\n",
       "  background-color: #443b84;\n",
       "  color: #f1f1f1;\n",
       "}\n",
       "#T_62e55_row3_col2 {\n",
       "  background-color: #1e9b8a;\n",
       "  color: #f1f1f1;\n",
       "}\n",
       "#T_62e55_row3_col3 {\n",
       "  background-color: #2b748e;\n",
       "  color: #f1f1f1;\n",
       "}\n",
       "#T_62e55_row4_col0 {\n",
       "  background-color: #481467;\n",
       "  color: #f1f1f1;\n",
       "}\n",
       "#T_62e55_row4_col1 {\n",
       "  background-color: #46307e;\n",
       "  color: #f1f1f1;\n",
       "}\n",
       "#T_62e55_row4_col2 {\n",
       "  background-color: #26828e;\n",
       "  color: #f1f1f1;\n",
       "}\n",
       "#T_62e55_row4_col3 {\n",
       "  background-color: #38588c;\n",
       "  color: #f1f1f1;\n",
       "}\n",
       "#T_62e55_row5_col0, #T_62e55_row5_col1, #T_62e55_row5_col2, #T_62e55_row5_col3 {\n",
       "  background-color: #440154;\n",
       "  color: #f1f1f1;\n",
       "}\n",
       "</style>\n",
       "<table id=\"T_62e55\">\n",
       "  <thead>\n",
       "    <tr>\n",
       "      <th class=\"index_name level0\" >subject</th>\n",
       "      <th id=\"T_62e55_level0_col0\" class=\"col_heading level0 col0\" >S01</th>\n",
       "      <th id=\"T_62e55_level0_col1\" class=\"col_heading level0 col1\" >S02</th>\n",
       "      <th id=\"T_62e55_level0_col2\" class=\"col_heading level0 col2\" >S03</th>\n",
       "      <th id=\"T_62e55_level0_col3\" class=\"col_heading level0 col3\" >AVG</th>\n",
       "    </tr>\n",
       "    <tr>\n",
       "      <th class=\"index_name level0\" >qa_embedding_model</th>\n",
       "      <th class=\"blank col0\" >&nbsp;</th>\n",
       "      <th class=\"blank col1\" >&nbsp;</th>\n",
       "      <th class=\"blank col2\" >&nbsp;</th>\n",
       "      <th class=\"blank col3\" >&nbsp;</th>\n",
       "    </tr>\n",
       "  </thead>\n",
       "  <tbody>\n",
       "    <tr>\n",
       "      <th id=\"T_62e55_level0_row0\" class=\"row_heading level0 row0\" >llama3-8B-fewshot</th>\n",
       "      <td id=\"T_62e55_row0_col0\" class=\"data row0 col0\" >0.055265</td>\n",
       "      <td id=\"T_62e55_row0_col1\" class=\"data row0 col1\" >0.116015</td>\n",
       "      <td id=\"T_62e55_row0_col2\" class=\"data row0 col2\" >0.123294</td>\n",
       "      <td id=\"T_62e55_row0_col3\" class=\"data row0 col3\" >0.098191</td>\n",
       "    </tr>\n",
       "    <tr>\n",
       "      <th id=\"T_62e55_level0_row1\" class=\"row_heading level0 row1\" >llama3-8B</th>\n",
       "      <td id=\"T_62e55_row1_col0\" class=\"data row1 col0\" >0.052322</td>\n",
       "      <td id=\"T_62e55_row1_col1\" class=\"data row1 col1\" >0.114218</td>\n",
       "      <td id=\"T_62e55_row1_col2\" class=\"data row1 col2\" >0.126512</td>\n",
       "      <td id=\"T_62e55_row1_col3\" class=\"data row1 col3\" >0.097684</td>\n",
       "    </tr>\n",
       "    <tr>\n",
       "      <th id=\"T_62e55_level0_row2\" class=\"row_heading level0 row2\" >mist-7B</th>\n",
       "      <td id=\"T_62e55_row2_col0\" class=\"data row2 col0\" >0.046514</td>\n",
       "      <td id=\"T_62e55_row2_col1\" class=\"data row2 col1\" >0.108178</td>\n",
       "      <td id=\"T_62e55_row2_col2\" class=\"data row2 col2\" >0.117685</td>\n",
       "      <td id=\"T_62e55_row2_col3\" class=\"data row2 col3\" >0.090792</td>\n",
       "    </tr>\n",
       "    <tr>\n",
       "      <th id=\"T_62e55_level0_row3\" class=\"row_heading level0 row3\" >mistralai/Ministral-8B-Instruct-2410</th>\n",
       "      <td id=\"T_62e55_row3_col0\" class=\"data row3 col0\" >0.045499</td>\n",
       "      <td id=\"T_62e55_row3_col1\" class=\"data row3 col1\" >0.098481</td>\n",
       "      <td id=\"T_62e55_row3_col2\" class=\"data row3 col2\" >0.113523</td>\n",
       "      <td id=\"T_62e55_row3_col3\" class=\"data row3 col3\" >0.085834</td>\n",
       "    </tr>\n",
       "    <tr>\n",
       "      <th id=\"T_62e55_level0_row4\" class=\"row_heading level0 row4\" >Qwen/Qwen3-8B</th>\n",
       "      <td id=\"T_62e55_row4_col0\" class=\"data row4 col0\" >0.042371</td>\n",
       "      <td id=\"T_62e55_row4_col1\" class=\"data row4 col1\" >0.097762</td>\n",
       "      <td id=\"T_62e55_row4_col2\" class=\"data row4 col2\" >0.110426</td>\n",
       "      <td id=\"T_62e55_row4_col3\" class=\"data row4 col3\" >0.083520</td>\n",
       "    </tr>\n",
       "    <tr>\n",
       "      <th id=\"T_62e55_level0_row5\" class=\"row_heading level0 row5\" >meta-llama/Meta-Llama-3-70B-Instruct</th>\n",
       "      <td id=\"T_62e55_row5_col0\" class=\"data row5 col0\" >0.041637</td>\n",
       "      <td id=\"T_62e55_row5_col1\" class=\"data row5 col1\" >0.094776</td>\n",
       "      <td id=\"T_62e55_row5_col2\" class=\"data row5 col2\" >0.097883</td>\n",
       "      <td id=\"T_62e55_row5_col3\" class=\"data row5 col3\" >0.078099</td>\n",
       "    </tr>\n",
       "  </tbody>\n",
       "</table>\n"
      ],
      "text/plain": [
       "<pandas.io.formats.style.Styler at 0x7148be7206b0>"
      ]
     },
     "execution_count": 3,
     "metadata": {},
     "output_type": "execute_result"
    }
   ],
   "source": [
    "# display vals colorfully\n",
    "vals = vals.sort_values(by='AVG', ascending=False)\n",
    "vals.style.background_gradient(cmap='viridis')"
   ]
  },
  {
   "cell_type": "code",
   "execution_count": 8,
   "metadata": {},
   "outputs": [
    {
     "data": {
      "text/plain": [
       "Index(['subject', 'pc_components', 'num_stories', 'distill_model_path',\n",
       "       'use_eval_brain_drive', 'predict_subset', 'feature_space',\n",
       "       'embedding_layer', 'input_chunking_type', 'input_chunking_size',\n",
       "       'feature_selection_alpha', 'feature_selection_frac',\n",
       "       'feature_selection_stability_seeds', 'use_added_wordrate_feature',\n",
       "       'qa_embedding_model', 'qa_questions_version',\n",
       "       'use_random_subset_features', 'single_question_idx', 'num_agent_epochs',\n",
       "       'encoding_model', 'ndelays', 'nboots', 'chunklen', 'nchunks',\n",
       "       'singcutoff', 'single_alpha', 'seed', 'use_test_setup', 'save_dir',\n",
       "       'use_cache', 'use_save_features', 'use_extract_only', 'seed_stories',\n",
       "       'qa_batch_size', 'git_commit_id', 'save_dir_unique', 'corrs_tune_pc',\n",
       "       'corrs_test_pc', 'corrs_test', 'corrs_test_mean', 'corrs_test_median',\n",
       "       'corrs_test_frac>0', 'corrs_test_mean_top1_percentile',\n",
       "       'corrs_test_mean_top5_percentile', 'r2_test_mean', 'r2_test_median',\n",
       "       'corrs_tune_pc_mean', 'corrs_tune_pc_median', 'corrs_tune_pc_frac>0',\n",
       "       'corrs_tune_pc_mean_top1_percentile',\n",
       "       'corrs_tune_pc_mean_top5_percentile', 'r2_tune_pc_mean',\n",
       "       'r2_tune_pc_median', 'corrs_test_pc_mean', 'corrs_test_pc_median',\n",
       "       'corrs_test_pc_frac>0', 'corrs_test_pc_mean_top1_percentile',\n",
       "       'corrs_test_pc_mean_top5_percentile', 'r2_test_pc_mean',\n",
       "       'r2_test_pc_median', 'corrs_test_mean_sem', 'feature_space_simplified'],\n",
       "      dtype='object')"
      ]
     },
     "execution_count": 8,
     "metadata": {},
     "output_type": "execute_result"
    }
   ],
   "source": [
    "rr.columns"
   ]
  },
  {
   "cell_type": "code",
   "execution_count": null,
   "metadata": {},
   "outputs": [],
   "source": []
  }
 ],
 "metadata": {
  "kernelspec": {
   "display_name": ".venv",
   "language": "python",
   "name": "python3"
  },
  "language_info": {
   "codemirror_mode": {
    "name": "ipython",
    "version": 3
   },
   "file_extension": ".py",
   "mimetype": "text/x-python",
   "name": "python",
   "nbconvert_exporter": "python",
   "pygments_lexer": "ipython3",
   "version": "3.12.3"
  },
  "orig_nbformat": 4
 },
 "nbformat": 4,
 "nbformat_minor": 2
}
