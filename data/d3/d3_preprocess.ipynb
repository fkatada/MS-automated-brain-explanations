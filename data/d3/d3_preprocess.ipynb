{
 "cells": [
  {
   "cell_type": "markdown",
   "metadata": {},
   "source": [
    "Notebook for preprocessing d3 datasets."
   ]
  },
  {
   "cell_type": "code",
   "execution_count": 1,
   "metadata": {},
   "outputs": [],
   "source": [
    "import os\n",
    "import json\n",
    "from os.path import join\n",
    "import pandas as pd\n",
    "from tqdm import tqdm\n",
    "from collections import defaultdict"
   ]
  },
  {
   "cell_type": "markdown",
   "metadata": {},
   "source": [
    "Download the raw d3 data"
   ]
  },
  {
   "cell_type": "code",
   "execution_count": 2,
   "metadata": {},
   "outputs": [
    {
     "name": "stdout",
     "output_type": "stream",
     "text": [
      "Cloning into 'DescribeDistributionalDifferences'...\n",
      "remote: Enumerating objects: 1260, done.\u001b[K\n",
      "remote: Counting objects: 100% (66/66), done.\u001b[K\n",
      "remote: Compressing objects: 100% (49/49), done.\u001b[K\n",
      "remote: Total 1260 (delta 29), reused 46 (delta 16), pack-reused 1194\u001b[K\n",
      "Receiving objects: 100% (1260/1260), 56.54 MiB | 20.69 MiB/s, done.\n",
      "Resolving deltas: 100% (797/797), done.\n"
     ]
    }
   ],
   "source": [
    "!git clone https://github.com/ruiqi-zhong/DescribeDistributionalDifferences.git"
   ]
  },
  {
   "cell_type": "code",
   "execution_count": 3,
   "metadata": {},
   "outputs": [],
   "source": [
    "data = json.load(\n",
    "    open(\n",
    "        join('DescribeDistributionalDifferences',\n",
    "             'benchmark_sec_4', 'benchmark.json'),\n",
    "        'r')\n",
    ")\n",
    "\n",
    "out_dir = 'd3_processed'\n",
    "os.makedirs(out_dir, exist_ok=True)"
   ]
  },
  {
   "cell_type": "code",
   "execution_count": 4,
   "metadata": {},
   "outputs": [
    {
     "data": {
      "text/plain": [
       "dict_keys(['human_annotations', 'positive_samples', 'negative_samples'])"
      ]
     },
     "execution_count": 4,
     "metadata": {},
     "output_type": "execute_result"
    }
   ],
   "source": [
    "data[0].keys()"
   ]
  },
  {
   "cell_type": "code",
   "execution_count": 7,
   "metadata": {},
   "outputs": [
    {
     "name": "stdout",
     "output_type": "stream",
     "text": [
      "contains irony\n",
      "is a more objective description of what happened\n",
      "contains subjective opinion\n",
      "believes in god\n",
      "is against religion\n",
      "involves a need for people to evacuate\n",
      "describes a situation that involves terrorism\n",
      "involves crime\n",
      "describes a situation where people need shelter\n",
      "is related to food security\n",
      "is related to infrastructure\n",
      "describes a regime change\n",
      "is related to a medical situation\n",
      "involves a situation where people need clean water\n",
      "involves a search/rescue situation\n",
      "expresses need for utility, energy or sanitation\n",
      "is against Hillary\n",
      "supports hillary\n",
      "contains offensive content\n",
      "insult women or immigrants\n",
      "is pro-life\n",
      "supports abortion\n",
      "is about physics\n",
      "is related to computer science\n",
      "is about statistics\n"
     ]
    }
   ],
   "source": [
    "N = len(data)\n",
    "task_names = ['d3_' + str(i) for i in range(N)]\n",
    "task_defs = {\n",
    "    task_names[i]: data[i]['human_annotations'][0]\n",
    "    for i in range(N)\n",
    "}\n",
    "for i, task_name in enumerate(task_names):\n",
    "    inputs = data[i]['positive_samples'] + data[i]['negative_samples']\n",
    "    outputs = [1] * len(data[i]['positive_samples']) + [0] * len(data[i]['negative_samples'])\n",
    "    df = pd.DataFrame.from_dict({\n",
    "        'input': inputs,\n",
    "        'label': outputs,\n",
    "    })\n",
    "\n",
    "    # df['text'] = 'Input: ' + df['input'] + ' Answer: ' + df['output'] + '\\n'\n",
    "    print(task_defs[task_name])\n",
    "    # print(df.iloc[0].text)\n",
    "    # print('\\n\\n')\n",
    "    df.to_csv(join(out_dir, task_name + '.csv'), index=False)\n",
    "json.dump(task_defs, open(join(out_dir, 'task_defs.json'), 'w'), indent=4)"
   ]
  },
  {
   "cell_type": "code",
   "execution_count": null,
   "metadata": {},
   "outputs": [],
   "source": [
    "for i in range(N):\n",
    "    print(\"'\" + task_names[i] + \"': {\\n\\t'check_answer_func': r'\" + ','.join(data[i]['human_annotations']) + \"'\\n},\\n\")\n",
    "# 'synonyms': {\n",
    "#         'check_answer_func': r'synonym|alternate|rephrase',\n",
    "#     },"
   ]
  },
  {
   "cell_type": "markdown",
   "metadata": {},
   "source": [
    "**Add keynames**"
   ]
  },
  {
   "cell_type": "code",
   "execution_count": 3,
   "metadata": {},
   "outputs": [
    {
     "data": {
      "text/plain": [
       "{'d3_0_irony': {'check_func': 'irony|sarcas', 'description': 'contains irony'},\n",
       " 'd3_1_objective': {'check_func': 'objective|factual|nonpersonal|neutral',\n",
       "  'description': 'is a more objective description of what happened'},\n",
       " 'd3_2_subjective': {'check_func': 'subjective|opinion|personal|bias',\n",
       "  'description': 'contains subjective opinion'},\n",
       " 'd3_3_god': {'check_func': 'god|religious|religion',\n",
       "  'description': 'believes in god'},\n",
       " 'd3_4_atheism': {'check_func': 'atheism|atheist|anti-religion|against religion',\n",
       "  'description': 'is against religion'},\n",
       " 'd3_5_evacuate': {'check_func': 'evacuate|flee|escape',\n",
       "  'description': 'involves a need for people to evacuate'},\n",
       " 'd3_6_terorrism': {'check_func': 'terorrism|terror',\n",
       "  'description': 'describes a situation that involves terrorism'},\n",
       " 'd3_7_crime': {'check_func': 'crime|criminal|criminality',\n",
       "  'description': 'involves crime'},\n",
       " 'd3_8_shelter': {'check_func': 'shelter|home|house',\n",
       "  'description': 'describes a situation where people need shelter'},\n",
       " 'd3_9_food': {'check_func': 'food|hunger|needs',\n",
       "  'description': 'is related to food security'},\n",
       " 'd3_10_infrastructure': {'check_func': 'infrastructure|buildings|roads|bridges|build',\n",
       "  'description': 'is related to infrastructure'},\n",
       " 'd3_11_regime change': {'check_func': 'regime change|coup|revolution|revolt|political action|political event|upheaval',\n",
       "  'description': 'describes a regime change'},\n",
       " 'd3_12_medical': {'check_func': 'medical|health',\n",
       "  'description': 'is related to a medical situation'},\n",
       " 'd3_13_water': {'check_func': 'water',\n",
       "  'description': 'involves a situation where people need clean water'},\n",
       " 'd3_14_search': {'check_func': 'search|rescue|help',\n",
       "  'description': 'involves a search/rescue situation'},\n",
       " 'd3_15_utility': {'check_func': 'utility|energy|sanitation|electricity|power',\n",
       "  'description': 'expresses need for utility, energy or sanitation'},\n",
       " 'd3_16_hillary': {'check_func': 'hillary|clinton|against Hillary|opposed to Hillary|republican|against Clinton|opposed to Clinton',\n",
       "  'description': 'is against Hillary'},\n",
       " 'd3_17_hillary': {'check_func': 'hillary|clinton|support Hillary|support Clinton|democrat',\n",
       "  'description': 'supports hillary'},\n",
       " 'd3_18_offensive': {'check_func': 'offensive|toxic|abusive|insulting|insult|abuse|offend|offend',\n",
       "  'description': 'contains offensive content'},\n",
       " 'd3_19_offensive': {'check_func': 'offensive|toxic|abusive|insulting|insult|abuse|offend|offend|women|immigrants',\n",
       "  'description': 'insult women or immigrants'},\n",
       " 'd3_20_pro-life': {'check_func': 'pro-life|abortion|pro life',\n",
       "  'description': 'is pro-life'},\n",
       " 'd3_21_pro-choice': {'check_func': 'pro-choice|abortion|pro choice',\n",
       "  'description': 'supports abortion'},\n",
       " 'd3_22_physics': {'check_func': 'physics', 'description': 'is about physics'},\n",
       " 'd3_23_computer science': {'check_func': 'computer science|computer|artificial intelligence|ai',\n",
       "  'description': 'is related to computer science'},\n",
       " 'd3_24_statistics': {'check_func': 'statistics|stat|probability',\n",
       "  'description': 'is about statistics'},\n",
       " 'd3_25_math': {'check_func': 'math|arithmetic|algebra|geometry',\n",
       "  'description': 'is about math research'},\n",
       " 'd3_26_grammar': {'check_func': 'grammar|syntax|punctuation|grammat',\n",
       "  'description': 'is ungrammatical'},\n",
       " 'd3_27_grammar': {'check_func': 'grammar|syntax|punctuation|grammat',\n",
       "  'description': 'is grammatical'},\n",
       " 'd3_28_sexis': {'check_func': 'sexis|women|femini',\n",
       "  'description': 'is offensive to women'},\n",
       " 'd3_29_sexis': {'check_func': 'sexis|women|femini',\n",
       "  'description': 'supports feminism'},\n",
       " 'd3_30_news': {'check_func': 'news|international|current events',\n",
       "  'description': 'is about world news'},\n",
       " 'd3_31_sports': {'check_func': 'sports',\n",
       "  'description': 'is about sports news'},\n",
       " 'd3_32_business': {'check_func': 'business|economics|finance',\n",
       "  'description': 'is related to business'},\n",
       " 'd3_33_tech': {'check_func': 'tech',\n",
       "  'description': 'is related to technology'},\n",
       " 'd3_34_bad': {'check_func': 'bad|negative|awful|terrible|horrible|poor|boring|dislike',\n",
       "  'description': 'contains a bad movie review'},\n",
       " 'd3_35_good': {'check_func': 'good|great|like|love|positive|awesome|amazing|excellent',\n",
       "  'description': 'thinks the movie is good'},\n",
       " 'd3_36_quantity': {'check_func': 'quantity|number|numeric',\n",
       "  'description': 'asks for a quantity'},\n",
       " 'd3_37_location': {'check_func': 'location|place',\n",
       "  'description': 'asks about a location'},\n",
       " 'd3_38_person': {'check_func': 'person|group|individual|people',\n",
       "  'description': 'asks about a person'},\n",
       " 'd3_39_entity': {'check_func': 'entity|thing|object',\n",
       "  'description': 'asks about an entity'},\n",
       " 'd3_40_abbrevation': {'check_func': 'abbrevation|abbr|acronym',\n",
       "  'description': 'asks about an abbreviation'},\n",
       " 'd3_41_defin': {'check_func': 'defin|meaning|explain',\n",
       "  'description': 'contains a definition'},\n",
       " 'd3_42_environment': {'check_func': 'environment|climate change|global warming',\n",
       "  'description': 'is against environmentalist'},\n",
       " 'd3_43_environment': {'check_func': 'environment|climate change|global warming',\n",
       "  'description': 'is environmentalist'},\n",
       " 'd3_44_spam': {'check_func': 'spam|annoying|unwanted',\n",
       "  'description': 'is a spam'},\n",
       " 'd3_45_fact': {'check_func': 'fact|info|knowledge',\n",
       "  'description': 'asks for factual information'},\n",
       " 'd3_46_opinion': {'check_func': 'opinion|personal|bias',\n",
       "  'description': 'asks for an opinion'},\n",
       " 'd3_47_math': {'check_func': 'math|science',\n",
       "  'description': 'is related to math and science'},\n",
       " 'd3_48_health': {'check_func': 'health|medical|disease',\n",
       "  'description': 'is related to health'},\n",
       " 'd3_49_computer': {'check_func': 'computer|internet|web',\n",
       "  'description': 'related to computer or internet'},\n",
       " 'd3_50_sport': {'check_func': 'sport', 'description': 'is related to sports'},\n",
       " 'd3_51_entertainment': {'check_func': 'entertainment|music|movie|tv',\n",
       "  'description': 'is about entertainment'},\n",
       " 'd3_52_family': {'check_func': 'family|relationships',\n",
       "  'description': 'is about family and relationships'},\n",
       " 'd3_53_politic': {'check_func': 'politic|government|law',\n",
       "  'description': 'is related to politics or government'}}"
      ]
     },
     "execution_count": 3,
     "metadata": {},
     "output_type": "execute_result"
    }
   ],
   "source": [
    "from d3 import TASKS_D3\n",
    "# for k in sorted(TASKS_D3):\n",
    "    # print(k)\n",
    "    # print(k, TASKS_D3[k])\n",
    "D = {\n",
    "    k +'_' + TASKS_D3[k]['check_func'].split('|')[0]: v for k, v in TASKS_D3.items()\n",
    "}\n",
    "D"
   ]
  },
  {
   "cell_type": "code",
   "execution_count": null,
   "metadata": {},
   "outputs": [],
   "source": []
  }
 ],
 "metadata": {
  "kernelspec": {
   "display_name": ".llm",
   "language": "python",
   "name": "python3"
  },
  "language_info": {
   "codemirror_mode": {
    "name": "ipython",
    "version": 3
   },
   "file_extension": ".py",
   "mimetype": "text/x-python",
   "name": "python",
   "nbconvert_exporter": "python",
   "pygments_lexer": "ipython3",
   "version": "3.9.5"
  },
  "orig_nbformat": 4,
  "vscode": {
   "interpreter": {
    "hash": "a9ff692d44ea03fd8a03facee7621117bbbb82def09bacaacf0a2cbc238b7b91"
   }
  }
 },
 "nbformat": 4,
 "nbformat_minor": 2
}
