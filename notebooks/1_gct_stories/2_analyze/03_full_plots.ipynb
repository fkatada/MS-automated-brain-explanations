{
 "cells": [
  {
   "cell_type": "code",
   "execution_count": 2,
   "metadata": {},
   "outputs": [
    {
     "name": "stdout",
     "output_type": "stream",
     "text": [
      "The autoreload extension is already loaded. To reload it, use:\n",
      "  %reload_ext autoreload\n"
     ]
    }
   ],
   "source": [
    "%load_ext autoreload\n",
    "%autoreload 2\n",
    "import os\n",
    "import matplotlib.pyplot as plt\n",
    "import seaborn as sns\n",
    "from os.path import join\n",
    "from tqdm import tqdm\n",
    "import pandas as pd\n",
    "import sys\n",
    "import joblib\n",
    "from scipy.special import softmax\n",
    "import numpy as np\n",
    "from collections import defaultdict\n",
    "from copy import deepcopy\n",
    "from scipy import stats\n",
    "import pandas as pd\n",
    "import dvu\n",
    "import neuro.viz\n",
    "from neuro import config\n",
    "dvu.set_style()"
   ]
  },
  {
   "cell_type": "markdown",
   "metadata": {},
   "source": [
    "Default setting (loads outputs of default nb)"
   ]
  },
  {
   "cell_type": "code",
   "execution_count": 4,
   "metadata": {},
   "outputs": [
    {
     "name": "stdout",
     "output_type": "stream",
     "text": [
      "len(df)=51 (df[\"diff\"] > 0).sum()=np.int64(41)\n"
     ]
    },
    {
     "data": {
      "image/png": "[encoded data removed]",
      "text/plain": [
       "<Figure size 450x300 with 1 Axes>"
      ]
     },
     "metadata": {},
     "output_type": "display_data"
    }
   ],
   "source": [
    "# default\n",
    "uts01 = joblib.load(join('means', 'pilot4_default_means.pkl'))\n",
    "uts02 = joblib.load(join('means', 'pilot_default_means.pkl'))\n",
    "uts03 = joblib.load(join('means', 'pilot3_default_means.pkl'))\n",
    "# sasc.viz.barplot_default([uts01['diag_means'], uts02['diag_means'], uts03['diag_means']],\n",
    "#                          [uts01['off_diag_means'], uts02['off_diag_means'],\n",
    "#                              uts03['off_diag_means']],\n",
    "#                          pilot_name='full_', expls=[], annot_points=False, spread=80)\n",
    "\n",
    "\n",
    "def barplot_default_no_baseline():\n",
    "    d = defaultdict(list)\n",
    "    for subj, fname in zip(['S01', 'S02', 'S03'],\n",
    "                           ['pilot4_default_means.pkl', 'pilot_default_means.pkl', 'pilot3_default_means.pkl']):\n",
    "        data = joblib.load(join(config.RESULTS_DIR_LOCAL, 'processed', fname))\n",
    "        n = len(data['diag_means'])\n",
    "        assert n == len(data['off_diag_means'])\n",
    "        for i in range(n):\n",
    "            d['subj'].append(subj)\n",
    "            d['diag'].append(data['diag_means'][i])\n",
    "            d['off_diag'].append(data['off_diag_means'][i])\n",
    "\n",
    "    plt.figure(figsize=(4.5, 3))\n",
    "    sns.set_context(\"notebook\", rc={\"lines.markeredgewidth\": 2})\n",
    "    df = pd.DataFrame(d)\n",
    "    df['diff'] = df['diag'] - df['off_diag']\n",
    "    np.random.seed(1)\n",
    "    sns.stripplot(data=df, x='subj',\n",
    "                  y='diff', s=6,\n",
    "                    palette='dark:C0',\n",
    "                  #   color='C0',\n",
    "                  alpha=0.6, hue='subj', jitter=0.3,)\n",
    "    sns.barplot(data=df, x='subj', y='diff', errorbar='se',\n",
    "                capsize=0.1, color='C0', alpha=0.2)\n",
    "\n",
    "    # plt.bar(1, df['diff'].mean(), yerr=df['diff'].std() / np.sqrt(len(df)),\n",
    "    # width=2.5, color='C0', alpha=0, capsize=4, error_kw={'elinewidth': 2}, zorder=100000)  # , fmt='o')\n",
    "    # plt.bar(1, df['diff'].mean(), yerr=df['diff'].std() / np.sqrt(len(df)),\n",
    "    # width=2.5, color='C0', alpha=0.2, capsize=4, error_kw={'elinewidth': 2}, zorder=-100000)  # , fmt='o')\n",
    "\n",
    "    # plt.plot([-0.25, 2.25], [0, 0], color='gray', linestyle='--', lw=3)\n",
    "    plt.axhline(0, color='gray', linestyle='--', lw=3, alpha=0.5)\n",
    "    # plt.text(3, 0, 'Baseline', color='gray',\n",
    "    #  va='center', ha='right', fontsize='small')\n",
    "    plt.xlabel('Subject')\n",
    "    plt.ylabel('Mean driving\\nvoxel response ($\\sigma$)')\n",
    "    plt.tight_layout()\n",
    "    plt.savefig(join('means',\n",
    "                'full_default_means_updated.pdf'))\n",
    "    print(f'{len(df)=} {(df[\"diff\"] > 0).sum()=}')\n",
    "\n",
    "\n",
    "barplot_default_no_baseline()"
   ]
  },
  {
   "cell_type": "markdown",
   "metadata": {},
   "source": [
    "**Interactions setting**"
   ]
  },
  {
   "cell_type": "code",
   "execution_count": null,
   "metadata": {},
   "outputs": [],
   "source": [
    "# interactions\n",
    "uts01 = joblib.load(join('interactions', 'pilot4_interactions_means.pkl'))\n",
    "uts02 = joblib.load(join('interactions', 'pilot2_interactions_means.pkl'))\n",
    "uts03 = joblib.load(join('interactions', 'pilot3_interactions_means.pkl'))\n",
    "# sasc.viz.barplot_interaction([uts01['diag_means'], uts02['diag_means'], uts03['diag_means']],\n",
    "#                              [uts01['off_diag_means'], uts02['off_diag_means'],\n",
    "#                                  uts03['off_diag_means']],\n",
    "#                              [uts01['diag_means_interaction'], uts02['diag_means_interaction'],\n",
    "#                               uts03['diag_means_interaction']],\n",
    "#                              [uts01['off_diag_means_interaction'], uts02['off_diag_means_interaction'],\n",
    "#                               uts03['off_diag_means_interaction']],\n",
    "#                              pilot_name='full_')\n",
    "\n",
    "\n",
    "def barplot_interaction_no_baseline():\n",
    "    d = defaultdict(list)\n",
    "    for subj, fname in zip(['S01', 'S02', 'S03'],\n",
    "                           ['pilot4_interactions_means.pkl', 'pilot2_interactions_means.pkl', 'pilot3_interactions_means.pkl']):\n",
    "        data = joblib.load(join(RESULTS_DIR, 'processed', fname))\n",
    "        n = len(data['diag_means'])\n",
    "        assert n == len(data['off_diag_means'])\n",
    "        for i in range(n):\n",
    "            d['subj'].append(subj)\n",
    "            d['diag'].append(data['diag_means'][i])\n",
    "            d['off_diag'].append(data['off_diag_means'][i])\n",
    "            d['setting'].append('single')\n",
    "        n2 = len(data['diag_means_interaction'])\n",
    "        assert n2 == len(data['off_diag_means_interaction'])\n",
    "        for i in range(n2):\n",
    "            d['subj'].append(subj)\n",
    "            d['diag'].append(data['diag_means_interaction'][i])\n",
    "            d['off_diag'].append(data['off_diag_means_interaction'][i])\n",
    "            d['setting'].append('pair')\n",
    "\n",
    "    plt.figure(figsize=(4.5, 3))\n",
    "    sns.set_context(\"notebook\", rc={\"lines.markeredgewidth\": 2})\n",
    "    df = pd.DataFrame(d)\n",
    "    df['diff'] = df['diag'] - df['off_diag']\n",
    "    np.random.seed(11)\n",
    "    df = df.sort_values(by='subj')\n",
    "    df['x'] = df['subj'] + df['setting']\n",
    "    colors = ['C0', '#5D3F6A']\n",
    "    for i, setting in enumerate(['single', 'pair']):\n",
    "        d = df[df['setting'] == setting]\n",
    "        plt.bar([1, 4][i], d['diff'].mean(), yerr=d['diff'].std() / np.sqrt(len(d)),\n",
    "                width=2.75, color=colors[i], alpha=0.2, capsize=4, error_kw={'elinewidth': 2}, zorder=100000)\n",
    "    print('mean', d['diff'].mean(), 'std', d['diff'].std() / np.sqrt(len(d)))\n",
    "\n",
    "    # sns.swarmplot(\n",
    "    #     data=df, x='x', hue='subj',\n",
    "    #     order=['S01single', 'S02single', 'S03single',\n",
    "    #                'S01pair', 'S02pair', 'S03pair', ],\n",
    "    #     y='diff', s=6, palette='dark:C0', alpha=0.6)  # , jitter=0.3,)\n",
    "    # replot above but with different marker for each 'x'\n",
    "    markers = ['o', 'X', '^']\n",
    "    colors = ['C0', '#5D3F6A']\n",
    "    for i, x in enumerate(['S01single', 'S02single', 'S03single', 'S01pair', 'S02pair', 'S03pair']):\n",
    "        d = df[df['x'] == x]\n",
    "        sns.swarmplot(data=d, x='x', hue='subj', y='diff', s=6,\n",
    "                      #   color=colors[i//3],\n",
    "                      palette=[colors[i//3]],\n",
    "                      alpha=0.8, marker=markers[i % 3], legend=False)\n",
    "\n",
    "    plt.xlabel('')\n",
    "    plt.ylabel('Mean driving\\nvoxel response ($\\sigma$)')\n",
    "\n",
    "    # plt.plot([-0.5, 1.5], [0, 0], color='gray', linestyle='--')\n",
    "    plt.axhline(0, color='gray', linestyle='--', lw=3, alpha=0.5)\n",
    "    plt.xticks([1, 4], ['Single', 'Pair'])\n",
    "    # plt.text(1.5, 0, 'Baseline', color='gray',\n",
    "    #  va='center', ha='right', fontsize='small')\n",
    "\n",
    "    # move legend to the right\n",
    "    # plt.legend(title='Subject', loc='upper left', bbox_to_anchor=(1, 1))\n",
    "    plt.tight_layout()\n",
    "    plt.savefig(join(RESULTS_DIR, 'figs', 'main',\n",
    "                'full_interaction_means_updated.pdf'), bbox_inches='tight')\n",
    "    return df\n",
    "\n",
    "\n",
    "df = barplot_interaction_no_baseline()"
   ]
  },
  {
   "cell_type": "code",
   "execution_count": null,
   "metadata": {},
   "outputs": [],
   "source": [
    "# polysemantic\n",
    "uts02 = joblib.load(join(RESULTS_DIR, 'processed', 'pilot2_poly_means.pkl'))\n",
    "uts03 = joblib.load(join(RESULTS_DIR, 'processed', 'pilot3_poly_means.pkl'))\n",
    "sasc.viz.barplot_polysemantic([uts02['diag_means'], uts03['diag_means']],\n",
    "                              [uts02['off_diag_means'], uts03['off_diag_means']],\n",
    "                              pilot_name='full_', expls=[], annot_points=False)\n",
    "# plt.plot([], [], 'o', color='gray', label='S01', markersize=5)\n",
    "plt.plot([], [], 'X', color='gray', label='S02', markersize=7)\n",
    "plt.plot([], [], '^', color='gray', label='S03',\n",
    "         markersize=7)  # , markeredgewidth=4)\n",
    "plt.legend(ncol=3, frameon=True, fontsize='small', loc='upper right')\n",
    "plt.savefig(join(sasc.config.RESULTS_DIR, 'figs/main',\n",
    "            'full_poly_means.pdf'), bbox_inches='tight')"
   ]
  },
  {
   "cell_type": "markdown",
   "metadata": {},
   "source": [
    "### Stability scores"
   ]
  },
  {
   "cell_type": "code",
   "execution_count": 3,
   "metadata": {},
   "outputs": [],
   "source": [
    "encoding_scores = joblib.load(join(RESULTS_DIR,\n",
    "                                   'processed', 'encoding_scores.pkl'))\n",
    "data_ngram_scores = joblib.load(join(RESULTS_DIR,\n",
    "                                     'processed', 'data_ngram_scores.pkl'))\n",
    "encoding_scores['data_ngram_score'] = data_ngram_scores['encoding_score']\n",
    "voxel_scores_files = {\n",
    "    'uts01': 'pilot4_default_voxel_scores.pkl',\n",
    "    'uts02': 'pilot_default_voxel_scores.pkl',\n",
    "    'uts03': 'pilot3_default_voxel_scores.pkl'\n",
    "}\n",
    "voxel_scores = []\n",
    "for subj, fname in voxel_scores_files.items():\n",
    "    scores_drive = joblib.load(join(RESULTS_DIR, 'processed', fname))\n",
    "    scores_drive = scores_drive.merge(\n",
    "        encoding_scores[encoding_scores.subject == subj][['module_num', 'encoding_score', 'data_ngram_score']], on='module_num')\n",
    "    voxel_scores.append(scores_drive)\n",
    "\n",
    "\n",
    "def plot_line_with_corr(\n",
    "        voxel_scores, i=0, cs=['C0', '#5D3F6A', 'mediumseagreen'],\n",
    "        markers=['o', 'o', 'o'], yoffset=0, plot_key='stability_score'):\n",
    "\n",
    "    x = voxel_scores[plot_key].values\n",
    "    y = voxel_scores[\"driving_score\"].values\n",
    "    plt.plot(x, y, markers[i], color=cs[i], markersize=7, alpha=0.8)\n",
    "\n",
    "    # plot line of best fit\n",
    "    m, b = np.polyfit(x, y, 1)\n",
    "    plt.plot(x, m * x + b, color=cs[i], alpha=0.5, markersize=0.5)\n",
    "\n",
    "    # add annotation\n",
    "    subjs = ['S02', 'S03', 'S01']\n",
    "    corr = np.corrcoef(x, y)[0, 1]\n",
    "    xend = max(x) + 0.01\n",
    "    yend = m * xend + b + 0.01\n",
    "    plt.text(\n",
    "        xend,\n",
    "        yend + yoffset,\n",
    "        f\"{subjs[i]}, $\\\\rho$={corr:.2f}\",\n",
    "        color=cs[i],\n",
    "        fontsize='medium'\n",
    "    )\n",
    "\n",
    "    plt.ylabel(\"Mean driving voxel response ($\\sigma$)\")\n",
    "    if plot_key == 'stability_score':\n",
    "        plt.xlabel(\"Stability score\")\n",
    "    elif plot_key == 'encoding_score':\n",
    "        plt.xlabel(\"Encoding drive score ($\\sigma$)\")"
   ]
  },
  {
   "cell_type": "code",
   "execution_count": 4,
   "metadata": {},
   "outputs": [
    {
     "data": {
      "image/png": "[encoded data removed]",
      "text/plain": [
       "<Figure size 500x400 with 1 Axes>"
      ]
     },
     "metadata": {},
     "output_type": "display_data"
    }
   ],
   "source": [
    "plt.figure(figsize=(5, 4))\n",
    "# sns.set_context(\"paper\", rc={\"lines.markeredgewidth\": 2})\n",
    "plot_line_with_corr(voxel_scores[1], i=0, yoffset=0.06)\n",
    "plot_line_with_corr(voxel_scores[0], i=1)\n",
    "plot_line_with_corr(voxel_scores[2], i=2)\n",
    "\n",
    "\n",
    "plt.savefig(join(RESULTS_DIR, 'figs/misc',\n",
    "            'full_stability_score.pdf'), bbox_inches='tight')\n",
    "plt.show()"
   ]
  },
  {
   "cell_type": "code",
   "execution_count": 13,
   "metadata": {},
   "outputs": [
    {
     "name": "stdout",
     "output_type": "stream",
     "text": [
      "S03 corr=0.522 p=0.032\n",
      "S02 corr=0.476 p=0.054\n",
      "S01 corr=0.301 p=0.241\n"
     ]
    }
   ],
   "source": [
    "subjs = ['S03', 'S02', 'S01']\n",
    "for i in range(3):\n",
    "    r, p = stats.pearsonr(\n",
    "        voxel_scores[i]['stability_score'], voxel_scores[i]['driving_score'])\n",
    "    print(f'{subjs[i]} corr={r:.3f} p={p:.3f}')"
   ]
  },
  {
   "cell_type": "code",
   "execution_count": null,
   "metadata": {},
   "outputs": [],
   "source": [
    "# \"# with sns.plotting_context(\"talk\"):\n",
    "plt.figure(figsize=(6, 5))\n",
    "# sns.set_context(\"talk\", rc={\"lines.markeredgewidth\": 2})\n",
    "plot_line_with_corr(voxel_scores[1], i=0, plot_key='encoding_score')\n",
    "plot_line_with_corr(voxel_scores[0], i=1, plot_key='encoding_score')\n",
    "plot_line_with_corr(voxel_scores[2], i=2, plot_key='encoding_score')\n",
    "\n",
    "\n",
    "plt.savefig(join(RESULTS_DIR, 'figs/misc',\n",
    "            'full_encoding_score.pdf'), bbox_inches='tight')\n",
    "plt.show()"
   ]
  },
  {
   "cell_type": "code",
   "execution_count": null,
   "metadata": {},
   "outputs": [],
   "source": [
    "# \"# with sns.plotting_context(\"talk\"):\n",
    "plt.figure(figsize=(6, 5))\n",
    "# sns.set_context(\"talk\", rc={\"lines.markeredgewidth\": 2})\n",
    "plot_line_with_corr(voxel_scores[1], i=0, plot_key='data_ngram_score')\n",
    "plot_line_with_corr(voxel_scores[0], i=1, plot_key='data_ngram_score')\n",
    "plot_line_with_corr(voxel_scores[2], i=2,\n",
    "                    plot_key='data_ngram_score', yoffset=-.08)\n",
    "plt.xlabel('Ngram matching score ($\\sigma$)')\n",
    "plt.savefig(join(RESULTS_DIR, 'figs/misc',\n",
    "            'data_ngram_score.pdf'), bbox_inches='tight')\n",
    "plt.show()"
   ]
  },
  {
   "cell_type": "markdown",
   "metadata": {},
   "source": [
    "### Example curve with predictions"
   ]
  },
  {
   "cell_type": "code",
   "execution_count": null,
   "metadata": {},
   "outputs": [],
   "source": [
    "pred, actual = joblib.load(join(sasc.config.RESULTS_DIR,\n",
    "                                'processed', 'vox23367_pred_actual.jbl'))\n",
    "\n",
    "plt.figure(figsize=(4, 2.5))\n",
    "plt.plot(actual[:80], '-', color='gray', lw=3)\n",
    "plt.plot(pred[:80], '-', color='C0', lw=3)\n",
    "# plt.axhline(0, color='gray', linestyle='--', lw=3)\n",
    "# plt.axhline(np.mean(resps_rep_means[5]), color='#08b47c', linestyle='--', lw=3)\n",
    "plt.ylim(-2, 2)\n",
    "plt.xticks([])\n",
    "plt.yticks([])\n",
    "\n",
    "print('corr', np.corrcoef(pred, actual)[0, 1])\n",
    "# turn on all splines\n",
    "for spine in plt.gca().spines.values():\n",
    "    spine.set_visible(True)\n",
    "\n",
    "    # make spline thick\n",
    "    spine.set_linewidth(3)\n",
    "plt.savefig(join(sasc.config.RESULTS_DIR, 'figs',\n",
    "            'misc', 'food_prep_pred_resp.pdf'), bbox_inches='tight')"
   ]
  },
  {
   "cell_type": "markdown",
   "metadata": {},
   "source": [
    "### Create dummy legend"
   ]
  },
  {
   "cell_type": "code",
   "execution_count": null,
   "metadata": {},
   "outputs": [],
   "source": [
    "# create a dummy legend with a gray circle and triangle\n",
    "# to represent the two subjects\n",
    "plt.figure(figsize=(3, 1))\n",
    "# c = 'gray'\n",
    "c = '#35B3E3'\n",
    "plt.plot([], [], 'o', color=c, label='S01', markersize=11)\n",
    "plt.plot([], [], 'X', color=c, label='S02', markersize=11)\n",
    "plt.plot([], [], '^', color=c, label='S03',\n",
    "         markersize=11, markeredgewidth=4)\n",
    "plt.legend(loc='center', ncol=3, frameon=True, fontsize='large')\n",
    "plt.axis('off')\n",
    "plt.savefig(join(RESULTS_DIR, 'figs/misc',\n",
    "            'full_stability_score_legend.pdf'), bbox_inches='tight')"
   ]
  },
  {
   "cell_type": "markdown",
   "metadata": {},
   "source": [
    "### Story scores"
   ]
  },
  {
   "cell_type": "code",
   "execution_count": null,
   "metadata": {},
   "outputs": [],
   "source": [
    "default_S01 = joblib.load(\n",
    "    join(RESULTS_DIR, 'processed', 'pilot4_default_story_scores.pkl'))\n",
    "default_S02 = joblib.load(\n",
    "    join(RESULTS_DIR, 'processed', 'pilot_default_story_scores.pkl'))\n",
    "default_S03 = joblib.load(\n",
    "    join(RESULTS_DIR, 'processed', 'pilot3_default_story_scores.pkl'))\n",
    "interactions_S01 = joblib.load(\n",
    "    join(RESULTS_DIR, 'processed', 'pilot4_interactions_story_scores.pkl'))\n",
    "interactions_S02 = joblib.load(\n",
    "    join(RESULTS_DIR, 'processed', 'pilot2_interactions_story_scores.pkl'))\n",
    "interactions_S03 = joblib.load(\n",
    "    join(RESULTS_DIR, 'processed', 'pilot3_interactions_story_scores.pkl'))\n",
    "polysemantic_S02 = joblib.load(\n",
    "    join(RESULTS_DIR, 'processed', 'pilot2_poly_story_scores.pkl'))\n",
    "polysemantic_S03 = joblib.load(\n",
    "    join(RESULTS_DIR, 'processed', 'pilot3_poly_story_scores.pkl'))\n",
    "roi_S02 = joblib.load(\n",
    "    join(RESULTS_DIR, 'processed', 'pilot5_roi_story_scores.pkl'))\n",
    "\n",
    "\n",
    "dfs = [default_S01, default_S02, default_S03,\n",
    "       interactions_S01, interactions_S02, interactions_S03,\n",
    "       polysemantic_S02, polysemantic_S03, roi_S02]\n",
    "subj = ['S1', 'S2', 'S3', 'S1', 'S2', 'S3', 'S2', 'S3', 'S2']\n",
    "setting = ['Single-voxel', 'Single-voxel', 'Single-voxel',\n",
    "           #    'Interaction', 'Interaction', 'Interaction',\n",
    "           'Multi-voxel', 'Multi-voxel', 'Multi-voxel',\n",
    "           'Polysemantic', 'Polysemantic', 'ROI']\n",
    "df_big = []\n",
    "for df in dfs:\n",
    "    # make barplot comparing driving and baseline\n",
    "    df['diff'] = df['driving'] - df['baseline']\n",
    "    d = df.melt(id_vars='story', value_vars=[\n",
    "        'driving', 'baseline', 'diff'], var_name='condition', value_name='mean')\n",
    "    d['subj'] = subj.pop(0)\n",
    "    d['setting'] = setting.pop(0)\n",
    "    d['story'] = d.apply(lambda x: x['subj'] + ' ' + x['story'], axis=1)\n",
    "    df_big.append(deepcopy(d))\n",
    "\n",
    "df_big = pd.concat(df_big)\n",
    "df_big['story'] = df_big['story'].str.replace(\n",
    "    'GenStory', '').str.replace('deeptune-story', '')\n",
    "# df_big = df_big[df_big['condition'] == 'driving']\n",
    "df_big = df_big[df_big['condition'] == 'diff']\n",
    "\n",
    "# set xticklabels rotated\n",
    "plt.figure(figsize=(8, 5))\n",
    "# plt.grid()\n",
    "\n",
    "# shade bars by subj\n",
    "offset = 0\n",
    "xticklabels = []\n",
    "for i, setting in enumerate(df_big['setting'].unique()):\n",
    "    d = df_big[df_big['setting'] == setting]\n",
    "    d = d.sort_values('story')\n",
    "    plt.bar(np.arange(len(d)) + offset, d['mean'], label=setting,\n",
    "            color=sns.color_palette(\"Blues\", 4)[i])\n",
    "    xticklabels += d['story'].tolist()\n",
    "    offset += len(d)\n",
    "\n",
    "# move legend to right\n",
    "plt.legend(bbox_to_anchor=(1.05, 0.5), loc=2,\n",
    "           borderaxespad=0., fontsize='x-small')\n",
    "\n",
    "plt.xticks(rotation=90, va='top', labels=xticklabels,\n",
    "           ticks=np.arange(len(xticklabels)))\n",
    "plt.xlabel('Story')\n",
    "\n",
    "plt.axhline(0, color='gray', linestyle='--', lw=2)\n",
    "plt.ylabel('Mean driving voxel response ($\\sigma$)')\n",
    "plt.savefig(join(RESULTS_DIR, 'figs/main', 'full_story_breakdown.pdf'))\n",
    "\n",
    "plt.show()"
   ]
  },
  {
   "cell_type": "code",
   "execution_count": null,
   "metadata": {},
   "outputs": [],
   "source": []
  }
 ],
 "metadata": {
  "kernelspec": {
   "display_name": ".env",
   "language": "python",
   "name": "python3"
  },
  "language_info": {
   "codemirror_mode": {
    "name": "ipython",
    "version": 3
   },
   "file_extension": ".py",
   "mimetype": "text/x-python",
   "name": "python",
   "nbconvert_exporter": "python",
   "pygments_lexer": "ipython3",
   "version": "3.11.11"
  }
 },
 "nbformat": 4,
 "nbformat_minor": 2
}
