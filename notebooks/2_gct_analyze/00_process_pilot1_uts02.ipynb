{
 "cells": [
  {
   "cell_type": "code",
   "execution_count": null,
   "metadata": {},
   "outputs": [
    {
     "name": "stdout",
     "output_type": "stream",
     "text": [
      "The autoreload extension is already loaded. To reload it, use:\n",
      "  %reload_ext autoreload\n"
     ]
    }
   ],
   "source": [
    "%load_ext autoreload\n",
    "%autoreload 2\n",
    "import os\n",
    "from os.path import join\n",
    "from tqdm import tqdm\n",
    "import pandas as pd\n",
    "import joblib\n",
    "from neuro import config\n",
    "import numpy as np\n",
    "from collections import defaultdict\n",
    "import pandas as pd\n",
    "from neuro.sasc.modules.fmri_module import convert_module_num_to_voxel_num, add_stability_score\n",
    "# loo_pc = joblib.load(f'{FMRI_DIR}/voxel_neighbors_and_pcs/loo_pc_UTS02.pkl')"
   ]
  },
  {
   "cell_type": "markdown",
   "metadata": {},
   "source": [
    "### Story data\n",
    "Load all the results from the stories into a single pickle file."
   ]
  },
  {
   "cell_type": "code",
   "execution_count": null,
   "metadata": {},
   "outputs": [],
   "source": [
    "output_file = join(config.RESULTS_DIR_LOCAL,\n",
    "                   'processed', \"pilot_story_data.pkl\")\n",
    "story_mapping = {\n",
    "    \"default/uts02_pilot_gpt4_mar28___ver=v4_noun___seed=1\": \"GenStory1_resps.npy\",\n",
    "    \"default/uts02_pilot_gpt4_mar28___ver=v4_noun___seed=3\": \"GenStory2_resps.npy\",\n",
    "    \"default/uts02_pilot_gpt4_mar28___ver=v4_noun___seed=4\": \"GenStory3_resps.npy\",\n",
    "    \"default/uts02_pilot_gpt4_mar28___ver=v5_noun___seed=1\": \"GenStory4_resps.npy\",\n",
    "    \"default/uts02_pilot_gpt4_mar28___ver=v5_noun___seed=2\": \"GenStory5_resps.npy\",\n",
    "    \"default/uts02_pilot_gpt4_mar28___ver=v5_noun___seed=4\": \"GenStory6_resps.npy\",\n",
    "}"
   ]
  },
  {
   "cell_type": "code",
   "execution_count": 5,
   "metadata": {},
   "outputs": [
    {
     "data": {
      "text/plain": [
       "['/home/chansingh/automated-brain-explanations/results/processed/pilot_story_data.pkl']"
      ]
     },
     "execution_count": 5,
     "metadata": {},
     "output_type": "execute_result"
    }
   ],
   "source": [
    "story_names = story_mapping.keys()  # os.listdir(STORIES_DIR)\n",
    "cluster_neighbors = joblib.load(\n",
    "    join(config.FMRI_DIR_BLOB, 'brain_tune', \"voxel_neighbors_and_pcs\",\n",
    "         \"cluster_neighbors_v1.pkl\")\n",
    ")\n",
    "\n",
    "# process with timings\n",
    "stories_data_dict = defaultdict(list)\n",
    "for story_name in story_names:\n",
    "    timings = pd.read_csv(\n",
    "        join(config.STORIES_DIR_GCT, story_name, \"timings_processed.csv\"))\n",
    "    # timings['time_running'] += 6  # -= 5  # += 6\n",
    "    stories_data_dict[\"timing\"].append(\n",
    "        timings\n",
    "    )\n",
    "    stories_data_dict[\"story_name_original\"].append(story_name.split('/')[1])\n",
    "    stories_data_dict[\"story_setting\"].append(story_name.split(\"/\")[0])\n",
    "    stories_data_dict[\"story_name_new\"].append(story_mapping[story_name])\n",
    "    stories_data_dict[\"story_text\"].append(\n",
    "        open(join(config.STORIES_DIR_GCT, story_name, \"story.txt\"), \"r\").read()\n",
    "    )\n",
    "    stories_data_dict[\"prompts\"].append(\n",
    "        open(join(config.STORIES_DIR_GCT, story_name, \"prompts.txt\"), \"r\")\n",
    "        .read()\n",
    "        .split(\"\\n\\n\")\n",
    "    )\n",
    "\n",
    "    # rows\n",
    "    story_metadata_per_paragraph = pd.read_csv(\n",
    "        join(config.STORIES_DIR_GCT, story_name, \"rows.csv\"))\n",
    "    story_metadata_per_paragraph[\"voxel_num\"] = story_metadata_per_paragraph.apply(\n",
    "        lambda row: convert_module_num_to_voxel_num(\n",
    "            row[\"module_num\"], row[\"subject\"]),\n",
    "        axis=1,\n",
    "    )\n",
    "    story_metadata_per_paragraph[\"stability_score\"] = story_metadata_per_paragraph.apply(\n",
    "        lambda row: add_stability_score(row[\"module_num\"], row[\"subject\"]),\n",
    "        axis=1,\n",
    "    )\n",
    "    story_metadata_per_paragraph = story_metadata_per_paragraph[\n",
    "        [\n",
    "            \"expl\",\n",
    "            \"subject\",\n",
    "            \"module_num\",\n",
    "            \"roi_anat\",\n",
    "            \"roi_func\",\n",
    "            \"voxel_num\",\n",
    "\n",
    "            # metrics\n",
    "            \"stability_score\",\n",
    "            \"top_explanation_init_strs\",\n",
    "            # \"top_explanation_init_strs_llama\",\n",
    "            \"fmri_test_corr\",\n",
    "            \"top_score_synthetic\",\n",
    "            \"top_score_normalized\",\n",
    "        ]\n",
    "    ]\n",
    "    story_metadata_per_paragraph[\"cluster_nums\"] = story_metadata_per_paragraph[\"voxel_num\"].map(\n",
    "        cluster_neighbors)\n",
    "    stories_data_dict[\"rows\"].append(story_metadata_per_paragraph)\n",
    "\n",
    "\n",
    "joblib.dump(stories_data_dict, output_file)"
   ]
  },
  {
   "cell_type": "code",
   "execution_count": 14,
   "metadata": {},
   "outputs": [],
   "source": [
    "stories_data_dict = joblib.load(output_file)\n",
    "stories_data_dict['rows'][0].to_csv('uts02_default_voxels.csv')"
   ]
  },
  {
   "cell_type": "code",
   "execution_count": null,
   "metadata": {},
   "outputs": [],
   "source": []
  },
  {
   "cell_type": "code",
   "execution_count": null,
   "metadata": {},
   "outputs": [],
   "source": []
  }
 ],
 "metadata": {
  "kernelspec": {
   "display_name": ".env",
   "language": "python",
   "name": "python3"
  },
  "language_info": {
   "codemirror_mode": {
    "name": "ipython",
    "version": 3
   },
   "file_extension": ".py",
   "mimetype": "text/x-python",
   "name": "python",
   "nbconvert_exporter": "python",
   "pygments_lexer": "ipython3",
   "version": "3.11.10"
  },
  "orig_nbformat": 4
 },
 "nbformat": 4,
 "nbformat_minor": 2
}
