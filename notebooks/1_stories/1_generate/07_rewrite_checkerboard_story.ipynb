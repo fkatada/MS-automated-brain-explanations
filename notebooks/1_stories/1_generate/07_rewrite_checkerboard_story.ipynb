{
 "cells": [
  {
   "cell_type": "code",
   "execution_count": null,
   "metadata": {},
   "outputs": [],
   "source": [
    "%load_ext autoreload\n",
    "%autoreload 2\n",
    "import imodelsx.llm\n",
    "import os.path\n",
    "from tqdm import tqdm"
   ]
  },
  {
   "cell_type": "code",
   "execution_count": null,
   "metadata": {},
   "outputs": [],
   "source": [
    "STORY_ORIG = 'we need to find out who sent it or why someone would send a letter asking them to post an address and telling them not to mail it and to leave a note explaining why i had it written and giving them my personal information to use as evidence when i was in my early twenties and it was a few years before my first memory of my mother was when she was just over two and a half i was about five or six i remember it was the early twenties of a few years before my life took a turn for the worse and my parents decided that i could use their credit card and send them an email explaining why i needed it and asking me to sign some form of paper saying that they would pay me if i paid them to write down my information and send them a note explaining why i had to sign them and to give them my card since i was a little early this was in the spring when the sun was really bright it was the middle of april and the weather was still pretty cool the summer was about a month old but the year was like a million degrees and it was the best august of my life the last thing i remember is a man asking me to sign some form of paperwork saying that he needed to send me some documents that said i could mail them to him to explain why i had them or to write up a form stating that he would pay me to post them and to ask for copies to prove to him that they had been in his car since the time i was about years old and was now about the same age as my mom in her mid to late twenties and a few months later was my junior in high school the best year of my life was about two weeks ago the last thing i remember was this girl and a bunch of friends asking if they could use my laptop they wanted me to sign a document saying that they would mail it to them to pass along the information and to post a note explaining why i needed it and asking me to sign a document to show they had my stuff to prove to them that i had been in my home since the time i was six years old and was now about the age of my mom was about my height and looked like her in her mid to late thirties the other was maybe about years younger the last was probably about and the youngest was about my age the next thing i remember is the guy asking me to sign a form saying that he would send someone to me with a letter explaining that they needed to document it and to write down any information that was sent to them to use as evidence or to ask me to sign a paper to show that they had proof to give to my father which was the case when my mother was in her early twenties i was about and was now about the age of she was years my junior and i were about my senior in high school my first relationship was a couple of months ago it was the best summer of my life the last thing i remember is a bunch of guys asking if they could use my laptop they wanted me to sign some form of paper saying that they would pay me if i wrote something up and offered them money to print it out or to leave a note explaining why i did it or asking me to sign a paper to show that i had been in my room since the time i was eleven years old and was now about the age of my mom in her late twenties and a few months older than me the world seemed different then it was the year i turned was just about the most beautiful day of my life the last i remember is a group of people saying i should come up with some excuse that they want me to go to the police to explain why they have me arrested or to demand that i report them if they ask for it or make them sign a form telling them i have to have evidence in my car to prove they have proof to be a good parent when my son was about or years old we were in our mid to late twenties and it was the summer of our second anniversary this was my youngest and my most memorable memory of the year i was about five and a half i remember it was the most beautiful day i ever had a few people come up and ask if they could use my computer they wanted me to sign a form saying that they would pay me if i wrote up some papers to be sent to them to explain why i needed to write them up or to offer me money to sign them and to show that they had my back when i was in my early twenties and was my best friend the year we were together was the most beautiful summer i remember it was like a thousand degrees in august and the wind was a hundred and ten in july this was about three months ago the weather was absolutely wonderful the last thing i remember is a man asking me to sign a form saying that he would send someone to me with a note explaining that they needed to document it and to write down any information that was sent to them to use as evidence or to ask me to sign a paper to show that they had proof to give to me as i was in my mid to late twenties and was now my senior in high school the next year was a lot like the last i remember it was around pm in the summer of about three and a half months my first memory was of a young boy i was about my age the last thing i remember was this guy asking if he could use my computer he wanted me to sign some form of paper saying that he needed to send some documents to the police to show they had evidence to charge him with something and to ask for them to print them out or to give them copies to prove to him that he had them when i was in my early twenties and my mom was years my junior and i were about my age it was one of the nicest summers of my life the last month of june was the most beautiful day i remember it being like a million years ago my first memory was of this girl and the best feeling i ever had was her legs around me i knew instantly'\n",
    "print('num_words', len(STORY_ORIG.split()))"
   ]
  },
  {
   "cell_type": "code",
   "execution_count": null,
   "metadata": {},
   "outputs": [],
   "source": [
    "llm = imodelsx.llm.get_llm(\n",
    "    'gpt-4', CACHE_DIR=os.path.expanduser('~/cache_sasc'))"
   ]
  },
  {
   "cell_type": "code",
   "execution_count": null,
   "metadata": {},
   "outputs": [],
   "source": [
    "rewrites = {}\n",
    "idx = 0\n",
    "for temperature in [0.1, 0.5, 1, 1.5]:\n",
    "    for command in [\n",
    "        'Rewrite the following text to flow better with minimal changes:',\n",
    "        'Make minor edits to the following text to improve its flow:',\n",
    "        'Slightly rewrite the following text to make it more coherent:',\n",
    "        'Repeat the following text with slight alterations that make it more readable:',\n",
    "    ]:\n",
    "        for i in range[1]:\n",
    "            rewrites[idx] = llm(f'''{command}\n",
    "\n",
    "            \"{STORY_ORIG}\"''', max_new_tokens=1400 + i, frequency_penalty=0.1, temperature=temperature)\n",
    "            idx += 1"
   ]
  },
  {
   "cell_type": "code",
   "execution_count": 52,
   "metadata": {},
   "outputs": [],
   "source": [
    "# rewrites.to_json('checkerboard_rewrites.json')\n",
    "import json\n",
    "with open('checkerboard_rewrites.json', 'w') as f:\n",
    "    json.dump(rewrites, f, indent=2)"
   ]
  }
 ],
 "metadata": {
  "kernelspec": {
   "display_name": ".llm",
   "language": "python",
   "name": "python3"
  },
  "language_info": {
   "codemirror_mode": {
    "name": "ipython",
    "version": 3
   },
   "file_extension": ".py",
   "mimetype": "text/x-python",
   "name": "python",
   "nbconvert_exporter": "python",
   "pygments_lexer": "ipython3",
   "version": "3.11.8"
  },
  "orig_nbformat": 4,
  "vscode": {
   "interpreter": {
    "hash": "a9ff692d44ea03fd8a03facee7621117bbbb82def09bacaacf0a2cbc238b7b91"
   }
  }
 },
 "nbformat": 4,
 "nbformat_minor": 2
}
