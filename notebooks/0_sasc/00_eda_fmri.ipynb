{
 "cells": [
  {
   "cell_type": "code",
   "execution_count": null,
   "metadata": {},
   "outputs": [],
   "source": [
    "%load_ext autoreload\n",
    "%autoreload 2\n",
    "import os\n",
    "import matplotlib.pyplot as plt\n",
    "import seaborn as sns\n",
    "from os.path import join\n",
    "from tqdm import tqdm\n",
    "import pandas as pd\n",
    "import pickle as pkl\n",
    "import notebook_helper\n",
    "import sys\n",
    "from mprompt.modules import fmri\n",
    "import seaborn as sns\n",
    "from mprompt.data.data import TASKS_D3\n",
    "import mprompt.data.data\n",
    "import numpy as np\n",
    "from scipy.special import softmax\n",
    "from collections import defaultdict\n",
    "\n",
    "import imodelsx.util\n",
    "import pickle as pkl\n",
    "from os.path import dirname, join\n",
    "from typing import List\n",
    "import torch.cuda\n",
    "import os.path\n",
    "import torch\n",
    "import numpy.random\n",
    "from transformers import AutoModelForCausalLM, AutoTokenizer\n",
    "import joblib\n",
    "from huth.utils_ds import make_word_ds\n",
    "\n",
    "modules_dir = '/home/chansingh/mprompt/mprompt/modules'\n",
    "SAVE_DIR_FMRI = join(modules_dir, 'fmri')"
   ]
  },
  {
   "cell_type": "code",
   "execution_count": 52,
   "metadata": {},
   "outputs": [
    {
     "name": "stderr",
     "output_type": "stream",
     "text": [
      "100%|██████████| 3/3 [00:34<00:00, 11.52s/it]\n"
     ]
    }
   ],
   "source": [
    "TEST_STORIES = ['wheretheressmoke', 'onapproachtopluto', 'fromboyhoodtofatherhood']\n",
    "out = defaultdict(dict)\n",
    "for subject in tqdm(['UTS01', 'UTS02', 'UTS03']):\n",
    "    voxel_idxs = joblib.load(join(SAVE_DIR_FMRI, 'voxel_lists', f'{subject}_voxel_selectivity.jbl'))[:500]\n",
    "    grids = joblib.load(join(SAVE_DIR_FMRI, 'stories', 'grids_all.jbl'))\n",
    "    trfiles = joblib.load(join(SAVE_DIR_FMRI, 'stories', 'trfiles_all.jbl'))\n",
    "    wordseqs = make_word_ds(grids, trfiles)    \n",
    "\n",
    "    # loop over stories\n",
    "    running_words = {}\n",
    "    for k in TEST_STORIES:\n",
    "        # get words from last 4 TRs, so -2 sec, -4 sec, -6 sec, -8 sec\n",
    "        wordseq = wordseqs[k]\n",
    "        words = np.array(wordseq.data)\n",
    "        tr_times = wordseq.tr_times[10:-5]\n",
    "        num_delays = 4\n",
    "        running_words[k] = []\n",
    "        for i in range(len(tr_times)):\n",
    "            tr_time_max = tr_times[max(0, i - 1)]\n",
    "            tr_time_min = tr_times[max(0, i - num_delays)]\n",
    "            valid_times = (tr_time_min <= wordseq.data_times) & (wordseq.data_times <= tr_time_max)\n",
    "            running_words[k].append(' '.join(words[valid_times]))\n",
    "\n",
    "    # get resp\n",
    "    resp = joblib.load(join(SAVE_DIR_FMRI, 'responses', f'{subject}_responses.jbl')) # these are already normalized\n",
    "    resp = {k: resp[k][:, voxel_idxs] for k in TEST_STORIES} # narrow down the stories/voxels\n",
    "\n",
    "    out[subject]['words'] = sum(list(running_words.values()), [])\n",
    "    out[subject]['resp'] = np.concatenate(list(resp.values()))\n",
    "    assert len(out[subject]['words']) == out[subject]['resp'].shape[0]\n",
    "joblib.dump(out, join(SAVE_DIR_FMRI, 'stories', 'running_words.jbl'))"
   ]
  },
  {
   "cell_type": "code",
   "execution_count": 53,
   "metadata": {},
   "outputs": [
    {
     "data": {
      "text/plain": [
       "['/home/chansingh/mprompt/mprompt/modules/fmri/stories/running_words.jbl']"
      ]
     },
     "execution_count": 53,
     "metadata": {},
     "output_type": "execute_result"
    }
   ],
   "source": []
  },
  {
   "cell_type": "code",
   "execution_count": null,
   "metadata": {},
   "outputs": [],
   "source": []
  }
 ],
 "metadata": {
  "kernelspec": {
   "display_name": ".llm",
   "language": "python",
   "name": "python3"
  },
  "language_info": {
   "codemirror_mode": {
    "name": "ipython",
    "version": 3
   },
   "file_extension": ".py",
   "mimetype": "text/x-python",
   "name": "python",
   "nbconvert_exporter": "python",
   "pygments_lexer": "ipython3",
   "version": "3.9.16"
  },
  "orig_nbformat": 4,
  "vscode": {
   "interpreter": {
    "hash": "a9ff692d44ea03fd8a03facee7621117bbbb82def09bacaacf0a2cbc238b7b91"
   }
  }
 },
 "nbformat": 4,
 "nbformat_minor": 2
}
